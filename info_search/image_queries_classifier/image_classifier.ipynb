{
 "cells": [
  {
   "cell_type": "code",
   "execution_count": 111,
   "metadata": {},
   "outputs": [],
   "source": [
    "import pandas as pd\n",
    "import numpy as np\n",
    "from sklearn.model_selection import train_test_split\n",
    "from sklearn.linear_model import LogisticRegression\n",
    "from sklearn.feature_extraction.text import CountVectorizer\n",
    "from sklearn.feature_extraction.text import TfidfTransformer\n",
    "import sklearn.metrics"
   ]
  },
  {
   "cell_type": "code",
   "execution_count": 97,
   "metadata": {},
   "outputs": [
    {
     "name": "stdout",
     "output_type": "stream",
     "text": [
      "17994\n"
     ]
    },
    {
     "data": {
      "text/plain": [
       "['холодовая крапивница',\n",
       " '{searchTerms}',\n",
       " 'гематокритная трубка',\n",
       " 'карта россии с реками и морями',\n",
       " 'иван дорн фото семья',\n",
       " 'дворяне 17в',\n",
       " 'винтажные картинки бабочки  для декупажа',\n",
       " 'черчиль',\n",
       " 'scott russell sanders essay',\n",
       " 'Suspender Nylon site: .us .php sid']"
      ]
     },
     "execution_count": 97,
     "metadata": {},
     "output_type": "execute_result"
    }
   ],
   "source": [
    "images_filename = 'queries/image_queries.txt'\n",
    "images = pd.read_csv(images_filename, delimiter = \"\\t\", header=None)[0].tolist()\n",
    "filter(None, images)\n",
    "print(len(images))\n",
    "images[:10]"
   ]
  },
  {
   "cell_type": "code",
   "execution_count": 106,
   "metadata": {},
   "outputs": [
    {
     "name": "stdout",
     "output_type": "stream",
     "text": [
      "99711\n"
     ]
    },
    {
     "data": {
      "text/plain": [
       "['ажурные узоры спицами',\n",
       " 'Duyerli',\n",
       " 'гост17608 91',\n",
       " 'гдз по математике 6 класс виленкин',\n",
       " 'детская общественная организация',\n",
       " 'oscillator de onda triangular con 741',\n",
       " 'фильмы 2016',\n",
       " 'россия швеция онлайн трансляция',\n",
       " 'домашние животные картинки',\n",
       " 'придумайте японское хокку о горе']"
      ]
     },
     "execution_count": 106,
     "metadata": {},
     "output_type": "execute_result"
    }
   ],
   "source": [
    "web_filename = 'queries/web_queries.txt'\n",
    "notimages = pd.read_csv(web_filename, delimiter = \"\\t\", header=None)[0].tolist()\n",
    "filter(np.isnan, notimages)\n",
    "\n",
    "del notimages[606]\n",
    "print(len(notimages))\n",
    "\n",
    "notimages[:10]"
   ]
  },
  {
   "cell_type": "code",
   "execution_count": 108,
   "metadata": {},
   "outputs": [
    {
     "data": {
      "text/plain": [
       "(17994, 99711, 117705)"
      ]
     },
     "execution_count": 108,
     "metadata": {},
     "output_type": "execute_result"
    }
   ],
   "source": [
    "# dataset = {}\n",
    "# dataset['X'] = list(images.copy())\n",
    "# dataset['X'].extend(list(notimages))\n",
    "# dataset['y'] = [1]*len(images)\n",
    "# dataset['y'].extend([0]*len(notimages))\n",
    "\n",
    "# df = pd.DataFrame(dataset, index=None)\n",
    "X = []\n",
    "X = images.copy()\n",
    "X.extend(notimages)\n",
    "y = [1]*len(images)\n",
    "y.extend([0]*len(notimages))\n",
    "\n",
    "len(images), len(notimages), len(X)"
   ]
  },
  {
   "cell_type": "code",
   "execution_count": 112,
   "metadata": {},
   "outputs": [
    {
     "name": "stdout",
     "output_type": "stream",
     "text": [
      "117705\n"
     ]
    },
    {
     "data": {
      "text/plain": [
       "(117705, 77117)"
      ]
     },
     "execution_count": 112,
     "metadata": {},
     "output_type": "execute_result"
    }
   ],
   "source": [
    "count_vect = CountVectorizer()\n",
    "for i, rec in enumerate(X):\n",
    "    if rec is np.nan:\n",
    "        print(i, rec)\n",
    "print(len(X))\n",
    "X_counts = count_vect.fit_transform(X)\n",
    "X_counts.shape"
   ]
  },
  {
   "cell_type": "code",
   "execution_count": 114,
   "metadata": {},
   "outputs": [
    {
     "data": {
      "text/plain": [
       "(117705, 77117)"
      ]
     },
     "execution_count": 114,
     "metadata": {},
     "output_type": "execute_result"
    }
   ],
   "source": [
    "tfidf_transformer = TfidfTransformer()\n",
    "X_tfidf = tfidf_transformer.fit_transform(X_counts)\n",
    "X_tfidf.shape"
   ]
  },
  {
   "cell_type": "code",
   "execution_count": 115,
   "metadata": {},
   "outputs": [],
   "source": [
    "X_train, X_test, y_train, y_test = train_test_split(X_tfidf, y, test_size=0.2, random_state=1)"
   ]
  },
  {
   "cell_type": "code",
   "execution_count": 116,
   "metadata": {},
   "outputs": [],
   "source": [
    "clas = LogisticRegression()"
   ]
  },
  {
   "cell_type": "code",
   "execution_count": 117,
   "metadata": {},
   "outputs": [
    {
     "name": "stderr",
     "output_type": "stream",
     "text": [
      "/Users/irina/.pyenv/versions/3.7.0/lib/python3.7/site-packages/sklearn/linear_model/logistic.py:433: FutureWarning: Default solver will be changed to 'lbfgs' in 0.22. Specify a solver to silence this warning.\n",
      "  FutureWarning)\n"
     ]
    },
    {
     "data": {
      "text/plain": [
       "LogisticRegression(C=1.0, class_weight=None, dual=False, fit_intercept=True,\n",
       "          intercept_scaling=1, max_iter=100, multi_class='warn',\n",
       "          n_jobs=None, penalty='l2', random_state=None, solver='warn',\n",
       "          tol=0.0001, verbose=0, warm_start=False)"
      ]
     },
     "execution_count": 117,
     "metadata": {},
     "output_type": "execute_result"
    }
   ],
   "source": [
    "clas.fit(X_train, y_train)"
   ]
  },
  {
   "cell_type": "code",
   "execution_count": 122,
   "metadata": {},
   "outputs": [
    {
     "data": {
      "text/plain": [
       "0.8556454696062189"
      ]
     },
     "execution_count": 122,
     "metadata": {},
     "output_type": "execute_result"
    }
   ],
   "source": [
    "clas.score(X_train, y_train)"
   ]
  },
  {
   "cell_type": "code",
   "execution_count": 123,
   "metadata": {},
   "outputs": [
    {
     "data": {
      "text/plain": [
       "0.8359882757741812"
      ]
     },
     "execution_count": 123,
     "metadata": {},
     "output_type": "execute_result"
    }
   ],
   "source": [
    "clas.score(X_test, y_test)"
   ]
  },
  {
   "cell_type": "code",
   "execution_count": 126,
   "metadata": {},
   "outputs": [
    {
     "name": "stdout",
     "output_type": "stream",
     "text": [
      "(2, 77117)\n"
     ]
    },
    {
     "data": {
      "text/plain": [
       "(2, 77117)"
      ]
     },
     "execution_count": 126,
     "metadata": {},
     "output_type": "execute_result"
    }
   ],
   "source": [
    "queries = ['сайт знакомств', 'генеалогическое древо']\n",
    "q_counts = count_vect.transform(queries)\n",
    "q_tfidf = tfidf_transformer.transform(q_counts)\n",
    "q_tfidf.shape"
   ]
  },
  {
   "cell_type": "code",
   "execution_count": 127,
   "metadata": {},
   "outputs": [
    {
     "data": {
      "text/plain": [
       "array([[0.97445163, 0.02554837],\n",
       "       [0.71956578, 0.28043422]])"
      ]
     },
     "execution_count": 127,
     "metadata": {},
     "output_type": "execute_result"
    }
   ],
   "source": [
    "clas.predict_proba(q_tfidf)"
   ]
  },
  {
   "cell_type": "code",
   "execution_count": 130,
   "metadata": {},
   "outputs": [
    {
     "name": "stdout",
     "output_type": "stream",
     "text": [
      "[[0.75209527 0.24790473]\n",
      " [0.68784733 0.31215267]\n",
      " [0.78184827 0.21815173]\n",
      " ...\n",
      " [0.77120723 0.22879277]\n",
      " [0.48136952 0.51863048]\n",
      " [0.50215312 0.49784688]]\n",
      "шоу голос 4 сезон смотреть онлайн в хорошем качестве 1 канал\n"
     ]
    }
   ],
   "source": [
    "# самый некартиночный из картиночных\n",
    "q_counts = count_vect.transform(images)\n",
    "q_tfidf = tfidf_transformer.transform(q_counts)\n",
    "q_tfidf.shape\n",
    "images_probs = clas.predict_proba(q_tfidf)\n",
    "print(images_probs)\n",
    "max_ind = 0\n",
    "for i, arr in enumerate(images_probs):\n",
    "    if arr[0] > images_probs[max_ind][0]:\n",
    "        max_ind = i\n",
    "print(images[max_ind])"
   ]
  },
  {
   "cell_type": "code",
   "execution_count": 132,
   "metadata": {},
   "outputs": [
    {
     "name": "stdout",
     "output_type": "stream",
     "text": [
      "[[0.49431327 0.50568673]\n",
      " [0.86738072 0.13261928]\n",
      " [0.85975281 0.14024719]\n",
      " ...\n",
      " [0.96662372 0.03337628]\n",
      " [0.93891364 0.06108636]\n",
      " [0.9572518  0.0427482 ]]\n",
      "фото\n"
     ]
    }
   ],
   "source": [
    "# самый картиночный из некартиночных\n",
    "q_counts = count_vect.transform(notimages)\n",
    "q_tfidf = tfidf_transformer.transform(q_counts)\n",
    "q_tfidf.shape\n",
    "images_probs = clas.predict_proba(q_tfidf)\n",
    "print(images_probs)\n",
    "max_ind = 0\n",
    "for i, arr in enumerate(images_probs):\n",
    "    if arr[1] > images_probs[max_ind][1]:\n",
    "        max_ind = i\n",
    "print(notimages[max_ind])"
   ]
  },
  {
   "cell_type": "code",
   "execution_count": null,
   "metadata": {},
   "outputs": [],
   "source": []
  }
 ],
 "metadata": {
  "kernelspec": {
   "display_name": "Python 3",
   "language": "python",
   "name": "python3"
  },
  "language_info": {
   "codemirror_mode": {
    "name": "ipython",
    "version": 3
   },
   "file_extension": ".py",
   "mimetype": "text/x-python",
   "name": "python",
   "nbconvert_exporter": "python",
   "pygments_lexer": "ipython3",
   "version": "3.7.0"
  }
 },
 "nbformat": 4,
 "nbformat_minor": 2
}
