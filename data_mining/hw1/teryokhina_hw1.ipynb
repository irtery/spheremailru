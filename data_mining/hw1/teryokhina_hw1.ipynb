{
 "cells": [
  {
   "cell_type": "markdown",
   "metadata": {},
   "source": [
    "**Общая информация**\n",
    "\n",
    "**Срок сдачи:** 18 октября 2017, 06:00 <br\\>\n",
    "**Штраф за опоздание:** -2 балла после 06:00 18 октября, -4 балла после 06:00 25 октября, -6 баллов после 06:00 1 ноября\n",
    "\n",
    "При отправлении ДЗ указывайте фамилию в названии файла\n",
    "Присылать ДЗ необходимо в виде ссылки на свой github репозиторий в slack @alkhamush\n",
    "\n",
    "Необходимо в slack создать таск в приватный чат:\n",
    "/todo Фамилия Имя ссылка на гитхаб @alkhamush\n",
    "Пример:\n",
    "/todo Ксения Стройкова https://github.com/stroykova/spheremailru/stroykova_hw1.ipynb @alkhamush\n",
    "Дополнительно нужно просто скинуть ссылку в slack в личный чат\n",
    "\n",
    "Используйте данный Ipython Notebook при оформлении домашнего задания."
   ]
  },
  {
   "cell_type": "markdown",
   "metadata": {},
   "source": [
    "###### Задание 1 (2 баллов)\n",
    "Реализовать KNN в классе MyKNeighborsClassifier (обязательное условие: точность не ниже sklearn реализации)\n",
    "Разберитесь самостоятельно, какая мера расстояния используется в KNeighborsClassifier дефолтно и реализуйте свой алгоритм именно с этой мерой. Самостоятельно разберитесь, как считается score из KNeighborsClassifier и реализуйте аналог в своём классе. Score не должен уступать значению KNN из sklearn\n",
    "\n",
    "###### Задание 2 (2 балла)\n",
    "Добиться скорости работы на fit,  predict и predict_proba сравнимой со sklearn для iris и mnist\n",
    "Для этого используем numpy\n",
    "\n",
    "###### Задание 3 (2 балла)\n",
    "Для iris найдите такой параметр n_neighbors, при котором выдаётся наилучший score. Нарисуйте график зависимости score от n_neighbors\n",
    "\n",
    "###### Задание 4 (3 балла)\n",
    "Добавить algorithm='kd_tree' в реализацию KNN (использовать KDTree из sklearn.neighbors). Значение n_neighbors нужно взять из задания 3. Добиться скорости работы на fit,  predict и predict_proba сравнимой со sklearn для iris и mnist\n",
    "Для этого используем numpy. Score не должен уступать значению KNN из sklearn\n",
    "\n",
    "###### Задание 5 (1 балла)\n",
    "Описать для чего нужны следующие библиотеки/классы/функции (список будет ниже)\n",
    "\n",
    "**Штрафные баллы:**\n",
    "\n",
    "1. Невыполнение PEP8 -1 балл\n",
    "2. Отсутствие фамилии в имени скрипта (скрипт должен называться по аналогии со stroykova_hw1.ipynb) -1 балл\n",
    "3. Все строчки должны быть выполнены. Нужно, чтобы output команды можно было увидеть уже в git'е. В противном случае -1 балл\n",
    "4. При оформлении ДЗ нужно пользоваться данным файлом в качестве шаблона. Не нужно удалять и видоизменять структуру кода и текст. В противном случае -1 балл\n"
   ]
  },
  {
   "cell_type": "code",
   "execution_count": 1,
   "metadata": {},
   "outputs": [],
   "source": [
    "import numpy as np\n",
    "import matplotlib.pyplot as plt\n",
    "import seaborn as sns\n",
    "from sklearn import datasets, metrics\n",
    "from sklearn.base import ClassifierMixin\n",
    "from sklearn.datasets import fetch_mldata\n",
    "from sklearn.neighbors.base import NeighborsBase, KNeighborsMixin, SupervisedIntegerMixin \n",
    "from sklearn.model_selection import train_test_split\n",
    "from sklearn.neighbors import KNeighborsClassifier, KDTree\n",
    "%load_ext pycodestyle_magic"
   ]
  },
  {
   "cell_type": "code",
   "execution_count": 2,
   "metadata": {},
   "outputs": [],
   "source": [
    "#%%pycodestyle\n",
    "\n",
    "\n",
    "class MyKNeighborsClassifier(NeighborsBase, KNeighborsMixin,\n",
    "                             SupervisedIntegerMixin, ClassifierMixin):\n",
    "\n",
    "    def __init__(self, n_neighbors, algorithm='brute'):\n",
    "        self.n_neighbors = n_neighbors\n",
    "        self.algorithm = algorithm\n",
    "\n",
    "    def fit(self, X, y):\n",
    "        self.X_train = np.array(X).astype('float64')\n",
    "        self.y_train = np.array(y).astype('int64')\n",
    "        self.classes = np.unique(y)\n",
    "        if self.algorithm == 'kd_tree':\n",
    "            self.tree = KDTree(self.X_train)\n",
    "        return self\n",
    "\n",
    "    def predict(self, X):\n",
    "        X = np.array(X).astype('float64')\n",
    "        return np.apply_along_axis(self._argmax, 1, self._kneighbors(X))\n",
    "\n",
    "    def predict_proba(self, X):\n",
    "        X = np.array(X).astype('float64')\n",
    "        return np.apply_along_axis(self._probability, 1, self._kneighbors(X))\n",
    "\n",
    "    def score(self, X, y):\n",
    "        return (self.predict(X) == y).mean()\n",
    "\n",
    "    def _kneighbors(self, X):\n",
    "        if self.algorithm == 'brute':\n",
    "            distances = metrics.pairwise_distances(X, self.X_train)\n",
    "            n_neighbors_indexes = np.argsort(distances)[:, :self.n_neighbors]\n",
    "        if self.algorithm == 'kd_tree':\n",
    "            _, n_neighbors_indexes = self.tree.query(X, k=self.n_neighbors)\n",
    "        return self.y_train[n_neighbors_indexes].astype('int64')\n",
    "\n",
    "    def _argmax(self, array):\n",
    "        return np.bincount(array).argmax()\n",
    "\n",
    "    def _probability(self, array):\n",
    "        classes_distr = np.bincount(array, minlength=len(self.classes))\n",
    "        return classes_distr / self.n_neighbors\n"
   ]
  },
  {
   "cell_type": "markdown",
   "metadata": {},
   "source": [
    "**IRIS**"
   ]
  },
  {
   "cell_type": "code",
   "execution_count": 3,
   "metadata": {},
   "outputs": [],
   "source": [
    "iris = datasets.load_iris()"
   ]
  },
  {
   "cell_type": "code",
   "execution_count": 4,
   "metadata": {},
   "outputs": [],
   "source": [
    "X_train, X_test, y_train, y_test = train_test_split(iris.data, iris.target, test_size=0.1, stratify=iris.target)"
   ]
  },
  {
   "cell_type": "code",
   "execution_count": 5,
   "metadata": {},
   "outputs": [],
   "source": [
    "clf = KNeighborsClassifier(n_neighbors=2)\n",
    "my_clf = MyKNeighborsClassifier(n_neighbors=2)"
   ]
  },
  {
   "cell_type": "code",
   "execution_count": 6,
   "metadata": {},
   "outputs": [
    {
     "name": "stdout",
     "output_type": "stream",
     "text": [
      "CPU times: user 1.23 ms, sys: 912 µs, total: 2.14 ms\n",
      "Wall time: 1.45 ms\n"
     ]
    },
    {
     "data": {
      "text/plain": [
       "KNeighborsClassifier(algorithm='auto', leaf_size=30, metric='minkowski',\n",
       "           metric_params=None, n_jobs=None, n_neighbors=2, p=2,\n",
       "           weights='uniform')"
      ]
     },
     "execution_count": 6,
     "metadata": {},
     "output_type": "execute_result"
    }
   ],
   "source": [
    "%time clf.fit(X_train, y_train)"
   ]
  },
  {
   "cell_type": "code",
   "execution_count": 7,
   "metadata": {},
   "outputs": [
    {
     "name": "stdout",
     "output_type": "stream",
     "text": [
      "CPU times: user 145 µs, sys: 66 µs, total: 211 µs\n",
      "Wall time: 170 µs\n"
     ]
    },
    {
     "data": {
      "text/plain": [
       "MyKNeighborsClassifier(algorithm='brute', n_neighbors=2)"
      ]
     },
     "execution_count": 7,
     "metadata": {},
     "output_type": "execute_result"
    }
   ],
   "source": [
    "%time my_clf.fit(X_train, y_train)"
   ]
  },
  {
   "cell_type": "code",
   "execution_count": 8,
   "metadata": {},
   "outputs": [
    {
     "name": "stdout",
     "output_type": "stream",
     "text": [
      "CPU times: user 1.35 ms, sys: 433 µs, total: 1.79 ms\n",
      "Wall time: 1.53 ms\n"
     ]
    },
    {
     "data": {
      "text/plain": [
       "array([1, 1, 2, 1, 0, 0, 1, 2, 0, 2, 1, 2, 0, 1, 0])"
      ]
     },
     "execution_count": 8,
     "metadata": {},
     "output_type": "execute_result"
    }
   ],
   "source": [
    "%time clf.predict(X_test)"
   ]
  },
  {
   "cell_type": "code",
   "execution_count": 9,
   "metadata": {},
   "outputs": [
    {
     "name": "stdout",
     "output_type": "stream",
     "text": [
      "CPU times: user 2.04 ms, sys: 1.62 ms, total: 3.66 ms\n",
      "Wall time: 2.2 ms\n"
     ]
    },
    {
     "data": {
      "text/plain": [
       "array([1, 1, 2, 1, 0, 0, 1, 2, 0, 2, 1, 2, 0, 1, 0])"
      ]
     },
     "execution_count": 9,
     "metadata": {},
     "output_type": "execute_result"
    }
   ],
   "source": [
    "%time my_clf.predict(X_test)"
   ]
  },
  {
   "cell_type": "code",
   "execution_count": 10,
   "metadata": {},
   "outputs": [
    {
     "name": "stdout",
     "output_type": "stream",
     "text": [
      "CPU times: user 1.39 ms, sys: 442 µs, total: 1.83 ms\n",
      "Wall time: 1.46 ms\n"
     ]
    },
    {
     "data": {
      "text/plain": [
       "array([[0., 1., 0.],\n",
       "       [0., 1., 0.],\n",
       "       [0., 0., 1.],\n",
       "       [0., 1., 0.],\n",
       "       [1., 0., 0.],\n",
       "       [1., 0., 0.],\n",
       "       [0., 1., 0.],\n",
       "       [0., 0., 1.],\n",
       "       [1., 0., 0.],\n",
       "       [0., 0., 1.],\n",
       "       [0., 1., 0.],\n",
       "       [0., 0., 1.],\n",
       "       [1., 0., 0.],\n",
       "       [0., 1., 0.],\n",
       "       [1., 0., 0.]])"
      ]
     },
     "execution_count": 10,
     "metadata": {},
     "output_type": "execute_result"
    }
   ],
   "source": [
    "%time clf.predict_proba(X_test)"
   ]
  },
  {
   "cell_type": "code",
   "execution_count": 11,
   "metadata": {},
   "outputs": [
    {
     "name": "stdout",
     "output_type": "stream",
     "text": [
      "CPU times: user 1.52 ms, sys: 763 µs, total: 2.28 ms\n",
      "Wall time: 1.52 ms\n"
     ]
    },
    {
     "data": {
      "text/plain": [
       "array([[0., 1., 0.],\n",
       "       [0., 1., 0.],\n",
       "       [0., 0., 1.],\n",
       "       [0., 1., 0.],\n",
       "       [1., 0., 0.],\n",
       "       [1., 0., 0.],\n",
       "       [0., 1., 0.],\n",
       "       [0., 0., 1.],\n",
       "       [1., 0., 0.],\n",
       "       [0., 0., 1.],\n",
       "       [0., 1., 0.],\n",
       "       [0., 0., 1.],\n",
       "       [1., 0., 0.],\n",
       "       [0., 1., 0.],\n",
       "       [1., 0., 0.]])"
      ]
     },
     "execution_count": 11,
     "metadata": {},
     "output_type": "execute_result"
    }
   ],
   "source": [
    "%time my_clf.predict_proba(X_test)"
   ]
  },
  {
   "cell_type": "code",
   "execution_count": 12,
   "metadata": {},
   "outputs": [
    {
     "data": {
      "text/plain": [
       "0.9333333333333333"
      ]
     },
     "execution_count": 12,
     "metadata": {},
     "output_type": "execute_result"
    }
   ],
   "source": [
    "clf.score(X_test, y_test)"
   ]
  },
  {
   "cell_type": "code",
   "execution_count": 13,
   "metadata": {},
   "outputs": [
    {
     "data": {
      "text/plain": [
       "0.9333333333333333"
      ]
     },
     "execution_count": 13,
     "metadata": {},
     "output_type": "execute_result"
    }
   ],
   "source": [
    "my_clf.score(X_test, y_test)"
   ]
  },
  {
   "cell_type": "markdown",
   "metadata": {},
   "source": [
    "Задание 3"
   ]
  },
  {
   "cell_type": "code",
   "execution_count": 14,
   "metadata": {},
   "outputs": [
    {
     "name": "stdout",
     "output_type": "stream",
     "text": [
      "Best k: 20 with score: 0.9925925925925926\n"
     ]
    },
    {
     "data": {
      "text/plain": [
       "<matplotlib.axes._subplots.AxesSubplot at 0x114b1c438>"
      ]
     },
     "execution_count": 14,
     "metadata": {},
     "output_type": "execute_result"
    },
    {
     "data": {
      "image/png": "[encoded data removed]",
      "text/plain": [
       "<Figure size 1296x792 with 1 Axes>"
      ]
     },
     "metadata": {
      "needs_background": "light"
     },
     "output_type": "display_data"
    }
   ],
   "source": [
    "tests_count = 10\n",
    "max_neighbours_count = 50\n",
    "\n",
    "best_score = 0.0\n",
    "best_k = 0\n",
    "k_result = []\n",
    "\n",
    "for k in range(1, max_neighbours_count + 1):\n",
    "    test_result = []\n",
    "    for test in range(1, tests_count):\n",
    "        X_train, X_test, y_train, y_test = train_test_split(iris.data,\n",
    "                                                            iris.target, test_size=0.1, stratify=iris.target)\n",
    "        my_clf = MyKNeighborsClassifier(n_neighbors=k)\n",
    "        my_clf.fit(X_train, y_train)\n",
    "        test_result.append(my_clf.score(X_test, y_test))\n",
    "    test_mean = np.mean(test_result)\n",
    "    k_result.append(test_mean)\n",
    "    if best_score < test_mean:\n",
    "        best_score = test_mean\n",
    "        best_k = k\n",
    "    \n",
    "print(\"Best k:\", best_k, \"with score:\", best_score)\n",
    "\n",
    "fig = plt.figure(figsize=(18,11))\n",
    "ax1 = fig.add_subplot(221)\n",
    "sns.lineplot(x=range(1, max_neighbours_count + 1), y=k_result)\n"
   ]
  },
  {
   "cell_type": "markdown",
   "metadata": {},
   "source": [
    "**MNIST**"
   ]
  },
  {
   "cell_type": "code",
   "execution_count": 15,
   "metadata": {},
   "outputs": [
    {
     "name": "stderr",
     "output_type": "stream",
     "text": [
      "/Users/irina/homebrew/lib/python3.7/site-packages/sklearn/utils/deprecation.py:77: DeprecationWarning: Function fetch_mldata is deprecated; fetch_mldata was deprecated in version 0.20 and will be removed in version 0.22\n",
      "  warnings.warn(msg, category=DeprecationWarning)\n",
      "/Users/irina/homebrew/lib/python3.7/site-packages/sklearn/utils/deprecation.py:77: DeprecationWarning: Function mldata_filename is deprecated; mldata_filename was deprecated in version 0.20 and will be removed in version 0.22\n",
      "  warnings.warn(msg, category=DeprecationWarning)\n"
     ]
    }
   ],
   "source": [
    "mnist = fetch_mldata('MNIST original')"
   ]
  },
  {
   "cell_type": "code",
   "execution_count": 16,
   "metadata": {},
   "outputs": [],
   "source": [
    "X_train, X_test, y_train, y_test = train_test_split(mnist.data, mnist.target, test_size=0.01, stratify=mnist.target)"
   ]
  },
  {
   "cell_type": "code",
   "execution_count": 17,
   "metadata": {},
   "outputs": [],
   "source": [
    "clf = KNeighborsClassifier(n_neighbors=2)\n",
    "my_clf = MyKNeighborsClassifier(n_neighbors=2)"
   ]
  },
  {
   "cell_type": "code",
   "execution_count": 18,
   "metadata": {},
   "outputs": [
    {
     "name": "stdout",
     "output_type": "stream",
     "text": [
      "CPU times: user 48.5 s, sys: 710 ms, total: 49.2 s\n",
      "Wall time: 49.7 s\n"
     ]
    },
    {
     "data": {
      "text/plain": [
       "KNeighborsClassifier(algorithm='auto', leaf_size=30, metric='minkowski',\n",
       "           metric_params=None, n_jobs=None, n_neighbors=2, p=2,\n",
       "           weights='uniform')"
      ]
     },
     "execution_count": 18,
     "metadata": {},
     "output_type": "execute_result"
    }
   ],
   "source": [
    "%time clf.fit(X_train, y_train)"
   ]
  },
  {
   "cell_type": "code",
   "execution_count": 19,
   "metadata": {},
   "outputs": [
    {
     "name": "stdout",
     "output_type": "stream",
     "text": [
      "CPU times: user 206 ms, sys: 248 ms, total: 453 ms\n",
      "Wall time: 493 ms\n"
     ]
    },
    {
     "data": {
      "text/plain": [
       "MyKNeighborsClassifier(algorithm='brute', n_neighbors=2)"
      ]
     },
     "execution_count": 19,
     "metadata": {},
     "output_type": "execute_result"
    }
   ],
   "source": [
    "%time my_clf.fit(X_train, y_train)"
   ]
  },
  {
   "cell_type": "code",
   "execution_count": 20,
   "metadata": {},
   "outputs": [
    {
     "name": "stdout",
     "output_type": "stream",
     "text": [
      "CPU times: user 1min 11s, sys: 519 ms, total: 1min 12s\n",
      "Wall time: 1min 13s\n"
     ]
    },
    {
     "data": {
      "text/plain": [
       "array([5., 9., 3., 9., 7., 1., 0., 0., 8., 2., 2., 0., 5., 6., 3., 2., 7.,\n",
       "       2., 7., 6., 9., 3., 1., 8., 9., 8., 2., 1., 5., 8., 0., 2., 7., 9.,\n",
       "       5., 0., 9., 9., 6., 9., 3., 1., 9., 7., 0., 0., 0., 2., 1., 3., 2.,\n",
       "       4., 1., 3., 8., 0., 1., 9., 2., 9., 4., 7., 0., 2., 9., 8., 6., 1.,\n",
       "       1., 2., 6., 7., 4., 7., 4., 0., 4., 6., 4., 3., 8., 9., 1., 6., 7.,\n",
       "       5., 6., 8., 7., 0., 1., 6., 9., 4., 5., 8., 7., 8., 2., 7., 4., 8.,\n",
       "       1., 0., 3., 7., 5., 5., 6., 9., 5., 0., 7., 8., 8., 0., 6., 4., 5.,\n",
       "       8., 4., 7., 8., 0., 4., 8., 1., 4., 6., 7., 8., 1., 9., 4., 2., 6.,\n",
       "       7., 9., 3., 6., 3., 4., 4., 1., 8., 6., 3., 6., 0., 0., 6., 7., 3.,\n",
       "       5., 1., 2., 3., 4., 8., 5., 1., 1., 6., 8., 6., 0., 3., 0., 8., 6.,\n",
       "       8., 7., 3., 4., 0., 1., 7., 3., 7., 9., 1., 1., 8., 8., 8., 8., 0.,\n",
       "       9., 4., 3., 3., 9., 1., 9., 3., 6., 0., 7., 5., 1., 0., 7., 5., 1.,\n",
       "       9., 3., 9., 6., 2., 2., 9., 3., 2., 9., 7., 1., 4., 7., 5., 2., 4.,\n",
       "       5., 7., 4., 1., 7., 6., 5., 5., 2., 8., 4., 8., 3., 1., 3., 5., 9.,\n",
       "       9., 9., 6., 8., 8., 5., 6., 4., 7., 6., 0., 5., 6., 3., 3., 0., 5.,\n",
       "       8., 8., 6., 1., 9., 0., 0., 0., 9., 2., 0., 6., 6., 1., 0., 7., 4.,\n",
       "       3., 3., 3., 7., 8., 2., 0., 1., 5., 4., 6., 1., 1., 5., 9., 7., 1.,\n",
       "       2., 4., 4., 5., 0., 1., 7., 8., 5., 3., 4., 4., 1., 2., 6., 6., 1.,\n",
       "       3., 5., 2., 4., 0., 5., 7., 3., 8., 8., 4., 1., 4., 2., 0., 3., 2.,\n",
       "       1., 4., 9., 3., 6., 3., 8., 9., 7., 0., 3., 5., 1., 3., 3., 5., 2.,\n",
       "       4., 3., 2., 1., 6., 3., 2., 2., 0., 7., 4., 6., 0., 4., 2., 3., 3.,\n",
       "       2., 9., 0., 0., 0., 7., 9., 3., 0., 8., 9., 5., 6., 2., 7., 7., 3.,\n",
       "       9., 5., 6., 7., 0., 0., 5., 9., 8., 2., 6., 8., 1., 3., 9., 4., 4.,\n",
       "       5., 3., 8., 1., 4., 5., 3., 8., 3., 3., 9., 6., 8., 4., 7., 0., 2.,\n",
       "       5., 0., 8., 2., 1., 5., 9., 5., 4., 0., 1., 6., 5., 2., 0., 8., 1.,\n",
       "       0., 7., 3., 7., 5., 8., 3., 0., 4., 3., 3., 2., 0., 2., 7., 9., 9.,\n",
       "       1., 7., 8., 1., 3., 2., 1., 6., 6., 0., 7., 1., 1., 2., 8., 6., 4.,\n",
       "       1., 0., 3., 9., 2., 8., 3., 4., 1., 6., 4., 6., 2., 0., 7., 9., 5.,\n",
       "       8., 5., 8., 1., 4., 7., 6., 8., 4., 2., 4., 6., 7., 5., 3., 5., 2.,\n",
       "       7., 2., 7., 2., 8., 7., 1., 8., 9., 7., 4., 3., 2., 8., 5., 4., 1.,\n",
       "       9., 5., 9., 4., 4., 9., 6., 2., 4., 2., 4., 7., 9., 1., 1., 1., 8.,\n",
       "       2., 3., 7., 6., 9., 5., 8., 0., 2., 2., 4., 0., 2., 8., 2., 1., 1.,\n",
       "       5., 5., 0., 4., 8., 0., 7., 5., 9., 1., 3., 2., 1., 4., 1., 0., 1.,\n",
       "       1., 9., 9., 3., 6., 4., 0., 7., 1., 7., 7., 7., 5., 5., 9., 2., 5.,\n",
       "       3., 3., 6., 9., 4., 7., 3., 5., 4., 9., 2., 1., 0., 2., 5., 2., 1.,\n",
       "       5., 2., 9., 6., 1., 2., 6., 9., 0., 2., 6., 1., 3., 6., 2., 4., 2.,\n",
       "       3., 5., 3., 1., 3., 7., 0., 1., 7., 2., 6., 7., 6., 6., 1., 9., 3.,\n",
       "       3., 6., 6., 3., 7., 1., 2., 3., 4., 7., 0., 9., 9., 4., 0., 6., 8.,\n",
       "       1., 1., 1., 0., 4., 0., 7., 3., 2., 9., 1., 5., 2., 5., 4., 0., 8.,\n",
       "       9., 9., 6., 1., 6., 5., 3., 7., 6., 2., 5., 1., 6., 3., 0., 9., 7.,\n",
       "       8., 1., 4., 7., 6., 4., 5., 7., 0., 3., 4., 2., 2., 1., 1., 8., 3.,\n",
       "       1., 6., 4.])"
      ]
     },
     "execution_count": 20,
     "metadata": {},
     "output_type": "execute_result"
    }
   ],
   "source": [
    "%time clf.predict(X_test)"
   ]
  },
  {
   "cell_type": "code",
   "execution_count": 21,
   "metadata": {},
   "outputs": [
    {
     "name": "stdout",
     "output_type": "stream",
     "text": [
      "CPU times: user 10.6 s, sys: 639 ms, total: 11.2 s\n",
      "Wall time: 9.44 s\n"
     ]
    },
    {
     "data": {
      "text/plain": [
       "array([5, 9, 3, 9, 7, 1, 0, 0, 8, 2, 2, 0, 5, 6, 3, 2, 7, 2, 7, 6, 9, 3,\n",
       "       1, 8, 9, 8, 2, 1, 5, 8, 0, 2, 7, 9, 5, 0, 9, 9, 6, 9, 3, 1, 9, 7,\n",
       "       0, 0, 0, 2, 1, 3, 2, 4, 1, 3, 8, 0, 1, 9, 2, 9, 4, 7, 0, 2, 9, 8,\n",
       "       6, 1, 1, 2, 6, 7, 4, 7, 4, 0, 4, 6, 4, 3, 8, 9, 1, 6, 7, 5, 6, 8,\n",
       "       7, 0, 1, 6, 9, 4, 5, 8, 7, 8, 2, 7, 4, 8, 1, 0, 3, 7, 5, 5, 6, 9,\n",
       "       5, 0, 7, 8, 8, 0, 6, 4, 5, 8, 4, 7, 8, 0, 4, 8, 1, 4, 6, 7, 8, 1,\n",
       "       9, 4, 2, 6, 7, 9, 3, 6, 3, 4, 4, 1, 8, 6, 3, 6, 0, 0, 6, 7, 3, 5,\n",
       "       1, 2, 3, 4, 8, 5, 1, 1, 6, 8, 6, 0, 3, 0, 8, 6, 8, 7, 3, 4, 0, 1,\n",
       "       7, 3, 7, 9, 1, 1, 8, 8, 8, 8, 0, 9, 4, 3, 3, 9, 1, 9, 3, 6, 0, 7,\n",
       "       5, 1, 0, 7, 5, 1, 9, 3, 9, 6, 2, 2, 9, 3, 2, 9, 7, 1, 4, 7, 5, 2,\n",
       "       4, 5, 7, 4, 1, 7, 6, 5, 5, 2, 8, 4, 8, 3, 1, 3, 5, 9, 9, 9, 6, 8,\n",
       "       8, 5, 6, 4, 7, 6, 0, 5, 6, 3, 3, 0, 5, 8, 8, 6, 1, 9, 0, 0, 0, 9,\n",
       "       2, 0, 6, 6, 1, 0, 7, 4, 3, 3, 3, 7, 8, 2, 0, 1, 5, 4, 6, 1, 1, 5,\n",
       "       9, 7, 1, 2, 4, 4, 5, 0, 1, 7, 8, 5, 3, 4, 4, 1, 2, 6, 6, 1, 3, 5,\n",
       "       2, 4, 0, 5, 7, 3, 8, 8, 4, 1, 4, 2, 0, 3, 2, 1, 4, 9, 3, 6, 3, 8,\n",
       "       9, 7, 0, 3, 5, 1, 3, 3, 5, 2, 4, 3, 2, 1, 6, 3, 2, 2, 0, 7, 4, 6,\n",
       "       0, 4, 2, 3, 3, 2, 9, 0, 0, 0, 7, 9, 3, 0, 8, 9, 5, 6, 2, 7, 7, 3,\n",
       "       9, 5, 6, 7, 0, 0, 5, 9, 8, 2, 6, 8, 1, 3, 9, 4, 4, 5, 3, 8, 1, 4,\n",
       "       5, 3, 8, 3, 3, 9, 6, 8, 4, 7, 0, 2, 5, 0, 8, 2, 1, 5, 9, 5, 4, 0,\n",
       "       1, 6, 5, 2, 0, 8, 1, 0, 7, 3, 7, 5, 8, 3, 0, 4, 3, 3, 2, 0, 2, 7,\n",
       "       9, 9, 1, 7, 8, 1, 3, 2, 1, 6, 6, 0, 7, 1, 1, 2, 8, 6, 4, 1, 0, 3,\n",
       "       9, 2, 8, 3, 4, 1, 6, 4, 6, 2, 0, 7, 9, 5, 8, 5, 8, 1, 4, 7, 6, 8,\n",
       "       4, 2, 4, 6, 7, 5, 3, 5, 2, 7, 2, 7, 2, 8, 7, 1, 8, 9, 7, 4, 3, 2,\n",
       "       8, 5, 4, 1, 9, 5, 9, 4, 4, 9, 6, 2, 4, 2, 4, 7, 9, 1, 1, 1, 8, 2,\n",
       "       3, 7, 6, 9, 5, 8, 0, 2, 2, 4, 0, 2, 8, 2, 1, 1, 5, 5, 0, 4, 8, 0,\n",
       "       7, 5, 9, 1, 3, 2, 1, 4, 1, 0, 1, 1, 9, 9, 3, 6, 4, 0, 7, 1, 7, 7,\n",
       "       7, 5, 5, 9, 2, 5, 3, 3, 6, 9, 4, 7, 3, 5, 4, 9, 2, 1, 0, 2, 5, 2,\n",
       "       1, 5, 2, 9, 6, 1, 2, 6, 9, 0, 2, 6, 1, 3, 6, 2, 4, 2, 3, 5, 3, 1,\n",
       "       3, 7, 0, 1, 7, 2, 6, 7, 6, 6, 1, 9, 3, 3, 6, 6, 3, 7, 1, 2, 3, 4,\n",
       "       7, 0, 9, 9, 4, 0, 6, 8, 1, 1, 1, 0, 4, 0, 7, 3, 2, 9, 1, 5, 2, 5,\n",
       "       4, 0, 8, 9, 9, 6, 1, 6, 5, 3, 7, 6, 2, 5, 1, 6, 3, 0, 9, 7, 8, 1,\n",
       "       4, 7, 6, 4, 5, 7, 0, 3, 4, 2, 2, 1, 1, 8, 3, 1, 6, 4])"
      ]
     },
     "execution_count": 21,
     "metadata": {},
     "output_type": "execute_result"
    }
   ],
   "source": [
    "%time my_clf.predict(X_test)"
   ]
  },
  {
   "cell_type": "code",
   "execution_count": 22,
   "metadata": {},
   "outputs": [
    {
     "name": "stdout",
     "output_type": "stream",
     "text": [
      "CPU times: user 1min 11s, sys: 485 ms, total: 1min 11s\n",
      "Wall time: 1min 12s\n"
     ]
    },
    {
     "data": {
      "text/plain": [
       "array([[0., 0., 0., ..., 0., 0., 0.],\n",
       "       [0., 0., 0., ..., 0., 0., 1.],\n",
       "       [0., 0., 0., ..., 0., 0., 0.],\n",
       "       ...,\n",
       "       [0., 1., 0., ..., 0., 0., 0.],\n",
       "       [0., 0., 0., ..., 0., 0., 0.],\n",
       "       [0., 0., 0., ..., 0., 0., 0.]])"
      ]
     },
     "execution_count": 22,
     "metadata": {},
     "output_type": "execute_result"
    }
   ],
   "source": [
    "%time clf.predict_proba(X_test)"
   ]
  },
  {
   "cell_type": "code",
   "execution_count": 23,
   "metadata": {},
   "outputs": [
    {
     "name": "stdout",
     "output_type": "stream",
     "text": [
      "CPU times: user 9.16 s, sys: 399 ms, total: 9.56 s\n",
      "Wall time: 7.71 s\n"
     ]
    },
    {
     "data": {
      "text/plain": [
       "array([[0., 0., 0., ..., 0., 0., 0.],\n",
       "       [0., 0., 0., ..., 0., 0., 1.],\n",
       "       [0., 0., 0., ..., 0., 0., 0.],\n",
       "       ...,\n",
       "       [0., 1., 0., ..., 0., 0., 0.],\n",
       "       [0., 0., 0., ..., 0., 0., 0.],\n",
       "       [0., 0., 0., ..., 0., 0., 0.]])"
      ]
     },
     "execution_count": 23,
     "metadata": {},
     "output_type": "execute_result"
    }
   ],
   "source": [
    "%time my_clf.predict_proba(X_test)"
   ]
  },
  {
   "cell_type": "code",
   "execution_count": 24,
   "metadata": {},
   "outputs": [
    {
     "data": {
      "text/plain": [
       "0.97"
      ]
     },
     "execution_count": 24,
     "metadata": {},
     "output_type": "execute_result"
    }
   ],
   "source": [
    "clf.score(X_test, y_test)"
   ]
  },
  {
   "cell_type": "code",
   "execution_count": 25,
   "metadata": {},
   "outputs": [
    {
     "data": {
      "text/plain": [
       "0.97"
      ]
     },
     "execution_count": 25,
     "metadata": {},
     "output_type": "execute_result"
    }
   ],
   "source": [
    "my_clf.score(X_test, y_test)"
   ]
  },
  {
   "cell_type": "markdown",
   "metadata": {},
   "source": [
    "Задание 4"
   ]
  },
  {
   "cell_type": "code",
   "execution_count": 26,
   "metadata": {},
   "outputs": [],
   "source": [
    "clf = KNeighborsClassifier(n_neighbors=20, algorithm='kd_tree')\n",
    "my_clf = MyKNeighborsClassifier(n_neighbors=20, algorithm='kd_tree')"
   ]
  },
  {
   "cell_type": "code",
   "execution_count": 27,
   "metadata": {},
   "outputs": [],
   "source": [
    "X_train, X_test, y_train, y_test = train_test_split(mnist.data, mnist.target, test_size=0.01, stratify=mnist.target)"
   ]
  },
  {
   "cell_type": "code",
   "execution_count": 28,
   "metadata": {},
   "outputs": [
    {
     "name": "stdout",
     "output_type": "stream",
     "text": [
      "CPU times: user 42.7 s, sys: 473 ms, total: 43.2 s\n",
      "Wall time: 43.3 s\n"
     ]
    },
    {
     "data": {
      "text/plain": [
       "KNeighborsClassifier(algorithm='kd_tree', leaf_size=30, metric='minkowski',\n",
       "           metric_params=None, n_jobs=None, n_neighbors=20, p=2,\n",
       "           weights='uniform')"
      ]
     },
     "execution_count": 28,
     "metadata": {},
     "output_type": "execute_result"
    }
   ],
   "source": [
    "%time clf.fit(X_train, y_train)"
   ]
  },
  {
   "cell_type": "code",
   "execution_count": 29,
   "metadata": {},
   "outputs": [
    {
     "name": "stdout",
     "output_type": "stream",
     "text": [
      "CPU times: user 39.3 s, sys: 565 ms, total: 39.9 s\n",
      "Wall time: 40.2 s\n"
     ]
    },
    {
     "data": {
      "text/plain": [
       "MyKNeighborsClassifier(algorithm='kd_tree', n_neighbors=20)"
      ]
     },
     "execution_count": 29,
     "metadata": {},
     "output_type": "execute_result"
    }
   ],
   "source": [
    "%time my_clf.fit(X_train, y_train)"
   ]
  },
  {
   "cell_type": "code",
   "execution_count": 30,
   "metadata": {},
   "outputs": [
    {
     "name": "stdout",
     "output_type": "stream",
     "text": [
      "CPU times: user 1min 10s, sys: 642 ms, total: 1min 11s\n",
      "Wall time: 1min 11s\n"
     ]
    },
    {
     "data": {
      "text/plain": [
       "array([0., 9., 0., 8., 9., 9., 4., 7., 2., 7., 7., 9., 2., 2., 6., 8., 1.,\n",
       "       0., 5., 6., 0., 3., 6., 3., 9., 6., 9., 1., 2., 0., 5., 8., 4., 3.,\n",
       "       9., 7., 8., 2., 2., 9., 0., 1., 9., 0., 4., 9., 3., 1., 1., 6., 3.,\n",
       "       0., 3., 7., 8., 9., 5., 8., 0., 6., 6., 9., 8., 9., 0., 4., 3., 2.,\n",
       "       7., 8., 3., 0., 1., 1., 0., 8., 2., 7., 5., 9., 5., 9., 3., 1., 9.,\n",
       "       3., 2., 1., 9., 0., 7., 3., 1., 5., 4., 5., 3., 0., 3., 8., 4., 5.,\n",
       "       5., 6., 8., 4., 1., 4., 1., 0., 6., 0., 8., 6., 8., 9., 0., 8., 4.,\n",
       "       1., 5., 0., 8., 4., 7., 7., 4., 5., 0., 6., 7., 9., 0., 1., 6., 6.,\n",
       "       4., 2., 8., 2., 1., 7., 3., 5., 3., 8., 7., 3., 5., 1., 6., 7., 0.,\n",
       "       1., 5., 5., 0., 2., 3., 8., 0., 6., 3., 7., 6., 3., 0., 1., 6., 1.,\n",
       "       2., 5., 1., 2., 2., 1., 4., 3., 3., 9., 0., 5., 4., 0., 5., 4., 2.,\n",
       "       1., 7., 0., 8., 2., 2., 6., 3., 9., 1., 9., 7., 7., 5., 5., 2., 7.,\n",
       "       7., 9., 8., 7., 6., 3., 9., 7., 5., 0., 8., 6., 8., 0., 2., 7., 2.,\n",
       "       0., 2., 7., 4., 0., 4., 7., 1., 3., 9., 4., 3., 3., 1., 9., 9., 2.,\n",
       "       1., 4., 5., 5., 9., 9., 6., 4., 6., 1., 8., 9., 3., 7., 6., 5., 0.,\n",
       "       6., 0., 2., 2., 5., 2., 7., 0., 6., 4., 9., 5., 8., 9., 7., 3., 1.,\n",
       "       8., 8., 7., 9., 6., 6., 2., 0., 7., 8., 4., 4., 6., 3., 1., 0., 6.,\n",
       "       4., 4., 0., 7., 5., 3., 2., 1., 9., 7., 2., 9., 1., 5., 5., 7., 0.,\n",
       "       6., 4., 7., 9., 9., 9., 4., 6., 5., 8., 0., 9., 9., 3., 8., 3., 2.,\n",
       "       2., 1., 3., 4., 8., 0., 2., 1., 2., 6., 5., 4., 1., 6., 1., 6., 8.,\n",
       "       3., 5., 8., 2., 6., 8., 4., 3., 7., 9., 7., 5., 1., 6., 3., 2., 6.,\n",
       "       5., 2., 1., 4., 2., 2., 6., 4., 1., 7., 7., 0., 9., 1., 4., 9., 9.,\n",
       "       7., 2., 1., 8., 3., 1., 7., 8., 3., 4., 7., 5., 5., 1., 9., 6., 4.,\n",
       "       0., 5., 2., 1., 5., 3., 6., 8., 6., 7., 0., 8., 7., 3., 1., 4., 5.,\n",
       "       4., 6., 2., 1., 0., 6., 6., 4., 6., 1., 2., 4., 2., 3., 6., 3., 7.,\n",
       "       6., 3., 0., 7., 5., 1., 9., 7., 3., 1., 6., 8., 0., 1., 6., 9., 3.,\n",
       "       7., 4., 9., 8., 1., 4., 7., 0., 8., 5., 4., 1., 3., 1., 3., 1., 4.,\n",
       "       5., 4., 3., 1., 2., 7., 3., 3., 6., 8., 8., 7., 6., 8., 0., 1., 5.,\n",
       "       5., 8., 5., 8., 7., 1., 5., 7., 7., 1., 5., 6., 1., 4., 3., 3., 4.,\n",
       "       8., 0., 2., 8., 3., 7., 4., 0., 4., 8., 7., 1., 1., 0., 8., 1., 2.,\n",
       "       3., 0., 6., 2., 5., 6., 5., 1., 7., 3., 6., 4., 5., 0., 8., 1., 7.,\n",
       "       1., 7., 7., 4., 0., 2., 2., 5., 7., 0., 1., 3., 2., 4., 9., 5., 4.,\n",
       "       1., 3., 8., 2., 1., 3., 7., 4., 2., 8., 6., 0., 1., 5., 7., 2., 3.,\n",
       "       6., 1., 1., 1., 1., 8., 4., 2., 0., 1., 1., 7., 6., 4., 8., 0., 7.,\n",
       "       7., 9., 2., 0., 2., 2., 6., 3., 0., 4., 0., 3., 0., 9., 3., 4., 2.,\n",
       "       3., 1., 3., 2., 5., 5., 5., 6., 4., 4., 6., 9., 2., 3., 9., 6., 7.,\n",
       "       9., 0., 9., 5., 2., 3., 9., 2., 1., 3., 7., 9., 0., 2., 4., 4., 0.,\n",
       "       5., 6., 5., 3., 7., 7., 6., 8., 1., 3., 6., 9., 4., 9., 1., 5., 2.,\n",
       "       2., 4., 0., 4., 8., 3., 1., 1., 9., 4., 3., 0., 8., 2., 2., 9., 6.,\n",
       "       9., 5., 6., 5., 4., 9., 9., 8., 0., 7., 2., 4., 9., 4., 0., 6., 0.,\n",
       "       0., 4., 0., 1., 5., 4., 5., 3., 9., 7., 7., 1., 9., 9., 8., 2., 9.,\n",
       "       9., 6., 9.])"
      ]
     },
     "execution_count": 30,
     "metadata": {},
     "output_type": "execute_result"
    }
   ],
   "source": [
    "%time clf.predict(X_test)"
   ]
  },
  {
   "cell_type": "code",
   "execution_count": 31,
   "metadata": {},
   "outputs": [
    {
     "name": "stdout",
     "output_type": "stream",
     "text": [
      "CPU times: user 58.4 s, sys: 393 ms, total: 58.8 s\n",
      "Wall time: 59.7 s\n"
     ]
    },
    {
     "data": {
      "text/plain": [
       "array([0, 9, 0, 8, 9, 9, 4, 7, 2, 7, 7, 9, 2, 2, 6, 8, 1, 0, 5, 6, 0, 3,\n",
       "       6, 3, 9, 6, 9, 1, 2, 0, 5, 8, 4, 3, 9, 7, 8, 2, 2, 9, 0, 1, 9, 0,\n",
       "       4, 9, 3, 1, 1, 6, 3, 0, 3, 7, 8, 9, 5, 8, 0, 6, 6, 9, 8, 9, 0, 4,\n",
       "       3, 2, 7, 8, 3, 0, 1, 1, 0, 8, 2, 7, 5, 9, 5, 9, 3, 1, 9, 3, 2, 1,\n",
       "       9, 0, 7, 3, 1, 5, 4, 5, 3, 0, 3, 8, 4, 5, 5, 6, 8, 4, 1, 4, 1, 0,\n",
       "       6, 0, 8, 6, 8, 9, 0, 8, 4, 1, 5, 0, 8, 4, 7, 7, 4, 5, 0, 6, 7, 9,\n",
       "       0, 1, 6, 6, 4, 2, 8, 2, 1, 7, 3, 5, 3, 8, 7, 3, 5, 1, 6, 7, 0, 1,\n",
       "       5, 5, 0, 2, 3, 8, 0, 6, 3, 7, 6, 3, 0, 1, 6, 1, 2, 5, 1, 2, 2, 1,\n",
       "       4, 3, 3, 9, 0, 5, 4, 0, 5, 4, 2, 1, 7, 0, 8, 2, 2, 6, 3, 9, 1, 9,\n",
       "       7, 7, 5, 5, 2, 7, 7, 9, 8, 7, 6, 3, 9, 7, 5, 0, 8, 6, 8, 0, 2, 7,\n",
       "       2, 0, 2, 7, 4, 0, 4, 7, 1, 3, 9, 4, 3, 3, 1, 9, 9, 2, 1, 4, 5, 5,\n",
       "       9, 9, 6, 4, 6, 1, 8, 9, 3, 7, 6, 5, 0, 6, 0, 2, 2, 5, 2, 7, 0, 6,\n",
       "       4, 9, 5, 8, 9, 7, 3, 1, 8, 8, 7, 9, 6, 6, 2, 0, 7, 8, 4, 4, 6, 3,\n",
       "       1, 0, 6, 4, 4, 0, 7, 5, 3, 2, 1, 9, 7, 2, 9, 1, 5, 5, 7, 0, 6, 4,\n",
       "       7, 9, 9, 9, 4, 6, 5, 8, 0, 9, 9, 3, 8, 3, 2, 2, 1, 3, 4, 8, 0, 2,\n",
       "       1, 2, 6, 5, 4, 1, 6, 1, 6, 8, 3, 5, 8, 2, 6, 8, 4, 3, 7, 9, 7, 5,\n",
       "       1, 6, 3, 2, 6, 5, 2, 1, 4, 2, 2, 6, 4, 1, 7, 7, 0, 9, 1, 4, 9, 9,\n",
       "       7, 2, 1, 8, 3, 1, 7, 8, 3, 4, 7, 5, 5, 1, 9, 6, 4, 0, 5, 2, 1, 5,\n",
       "       3, 6, 8, 6, 7, 0, 8, 7, 3, 1, 4, 5, 4, 6, 2, 1, 0, 6, 6, 4, 6, 1,\n",
       "       2, 4, 2, 3, 6, 3, 7, 6, 3, 0, 7, 5, 1, 9, 7, 3, 1, 6, 8, 0, 1, 6,\n",
       "       9, 3, 7, 4, 9, 8, 1, 4, 7, 0, 8, 5, 4, 1, 3, 1, 3, 1, 4, 5, 4, 3,\n",
       "       1, 2, 7, 3, 3, 6, 8, 8, 7, 6, 8, 0, 1, 5, 5, 8, 5, 8, 7, 1, 5, 7,\n",
       "       7, 1, 5, 6, 1, 4, 3, 3, 4, 8, 0, 2, 8, 3, 7, 4, 0, 4, 8, 7, 1, 1,\n",
       "       0, 8, 1, 2, 3, 0, 6, 2, 5, 6, 5, 1, 7, 3, 6, 4, 5, 0, 8, 1, 7, 1,\n",
       "       7, 7, 4, 0, 2, 2, 5, 7, 0, 1, 3, 2, 4, 9, 5, 4, 1, 3, 8, 2, 1, 3,\n",
       "       7, 4, 2, 8, 6, 0, 1, 5, 7, 2, 3, 6, 1, 1, 1, 1, 8, 4, 2, 0, 1, 1,\n",
       "       7, 6, 4, 8, 0, 7, 7, 9, 2, 0, 2, 2, 6, 3, 0, 4, 0, 3, 0, 9, 3, 4,\n",
       "       2, 3, 1, 3, 2, 5, 5, 5, 6, 4, 4, 6, 9, 2, 3, 9, 6, 7, 9, 0, 9, 5,\n",
       "       2, 3, 9, 2, 1, 3, 7, 9, 0, 2, 4, 4, 0, 5, 6, 5, 3, 7, 7, 6, 8, 1,\n",
       "       3, 6, 9, 4, 9, 1, 5, 2, 2, 4, 0, 4, 8, 3, 1, 1, 9, 4, 3, 0, 8, 2,\n",
       "       2, 9, 6, 9, 5, 6, 5, 4, 9, 9, 8, 0, 7, 2, 4, 9, 4, 0, 6, 0, 0, 4,\n",
       "       0, 1, 5, 4, 5, 3, 9, 7, 7, 1, 9, 9, 8, 2, 9, 9, 6, 9])"
      ]
     },
     "execution_count": 31,
     "metadata": {},
     "output_type": "execute_result"
    }
   ],
   "source": [
    "%time my_clf.predict(X_test)"
   ]
  },
  {
   "cell_type": "code",
   "execution_count": 32,
   "metadata": {},
   "outputs": [
    {
     "name": "stdout",
     "output_type": "stream",
     "text": [
      "CPU times: user 1min 9s, sys: 442 ms, total: 1min 10s\n",
      "Wall time: 1min 11s\n"
     ]
    },
    {
     "data": {
      "text/plain": [
       "array([[1.  , 0.  , 0.  , ..., 0.  , 0.  , 0.  ],\n",
       "       [0.  , 0.  , 0.  , ..., 0.05, 0.  , 0.95],\n",
       "       [1.  , 0.  , 0.  , ..., 0.  , 0.  , 0.  ],\n",
       "       ...,\n",
       "       [0.  , 0.  , 0.  , ..., 0.  , 0.  , 1.  ],\n",
       "       [0.  , 0.  , 0.  , ..., 0.  , 0.  , 0.  ],\n",
       "       [0.  , 0.  , 0.  , ..., 0.  , 0.  , 1.  ]])"
      ]
     },
     "execution_count": 32,
     "metadata": {},
     "output_type": "execute_result"
    }
   ],
   "source": [
    "%time clf.predict_proba(X_test)"
   ]
  },
  {
   "cell_type": "code",
   "execution_count": 33,
   "metadata": {},
   "outputs": [
    {
     "name": "stdout",
     "output_type": "stream",
     "text": [
      "CPU times: user 57.6 s, sys: 320 ms, total: 57.9 s\n",
      "Wall time: 58.5 s\n"
     ]
    },
    {
     "data": {
      "text/plain": [
       "array([[1.  , 0.  , 0.  , ..., 0.  , 0.  , 0.  ],\n",
       "       [0.  , 0.  , 0.  , ..., 0.05, 0.  , 0.95],\n",
       "       [1.  , 0.  , 0.  , ..., 0.  , 0.  , 0.  ],\n",
       "       ...,\n",
       "       [0.  , 0.  , 0.  , ..., 0.  , 0.  , 1.  ],\n",
       "       [0.  , 0.  , 0.  , ..., 0.  , 0.  , 0.  ],\n",
       "       [0.  , 0.  , 0.  , ..., 0.  , 0.  , 1.  ]])"
      ]
     },
     "execution_count": 33,
     "metadata": {},
     "output_type": "execute_result"
    }
   ],
   "source": [
    "%time my_clf.predict_proba(X_test)"
   ]
  },
  {
   "cell_type": "code",
   "execution_count": 34,
   "metadata": {},
   "outputs": [
    {
     "data": {
      "text/plain": [
       "0.9671428571428572"
      ]
     },
     "execution_count": 34,
     "metadata": {},
     "output_type": "execute_result"
    }
   ],
   "source": [
    "clf.score(X_test, y_test)"
   ]
  },
  {
   "cell_type": "code",
   "execution_count": 35,
   "metadata": {},
   "outputs": [
    {
     "data": {
      "text/plain": [
       "0.9671428571428572"
      ]
     },
     "execution_count": 35,
     "metadata": {},
     "output_type": "execute_result"
    }
   ],
   "source": [
    "my_clf.score(X_test, y_test)"
   ]
  },
  {
   "cell_type": "markdown",
   "metadata": {},
   "source": [
    "Задание 5"
   ]
  },
  {
   "cell_type": "code",
   "execution_count": 36,
   "metadata": {},
   "outputs": [],
   "source": [
    "# seaborn -- библиотека для визуализации данных, оптимизирована для визуализации статистических моделей,\n",
    "#     базируется на matplotlib\n",
    "# matplotlib -- библиотека для визуализации данных\n",
    "# train_test_split -- функция sklearn, рандомно разбивает массивы или матрицы на обучающие и \n",
    "#     тестирующие подмножества\n",
    "# %load_ext Pipeline (from sklearn.pipeline import Pipeline) -- используется для последовательного\n",
    "#     преобразования данных\n",
    "# StandardScaler (from sklearn.preprocessing import StandardScaler) -- приведение распределения к\n",
    "#     нормальному виду, вычитание среднего значения, деление на дисперсию\n",
    "# ClassifierMixin -- Мixin класс для классификаторов из sklearn, имеет метод score, вычисляющий точность\n",
    "#     предсказания тестовых данных\n",
    "# NeighborsBase -- базовый класс sklearn для метода ближайших соседей\n",
    "# KNeighborsMixin -- Mixin класс для поиска KNN\n",
    "# SupervisedIntegerMixin -- Mixin класс, содержит функцию fit(X, y), которая обучает модель,\n",
    "#     используя X как данные, y как целевые переменные\n"
   ]
  },
  {
   "cell_type": "code",
   "execution_count": null,
   "metadata": {},
   "outputs": [],
   "source": []
  }
 ],
 "metadata": {
  "kernelspec": {
   "display_name": "Python 3",
   "language": "python",
   "name": "python3"
  },
  "language_info": {
   "codemirror_mode": {
    "name": "ipython",
    "version": 3
   },
   "file_extension": ".py",
   "mimetype": "text/x-python",
   "name": "python",
   "nbconvert_exporter": "python",
   "pygments_lexer": "ipython3",
   "version": "3.7.0"
  }
 },
 "nbformat": 4,
 "nbformat_minor": 2
}
