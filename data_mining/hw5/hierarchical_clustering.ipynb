{
 "cells": [
  {
   "cell_type": "markdown",
   "metadata": {},
   "source": [
    "# Алгоритмы интеллектуальной обработки больших объемов данных\n",
    "## Домашнее задание №5 - Алгоритмы кластеризации\n"
   ]
  },
  {
   "cell_type": "markdown",
   "metadata": {},
   "source": [
    "###### <hr\\>\n",
    "**Общая информация**\n",
    "\n",
    "**Срок сдачи:** 17 декабря 2018, 06:00 <br\\>\n",
    "**Штраф за опоздание:** -2 балла после 06:00 17 декабря, -4 балла после 06:00 24 декабря, -6 баллов после 06:00 31 декабря -8 баллов  после 06:00 7 января\n",
    "\n",
    "\n",
    "Используйте данный Ipython Notebook при оформлении домашнего задания.\n",
    "<hr\\>"
   ]
  },
  {
   "cell_type": "markdown",
   "metadata": {},
   "source": [
    "**Из чего состоит задание:**\n",
    "\n",
    "###### Теоретические вопросы (2 балла)\n",
    "\n",
    "###### Реализация алгоритма кластеризации (6 баллов)\n",
    "\n",
    "###### Боевое применение (2 балла)\n",
    "\n",
    "\n"
   ]
  },
  {
   "cell_type": "markdown",
   "metadata": {},
   "source": [
    "**Штрафные баллы:**\n",
    "\n",
    "1. Невыполнение PEP8 -1 балл\n",
    "2. Отсутствие фамилии в имени скрипта (скрипт должен называться по аналогии со stroykova_hw4.ipynb) -1 балл\n",
    "3. Все строчки должны быть выполнены. Нужно, чтобы output команды можно было увидеть уже в git'е. В противном случае -1 балл\n",
    "4. При оформлении ДЗ нужно пользоваться данным файлом в качестве шаблона. Не нужно удалять и видоизменять написанный код и текст. В противном случае -1 балл"
   ]
  },
  {
   "cell_type": "markdown",
   "metadata": {},
   "source": [
    "# Определяем, что вам досталось"
   ]
  },
  {
   "cell_type": "markdown",
   "metadata": {},
   "source": [
    "Укажите свою фамилию на русском языке в поле ниже."
   ]
  },
  {
   "cell_type": "code",
   "execution_count": 3,
   "metadata": {},
   "outputs": [
    {
     "name": "stdout",
     "output_type": "stream",
     "text": [
      "Имплементируйте алгоритм кластеризации Hierarchical clustering с поддержкой single-linkage, complete-linkage, average-linkage (параметры - число кластеров, linkage)\n"
     ]
    }
   ],
   "source": [
    "import hashlib\n",
    "\n",
    "def lucky_hash(text):\n",
    "    return int(hashlib.md5(text.encode('utf-8')).hexdigest()[:8], 16) \n",
    "\n",
    "USER_NAME = u\"Tерёхина\".lower()\n",
    "\n",
    "ALGORITHMS = [\n",
    "    u\"Gaussian Mixture Model с использованием maximum a-posteriori для выбора кластера (параметр - число кластеров)\",\n",
    "    u\"Hierarchical clustering с поддержкой single-linkage, complete-linkage, average-linkage (параметры - число кластеров, linkage)\",]\n",
    "\n",
    "print (\"Имплементируйте алгоритм кластеризации %s\"\\\n",
    "% (\n",
    "    ALGORITHMS[lucky_hash(USER_NAME[::-1]) % 2]\n",
    ") )"
   ]
  },
  {
   "cell_type": "markdown",
   "metadata": {},
   "source": [
    "Не стоит переживать из-за Вашего варианта. Технически оба алгоритма несложно реализовать.  EM алгоритма бояться не стоит, Вам будет нужно просто реализовать уже выведенные формулы для E и M шагов."
   ]
  },
  {
   "cell_type": "code",
   "execution_count": 4,
   "metadata": {},
   "outputs": [
    {
     "name": "stdout",
     "output_type": "stream",
     "text": [
      "Populating the interactive namespace from numpy and matplotlib\n"
     ]
    }
   ],
   "source": [
    "import time\n",
    "import pandas as pd\n",
    "import pylab as pl\n",
    "import numpy as np\n",
    "import scipy.spatial as ss\n",
    "import sklearn.cluster as sc\n",
    "import sklearn.manifold as sm\n",
    "import sklearn.datasets as ds\n",
    "import sklearn.metrics as smt\n",
    "from sklearn.mixture import GaussianMixture\n",
    "from sklearn.cluster import AgglomerativeClustering\n",
    "\n",
    "import matplotlib.pyplot as plt\n",
    "\n",
    "%matplotlib inline\n",
    "\n",
    "plt.style.use('ggplot')\n",
    "plt.rcParams['figure.figsize'] = (12,5)\n",
    "\n",
    "# Plotting config\n",
    "%pylab inline"
   ]
  },
  {
   "cell_type": "markdown",
   "metadata": {},
   "source": [
    "# Теоретическое введение\n"
   ]
  },
  {
   "cell_type": "markdown",
   "metadata": {},
   "source": [
    "Основная задача кластерного анализа — разбиение исходного набора объектов на группы (кластеры) таким образом, чтобы объекты в группе были похожи друг на друга, а объекты из разных групп - отличались. \n",
    "\n",
    "В этой работе мы будем реализовывать один из двух популярных методов кластеризации: разделение смеси нормальных распределений или агломеративную кластеризацию. "
   ]
  },
  {
   "cell_type": "markdown",
   "metadata": {
    "collapsed": true
   },
   "source": [
    "## Смесь нормальных распределений\n",
    "\n"
   ]
  },
  {
   "cell_type": "markdown",
   "metadata": {
    "collapsed": true
   },
   "source": [
    "Предполагаем, что наши данные порождены смесью $k$ нормальных распределений, то есть \n",
    "\n",
    "$$ p(\\mathbf{x}) = \\sum_k \\pi_k \\mathcal{N}(\\mathbf{x} | \\mathbf{\\mu}_k, \\mathbf{\\Sigma}_k) $$,\n",
    "\n",
    "\n",
    "где $\\mathcal{N}$ - многомерное нормальное распределение размерности ${D}$:"
   ]
  },
  {
   "cell_type": "markdown",
   "metadata": {
    "collapsed": true
   },
   "source": [
    "$$\\mathcal{N(\\mathbf{x} | \\mathbf{\\mu}, \\mathbf{\\Sigma}}) = \\frac{1}{(2 \\pi)^{D/2}} \\frac{1}{|\\mathbf{\\Sigma}|^{1/2}} \\exp \\left\\{-\\frac{1}{2}(\\mathbf{x} - \\mathbf{\\mu})^T \\mathbf{\\Sigma^{-1}} (\\mathbf{x} - \\mathbf{\\mu})\\right\\}$$\n",
    "\n",
    "**Параметры**  \n",
    "\n",
    "\n",
    "${D}$-мерный вектор средних\n",
    "\n",
    "$$\\mathbf{\\mu}$$\n",
    "\n",
    "$D \\times D$-мерная матрица ковариации   (симметричная)\n",
    "\n",
    "\n",
    "$$\\mathbf{\\Sigma} = E[(\\mathbf{x} - \\mathbf{\\mu})(\\mathbf{x} - \\mathbf{\\mu})^T]$$\n",
    "\n"
   ]
  },
  {
   "cell_type": "markdown",
   "metadata": {
    "collapsed": true
   },
   "source": [
    "Необходимо оценить параметры $\\pi_k, \\mathbf{\\mu_k}, \\mathbf{\\Sigma_k} $ для всех компонент смеси.  Сделать это можно с помощью EM алгоритма - алгоритма, который находит оценку максимального правдоподобия в задаче со скрытыми переменными. "
   ]
  },
  {
   "cell_type": "markdown",
   "metadata": {},
   "source": [
    "## Expectation Maximization\n",
    "\n",
    "**I** До цикла проинциализировать случайно  $\\mu_k, \\Sigma_k, \\pi_k$ ($\\pi_k$ должны суммироваться в 1)\n",
    "\n",
    "**E** \n",
    "\n",
    "Expectation: при фиксированных $\\mu_k, \\Sigma_k, \\pi_k$\n",
    "$$\n",
    "p(z_k = 1| x_n ) = \\gamma(z_{nk}) = \\frac{\\pi_k \\mathcal{N} (\\mathbf{x}_n | \\mu_k, \\Sigma_k)}{\\sum_{j=1}^K \\pi_j \\mathcal{N} (\\mathbf{x}_n | \\mu_j, \\Sigma_j)}\n",
    "$$\n",
    "**M** \n",
    "\n",
    "Maximization: при фиксированных $\\gamma(z_{nk})$\n",
    "$$\n",
    "N_k = \\sum_{n=1}^N \\gamma(z_{nk}), \\;\\; \\mu_k = \\frac 1 {N_k} \\sum_{n=1}^N \\gamma(z_{nk}) \\mathbf{x}_n\n",
    "$$\n",
    "$$\n",
    "\\Sigma_k = \\frac 1 {N_k} \\sum_{n=1}^N \\gamma(z_{nk}) (\\mathbf{x}_n - \\mu_k)(\\mathbf{x}_n - \\mu_k)^T\n",
    "$$\n",
    "$$\n",
    "\\pi_k = \\frac{N_k}{N}\n",
    "$$\n",
    "**S** Остановиться при достижении сходимости"
   ]
  },
  {
   "cell_type": "markdown",
   "metadata": {},
   "source": [
    "Номер кластера для $n$ объекта будем брать по принципу maximum a-posteriori, то есть относить объект к тому кластеру, у которого максимальна апостериорная вероятность:\n",
    "$$ k_n =  \\arg\\underset{k}\\max  p(z_k = 1| x_n ) =  \\arg\\underset{k}\\max \\gamma(z_{nk}) $$"
   ]
  },
  {
   "cell_type": "markdown",
   "metadata": {
    "collapsed": true
   },
   "source": [
    "## Агломеративная кластеризация"
   ]
  },
  {
   "cell_type": "markdown",
   "metadata": {},
   "source": [
    "Иерархические алгоритмы кластеризации строят на выборке систему вложенных разбиений.  Наиболее часто испоьзуемые иерархические алгоритмы - агломеративные алгоритмы, которые строят ирархию по восходящей, то есть от момента, когда все элементы являются отдельными кластерами, до того момента, пока вся выборка не станет одним кластером."
   ]
  },
  {
   "cell_type": "markdown",
   "metadata": {},
   "source": [
    "Сам алгоритм описать можно примерно так:\n",
    "\n",
    "* начинаем с ситуации, когда каждый объект - отдельный кластер\n",
    "* на каждом шаге совмещаем два наиболее близких кластера\n",
    "* останавливаемся, когда получаем требуемое количество или единственный кластер"
   ]
  },
  {
   "cell_type": "markdown",
   "metadata": {},
   "source": [
    "\n",
    "В данной работе Вам предлагается реализовать три варианта расстояний между кластерами, по которым Вы определяете пару для слияния: \n",
    "* Single linkage\n",
    "$$ d_{min}(C_i, C_j) = \\min_{\\mathbf{x} \\in C_i, \\mathbf{x}' \\in C_j} \\|\\mathbf{x} -\\mathbf{x}' \\| $$\n",
    "\n",
    "* Complete linkage\n",
    "$$ d_{max}(C_i, C_j) = \\max_{\\mathbf{x} \\in C_i, \\mathbf{x}' \\in C_j} \\|\\mathbf{x} -\\mathbf{x}' \\| $$\n",
    "\n",
    "* Average linkage\n",
    "$$ d_{avg}(C_i, C_j) = \\frac{1}{n_i n_j}\\sum_{\\mathbf{x} \\in C_i}\\sum_{\\mathbf{x}' \\in C_j} \\|\\mathbf{x} -\\mathbf{x}' \\| $$\n",
    "\n",
    "Для простоты будем использовать евклидово расстояние между объектами.\n",
    "\n"
   ]
  },
  {
   "cell_type": "markdown",
   "metadata": {},
   "source": [
    "Для того, чтобы на втором этапе нам не пересчитывать заново расстояния между всеми парами кластеров, можно использовать Формулы Ланса-Вильямса, которые позволяют посчитать расстояние между кластерами после объединения, используя только расстояния между кластерами до объедения.  Таким образом, достаточно будет посчитать расстояния только между всеми одноэлементными кластерами (первый этап), а затем пересчитывать расстояния при их объединении через \n",
    "формулы Ланса-Вильямса. \n",
    "\n",
    "Общая  формула выглядит так:\n",
    "$$ d(C_i \\cup C_j, C_k) = a_i \\cdot d(C_i, C_k) + a_j \\cdot d(C_j, C_k) + b \\cdot d(C_i, C_j) + c \\cdot |d(C_i, C_k) - d(C_j, C_k)|$$\n",
    "\n",
    "Можно показать, что все относительно разумные кластерные расстояния можно описать данной формулой. \n",
    "\n",
    "Для интересущих нас linkage:\n",
    "\n",
    "* single-linkage       $a_i = \\frac{1}{2}, a_j =  \\frac{1}{2}, b = 0, c =  - \\frac{1}{2} $\n",
    "\n",
    "* complete-linkage     $a_i = \\frac{1}{2}, a_j =  \\frac{1}{2}, b = 0, c =   \\frac{1}{2} $\n",
    "\n",
    "* average-linkage       $a_i = \\frac{|C_i|}{|C_i \\cup C_j|}, a_j =  \\frac{|C_j|}{|C_i \\cup C_j|}, b = 0, c = 0 $\n",
    "\n"
   ]
  },
  {
   "cell_type": "markdown",
   "metadata": {},
   "source": [
    "# Теоретические вопросы (2 балла)\n",
    "В этой части Вам будут предложены теоретичские вопросы и задачи по теме. Вы, конечно, можете списать их у своего товарища или найти решение в интернете, но учтите, что они обязательно войдут в теоретический коллоквиум. Лучше разобраться в теме сейчас и успешно ответить на коллоквиуме, чем списать, не разобравшись в материале, и быть терзаемым совестью. \n",
    "\n",
    "\n",
    "Формулы надо оформлять в формате **LaTeX**."
   ]
  },
  {
   "cell_type": "markdown",
   "metadata": {},
   "source": [
    "Задача 1. Сходимость kmeans.\n",
    "\n",
    "Метод kmeans является частным случаем EM алгоритма и наиболее простым в обосновании сходимости. Докажите, что kmeans всегда сходится, и итераций не будет превышать $k^N$, где $k$ $-$ число кластеров, $N$ $-$ число объектов\n",
    "\n",
    "Подсказка: Вам стоит рассмотреть функционал, который минимизирует алгоритм, и подумать, как он изменяется на E шаге и на M шаге.\n",
    "\n"
   ]
  },
  {
   "cell_type": "markdown",
   "metadata": {},
   "source": [
    "***Ваше решение здесь***"
   ]
  },
  {
   "cell_type": "markdown",
   "metadata": {},
   "source": [
    "Функционал, минимизирующий kmeans: \n",
    "$$ L(C) = \\sum_{k=1}^K\\sum_{i\\in C_k} ||x_i - \\mu_k||^2 \\rightarrow \\min\\limits_C $$\n",
    "$$ \\mu_k = \\frac{1}{|C_k|} \\sum _{x_n \\in C_k} x_n $$"
   ]
  },
  {
   "cell_type": "markdown",
   "metadata": {},
   "source": [
    "E шаг: определение кластеров для точек\n",
    "$$C_k = \\{x_n : ||x_n - \\mu_k||^2 \\leq ||x_n - \\mu_l||^2 \\quad \\forall l \\neq k \\} $$\n",
    "\n",
    "На этом шаге центроиды фиксированы и кластеры для точек определяются, исходя из их близости к центроидам. В обоих случаях, как когда уже произошел M шаг, так и когда центроиды были выбраны случайно при инициализации, функционал не увеличивается.\n",
    "\n",
    "M шаг: пересчет и обновление центроидов\n",
    "$$ \\mu_k = \\frac{1}{|C_k|} \\sum _{x_n \\in C_k} x_n $$\n",
    "На этом шаге фиксированы кластеры для всех точек и уже центроиды пересчитываются, исходя из положений (расстояний) точек кластера относительно центра. На этом шаге функционал тоже не может увеличиться.\n",
    "\n",
    "Так как функционал не может увеличиться ни на E шаге, ни на М шаге, функционал не увеличивается на протяжении работы всего алгоритма.\n",
    "\n",
    "Так же можно сказать, что функционал ограничен, исходя из того, что на некотором M шаге никакой из центроидов не обновится или они обновятся на незначительную (заранее заданную) величину.\n",
    "\n",
    "Так как каждый объект мы можем отнести к одному из $k$ кластеров, объектов у нас $N$, а функционал не увеличивается и ограничен, то количество итераций не будет превышать $k^N$ -- ситуации, когда в работе алгоритма мы попытаемся отнести каждый возможный объект в каждый возможный кластер.\n",
    "\n"
   ]
  },
  {
   "cell_type": "markdown",
   "metadata": {},
   "source": [
    "Задача 2. Сходимость EM.\n",
    "\n",
    "Разобравшись со сходимостью kmeans, можно догадаться и до ответа про EM алгоритм.\n",
    "\n",
    "При каком условии на правдоподобие системы EM алгоритм будет  сходиться?\n",
    "\n"
   ]
  },
  {
   "cell_type": "markdown",
   "metadata": {},
   "source": [
    "***Ваше решение здесь***"
   ]
  },
  {
   "cell_type": "markdown",
   "metadata": {},
   "source": [
    "Правдоподобие должно быть ограничено"
   ]
  },
  {
   "cell_type": "markdown",
   "metadata": {},
   "source": [
    "Задача 3. Формулы Ланса-Вильямса.\n",
    "\n",
    "Формулы Ланса-Вильямса крайне удобны для быстрого пересчта расстояний в агломеративной кластеризации. Давайте докажем  формулы для single и complete linkage. \n",
    "\n",
    "Докажите, что:\n",
    "\n",
    "$d_{\\min}(U \\cup V, S) = \\frac{1}{2} d_{\\min}(U, S) + \\frac{1}{2} d_{\\min}(V, S)  - \\frac{1}{2} | d_{\\min}(U, S) - d_{\\min}(V, S) |  $\n",
    "\n",
    "\n",
    "$d_{\\max}(U \\cup V, S) = \\frac{1}{2} d_{\\max}(U, S) + \\frac{1}{2} d_{\\max}(V, S)  + \\frac{1}{2} | d_{\\max}(U, S) - d_{\\max}(V, S) |  $\n",
    "\n",
    "\n"
   ]
  },
  {
   "cell_type": "markdown",
   "metadata": {},
   "source": [
    "***Ваше решение здесь***"
   ]
  },
  {
   "cell_type": "markdown",
   "metadata": {},
   "source": [
    "Используя соотношения на минимум и максимум для чисел имеем:\n",
    "\n",
    "$d_{\\min}(U \\cup V, S) = \\min(d_{\\min}(U, S), d_{\\min}(V, S)) = \\min(A, B) = \\frac{1}{2}(A + B - |A-B|)$\n",
    "$d_{\\max}(U \\cup V, S) = \\max(d_{\\max}(U, S), d_{\\max}(V, S)) = \\max(A, B) = \\frac{1}{2}(A + B + |A-B|)$\n",
    "\n",
    "После подстановки обратно вместо $A \\rightarrow d_{\\min}(U, S)$ (для максимума $d_{\\max}(U, S)$), вместо $B \\rightarrow d_{\\min}(V, S)$ (для максимума $d_{\\max}(V, S)$) получаем искомые соотношения."
   ]
  },
  {
   "cell_type": "markdown",
   "metadata": {},
   "source": [
    "# Реализация алгоритма кластеризации  (6 баллов)"
   ]
  },
  {
   "cell_type": "markdown",
   "metadata": {},
   "source": [
    "Алгоритм кластеризации должен удовлетворять следующему интерфейсу. Конструктор принимает набор параметров, необходимых для работы алгоритма кластеризации. Метод `fit` подсчитывает параметры модели и возвращает `self`. Метод `predict` возвращает вектор с индексами кластеров для поданных в него объектов `x`. "
   ]
  },
  {
   "cell_type": "code",
   "execution_count": 108,
   "metadata": {},
   "outputs": [],
   "source": [
    "from sklearn.base import BaseEstimator, ClusterMixin\n",
    "from sklearn.metrics.pairwise import euclidean_distances as ED\n",
    "from itertools import combinations\n",
    "\n",
    "class Clustering(BaseEstimator, ClusterMixin):\n",
    "    \"\"\"\n",
    "    Implement clustering algorithm according \n",
    "    \"\"\"\n",
    "    \n",
    "    def __init__(self, k = 2, linkage='single', **kwargs):\n",
    "        \"\"\"\n",
    "        Please add necessary algoritm parameters to class constructor.\n",
    "        \"\"\"\n",
    "        self.k = k\n",
    "        self.linkage = linkage\n",
    "        if linkage == 'single':\n",
    "            self.cluster_distance = self.single_linkage\n",
    "        elif linkage == 'complete':\n",
    "            self.cluster_distance = self.complete_linkage\n",
    "        elif linkage == 'average':\n",
    "            self.cluster_distance = self.average_linkage\n",
    "        else:\n",
    "            raise ValueError('Not supported type of linkage')\n",
    "        \n",
    "        self.clusters = None\n",
    "        return\n",
    "    \n",
    "    def single_linkage(self, c_1, c_2):\n",
    "        return np.min(self.distances[c_1].T[c_2])\n",
    "    \n",
    "    def complete_linkage(self, c_1, c_2):\n",
    "        return np.max(self.distances[c_1].T[c_2])\n",
    "    \n",
    "    def average_linkage(self, c_1, c_2):\n",
    "        return np.sum(self.distances[c_1].T[c_2])/(len(c_1) * len(c_2))\n",
    "        \n",
    "    def fit(self, x, y=None):\n",
    "        \"\"\"\n",
    "        Use data matrix x to compute model parameters\n",
    "        \"\"\"\n",
    "        self.x_len = len(x)\n",
    "        self.distances = ED(x)\n",
    "        self.clusters = [[x] for x in range(self.x_len)]\n",
    "        \n",
    "        while len(self.clusters) > self.k:\n",
    "            c_1, c_2 = self.clusters[0], self.clusters[1]\n",
    "            distance = self.cluster_distance(c_1, c_2)\n",
    "            for tmp_c_1, tmp_c_2 in combinations(self.clusters, 2):\n",
    "                tmp_distance = self.cluster_distance(tmp_c_1, tmp_c_2)\n",
    "                if tmp_distance < distance:\n",
    "                    c_1, c_2, distance = tmp_c_1, tmp_c_2, tmp_distance\n",
    "            self.clusters.remove(c_1)\n",
    "            self.clusters.remove(c_2)\n",
    "            self.clusters.append(c_1 + c_2)\n",
    "        return self\n",
    "    \n",
    "    def predict(self, x):\n",
    "        \"\"\"\n",
    "        Using computed model parameters predict cluster\n",
    "        for all objects from x\n",
    "        \"\"\"\n",
    "\n",
    "        labels = np.ones(self.x_len, dtype=int)\n",
    "        for cl_num, x_ind in enumerate(self.clusters):\n",
    "            labels[x_ind] = cl_num\n",
    "        return labels\n",
    "    \n",
    "    def fit_predict(self, x, y=None):\n",
    "        self.fit(x, y)\n",
    "        return self.predict(x)"
   ]
  },
  {
   "cell_type": "markdown",
   "metadata": {},
   "source": [
    "Сначала проверим реализованный алгоритм кластеризации на классическом наборе данных [Iris](http://www.wikiwand.com/en/Iris_flower_data_set). Загрузим данные (они включены в библиотеку sklearn) и посмотрим на то, как они выглядят в двух проекциях (для простоты используем 2 класса из 3)."
   ]
  },
  {
   "cell_type": "code",
   "execution_count": 109,
   "metadata": {},
   "outputs": [
    {
     "data": {
      "image/png": "[encoded data removed]",
      "text/plain": [
       "<Figure size 720x360 with 2 Axes>"
      ]
     },
     "metadata": {
      "needs_background": "light"
     },
     "output_type": "display_data"
    }
   ],
   "source": [
    "iris = ds.load_iris()\n",
    "x_iris = iris.data[:100]\n",
    "y_iris = iris.target[:100]\n",
    "\n",
    "pl.figure(figsize=(10, 5))\n",
    "\n",
    "pl.subplot(1, 2, 1)\n",
    "pl.scatter(x_iris[:, 0], x_iris[:, 1], c=y_iris, cmap=pl.cm.PuOr, lw=0, s=30)\n",
    "plt.xlabel('Sepal length')\n",
    "plt.ylabel('Sepal width')\n",
    "\n",
    "pl.subplot(1, 2, 2)\n",
    "pl.scatter(x_iris[:, 2], x_iris[:, 3], c=y_iris, cmap=pl.cm.PuOr, lw=0, s=30)\n",
    "plt.xlabel('Petal length')\n",
    "plt.ylabel('Petal width')\n",
    "pl.show()"
   ]
  },
  {
   "cell_type": "markdown",
   "metadata": {},
   "source": [
    "Видно, что классы разделяются, поэтому можно надеяться, что наш алгоритм \"найдет\" кластеры, соответствующие исходным классам. Результат работы реализованного алгоритма кластеризации предлагается сравнить с эталонной кластеризацией. Для этого предлагается изучить метрику ([adjusted rand score](http://scikit-learn.org/stable/modules/generated/sklearn.metrics.adjusted_rand_score.html)). В случае если значение этой метрики отличается от 1, предлагается поработать над улучшением реализации своего алгоритма."
   ]
  },
  {
   "cell_type": "code",
   "execution_count": 128,
   "metadata": {},
   "outputs": [
    {
     "name": "stdout",
     "output_type": "stream",
     "text": [
      "Adjusted Rand index for iris is: 1.0\n",
      "Time for iris is: 2.80\n"
     ]
    }
   ],
   "source": [
    "my_aggl = Clustering()\n",
    "aggl_t0 = time.time()\n",
    "my_aggl_pred = my_aggl.fit_predict(x_iris)\n",
    "my_aggl_diff = time.time() - aggl_t0\n",
    "my_aggl_score = smt.adjusted_rand_score(y_iris, my_aggl_pred)\n",
    "\n",
    "print (\"Adjusted Rand index for iris is: %.1f\" % my_aggl_score)\n",
    "print (\"Time for iris is: %.2f\" % my_aggl_diff)"
   ]
  },
  {
   "cell_type": "code",
   "execution_count": 129,
   "metadata": {},
   "outputs": [
    {
     "name": "stdout",
     "output_type": "stream",
     "text": [
      "AGGL score 1.0. AGGL time 0.006826162338256836\n"
     ]
    }
   ],
   "source": [
    "# Давайте проверим, как справляются sklearn реализации\n",
    "sklearn_gmm = GaussianMixture(n_components=2)\n",
    "gmm_t0 = time.time()\n",
    "sklearn_gmm.fit(x_iris)\n",
    "gmm_diff = time.time() - gmm_t0\n",
    "gmm_score = smt.adjusted_rand_score(y_iris, sklearn_gmm.predict(x_iris))\n",
    "\n",
    "sklearn_aggl = AgglomerativeClustering(n_clusters=2)\n",
    "aggl_t0 = time.time()\n",
    "aggl_pred = sklearn_aggl.fit_predict(x_iris)\n",
    "aggl_diff = time.time() - aggl_t0\n",
    "aggl_score = smt.adjusted_rand_score(y_iris, aggl_pred)\n",
    "\n",
    "# print (\"GMM score {}. GMM time {}. AGGL score {}. AGGL time {}\".format(gmm_score, gmm_diff, aggl_score, aggl_diff))\n",
    "print (\"AGGL score {}. AGGL time {}\".format(gmm_score, gmm_diff, aggl_score, aggl_diff))"
   ]
  },
  {
   "cell_type": "markdown",
   "metadata": {},
   "source": [
    "Сверьте Ваш алгоритм с этими числами. Уверен, что у Вас получится не хуже!"
   ]
  },
  {
   "cell_type": "markdown",
   "metadata": {
    "collapsed": true
   },
   "source": [
    "# Боевое применение (2  балла)\n"
   ]
  },
  {
   "cell_type": "markdown",
   "metadata": {
    "collapsed": true
   },
   "source": [
    "Алгоритмы кластеризации прекрасны тем, что они позволяют быстро понять, как устроены наши данные. Давайте применим Ваш алгоритм для анализа реальной задачи!"
   ]
  },
  {
   "cell_type": "markdown",
   "metadata": {},
   "source": [
    "Важное замечание: в этой части задания студенту самому предлагается разобраться с данными и их форматом в качестве полезного упраженения. Не принимайте это близко к сердцу :)"
   ]
  },
  {
   "cell_type": "markdown",
   "metadata": {},
   "source": [
    "Ввозьмем датасет различных стран.  \n",
    "Данные нужно скачать тут https://data.worldbank.org/data-catalog/world-development-indicators.   \n"
   ]
  },
  {
   "cell_type": "markdown",
   "metadata": {},
   "source": [
    "Подход следующий: фиксируем год, для каждой страны берём индикаторы по зафиксированному году, кластеризуем по индикаторам. \n",
    "Разбиение должно быть объяснимым, в противном случае, скорее всего нужно лучше настроить параметры кластеризации.   \n",
    "\n",
    "Необходимо показать, какие страны попали в общий кластер в и объяснить из-за каких признаков это произошло. Если страны были в одном кластере, а спустя несколько лет разъехались по разным кластерам, попробуйте это объяснить. "
   ]
  },
  {
   "cell_type": "code",
   "execution_count": 169,
   "metadata": {},
   "outputs": [
    {
     "name": "stdout",
     "output_type": "stream",
     "text": [
      "(422400, 63)\n"
     ]
    },
    {
     "data": {
      "text/html": [
       "<div>\n",
       "<style scoped>\n",
       "    .dataframe tbody tr th:only-of-type {\n",
       "        vertical-align: middle;\n",
       "    }\n",
       "\n",
       "    .dataframe tbody tr th {\n",
       "        vertical-align: top;\n",
       "    }\n",
       "\n",
       "    .dataframe thead th {\n",
       "        text-align: right;\n",
       "    }\n",
       "</style>\n",
       "<table border=\"1\" class=\"dataframe\">\n",
       "  <thead>\n",
       "    <tr style=\"text-align: right;\">\n",
       "      <th></th>\n",
       "      <th>Country Name</th>\n",
       "      <th>Country Code</th>\n",
       "      <th>Indicator Name</th>\n",
       "      <th>Indicator Code</th>\n",
       "      <th>1960</th>\n",
       "      <th>1961</th>\n",
       "      <th>1962</th>\n",
       "      <th>1963</th>\n",
       "      <th>1964</th>\n",
       "      <th>1965</th>\n",
       "      <th>...</th>\n",
       "      <th>2009</th>\n",
       "      <th>2010</th>\n",
       "      <th>2011</th>\n",
       "      <th>2012</th>\n",
       "      <th>2013</th>\n",
       "      <th>2014</th>\n",
       "      <th>2015</th>\n",
       "      <th>2016</th>\n",
       "      <th>2017</th>\n",
       "      <th>Unnamed: 62</th>\n",
       "    </tr>\n",
       "  </thead>\n",
       "  <tbody>\n",
       "    <tr>\n",
       "      <th>0</th>\n",
       "      <td>Arab World</td>\n",
       "      <td>ARB</td>\n",
       "      <td>2005 PPP conversion factor, GDP (LCU per inter...</td>\n",
       "      <td>PA.NUS.PPP.05</td>\n",
       "      <td>NaN</td>\n",
       "      <td>NaN</td>\n",
       "      <td>NaN</td>\n",
       "      <td>NaN</td>\n",
       "      <td>NaN</td>\n",
       "      <td>NaN</td>\n",
       "      <td>...</td>\n",
       "      <td>NaN</td>\n",
       "      <td>NaN</td>\n",
       "      <td>NaN</td>\n",
       "      <td>NaN</td>\n",
       "      <td>NaN</td>\n",
       "      <td>NaN</td>\n",
       "      <td>NaN</td>\n",
       "      <td>NaN</td>\n",
       "      <td>NaN</td>\n",
       "      <td>NaN</td>\n",
       "    </tr>\n",
       "    <tr>\n",
       "      <th>1</th>\n",
       "      <td>Arab World</td>\n",
       "      <td>ARB</td>\n",
       "      <td>2005 PPP conversion factor, private consumptio...</td>\n",
       "      <td>PA.NUS.PRVT.PP.05</td>\n",
       "      <td>NaN</td>\n",
       "      <td>NaN</td>\n",
       "      <td>NaN</td>\n",
       "      <td>NaN</td>\n",
       "      <td>NaN</td>\n",
       "      <td>NaN</td>\n",
       "      <td>...</td>\n",
       "      <td>NaN</td>\n",
       "      <td>NaN</td>\n",
       "      <td>NaN</td>\n",
       "      <td>NaN</td>\n",
       "      <td>NaN</td>\n",
       "      <td>NaN</td>\n",
       "      <td>NaN</td>\n",
       "      <td>NaN</td>\n",
       "      <td>NaN</td>\n",
       "      <td>NaN</td>\n",
       "    </tr>\n",
       "    <tr>\n",
       "      <th>2</th>\n",
       "      <td>Arab World</td>\n",
       "      <td>ARB</td>\n",
       "      <td>Access to clean fuels and technologies for coo...</td>\n",
       "      <td>EG.CFT.ACCS.ZS</td>\n",
       "      <td>NaN</td>\n",
       "      <td>NaN</td>\n",
       "      <td>NaN</td>\n",
       "      <td>NaN</td>\n",
       "      <td>NaN</td>\n",
       "      <td>NaN</td>\n",
       "      <td>...</td>\n",
       "      <td>81.844982</td>\n",
       "      <td>82.407647</td>\n",
       "      <td>82.827636</td>\n",
       "      <td>83.169227</td>\n",
       "      <td>83.587141</td>\n",
       "      <td>83.954293</td>\n",
       "      <td>84.230630</td>\n",
       "      <td>84.570425</td>\n",
       "      <td>NaN</td>\n",
       "      <td>NaN</td>\n",
       "    </tr>\n",
       "    <tr>\n",
       "      <th>3</th>\n",
       "      <td>Arab World</td>\n",
       "      <td>ARB</td>\n",
       "      <td>Access to electricity (% of population)</td>\n",
       "      <td>EG.ELC.ACCS.ZS</td>\n",
       "      <td>NaN</td>\n",
       "      <td>NaN</td>\n",
       "      <td>NaN</td>\n",
       "      <td>NaN</td>\n",
       "      <td>NaN</td>\n",
       "      <td>NaN</td>\n",
       "      <td>...</td>\n",
       "      <td>85.189815</td>\n",
       "      <td>86.136134</td>\n",
       "      <td>86.782683</td>\n",
       "      <td>87.288244</td>\n",
       "      <td>88.389705</td>\n",
       "      <td>88.076774</td>\n",
       "      <td>88.517967</td>\n",
       "      <td>88.768654</td>\n",
       "      <td>NaN</td>\n",
       "      <td>NaN</td>\n",
       "    </tr>\n",
       "    <tr>\n",
       "      <th>4</th>\n",
       "      <td>Arab World</td>\n",
       "      <td>ARB</td>\n",
       "      <td>Access to electricity, rural (% of rural popul...</td>\n",
       "      <td>EG.ELC.ACCS.RU.ZS</td>\n",
       "      <td>NaN</td>\n",
       "      <td>NaN</td>\n",
       "      <td>NaN</td>\n",
       "      <td>NaN</td>\n",
       "      <td>NaN</td>\n",
       "      <td>NaN</td>\n",
       "      <td>...</td>\n",
       "      <td>73.530494</td>\n",
       "      <td>74.543489</td>\n",
       "      <td>75.770972</td>\n",
       "      <td>76.772916</td>\n",
       "      <td>78.839139</td>\n",
       "      <td>77.487377</td>\n",
       "      <td>78.564439</td>\n",
       "      <td>78.958780</td>\n",
       "      <td>NaN</td>\n",
       "      <td>NaN</td>\n",
       "    </tr>\n",
       "  </tbody>\n",
       "</table>\n",
       "<p>5 rows × 63 columns</p>\n",
       "</div>"
      ],
      "text/plain": [
       "  Country Name Country Code  \\\n",
       "0   Arab World          ARB   \n",
       "1   Arab World          ARB   \n",
       "2   Arab World          ARB   \n",
       "3   Arab World          ARB   \n",
       "4   Arab World          ARB   \n",
       "\n",
       "                                      Indicator Name     Indicator Code  1960  \\\n",
       "0  2005 PPP conversion factor, GDP (LCU per inter...      PA.NUS.PPP.05   NaN   \n",
       "1  2005 PPP conversion factor, private consumptio...  PA.NUS.PRVT.PP.05   NaN   \n",
       "2  Access to clean fuels and technologies for coo...     EG.CFT.ACCS.ZS   NaN   \n",
       "3            Access to electricity (% of population)     EG.ELC.ACCS.ZS   NaN   \n",
       "4  Access to electricity, rural (% of rural popul...  EG.ELC.ACCS.RU.ZS   NaN   \n",
       "\n",
       "   1961  1962  1963  1964  1965     ...            2009       2010       2011  \\\n",
       "0   NaN   NaN   NaN   NaN   NaN     ...             NaN        NaN        NaN   \n",
       "1   NaN   NaN   NaN   NaN   NaN     ...             NaN        NaN        NaN   \n",
       "2   NaN   NaN   NaN   NaN   NaN     ...       81.844982  82.407647  82.827636   \n",
       "3   NaN   NaN   NaN   NaN   NaN     ...       85.189815  86.136134  86.782683   \n",
       "4   NaN   NaN   NaN   NaN   NaN     ...       73.530494  74.543489  75.770972   \n",
       "\n",
       "        2012       2013       2014       2015       2016  2017  Unnamed: 62  \n",
       "0        NaN        NaN        NaN        NaN        NaN   NaN          NaN  \n",
       "1        NaN        NaN        NaN        NaN        NaN   NaN          NaN  \n",
       "2  83.169227  83.587141  83.954293  84.230630  84.570425   NaN          NaN  \n",
       "3  87.288244  88.389705  88.076774  88.517967  88.768654   NaN          NaN  \n",
       "4  76.772916  78.839139  77.487377  78.564439  78.958780   NaN          NaN  \n",
       "\n",
       "[5 rows x 63 columns]"
      ]
     },
     "execution_count": 169,
     "metadata": {},
     "output_type": "execute_result"
    }
   ],
   "source": [
    "# Место для Вашего кластерного анализа\n",
    "df = pd.read_csv('WDIData.csv')\n",
    "print(df.shape)\n",
    "df.head()"
   ]
  },
  {
   "cell_type": "code",
   "execution_count": 170,
   "metadata": {},
   "outputs": [
    {
     "data": {
      "text/plain": [
       "Index(['Country Name', 'Country Code', 'Indicator Name', 'Indicator Code',\n",
       "       '1960', '1961', '1962', '1963', '1964', '1965', '1966', '1967', '1968',\n",
       "       '1969', '1970', '1971', '1972', '1973', '1974', '1975', '1976', '1977',\n",
       "       '1978', '1979', '1980', '1981', '1982', '1983', '1984', '1985', '1986',\n",
       "       '1987', '1988', '1989', '1990', '1991', '1992', '1993', '1994', '1995',\n",
       "       '1996', '1997', '1998', '1999', '2000', '2001', '2002', '2003', '2004',\n",
       "       '2005', '2006', '2007', '2008', '2009', '2010', '2011', '2012', '2013',\n",
       "       '2014', '2015', '2016', '2017', 'Unnamed: 62'],\n",
       "      dtype='object')"
      ]
     },
     "execution_count": 170,
     "metadata": {},
     "output_type": "execute_result"
    }
   ],
   "source": [
    "df.columns"
   ]
  },
  {
   "cell_type": "code",
   "execution_count": 171,
   "metadata": {},
   "outputs": [
    {
     "data": {
      "text/html": [
       "<div>\n",
       "<style scoped>\n",
       "    .dataframe tbody tr th:only-of-type {\n",
       "        vertical-align: middle;\n",
       "    }\n",
       "\n",
       "    .dataframe tbody tr th {\n",
       "        vertical-align: top;\n",
       "    }\n",
       "\n",
       "    .dataframe thead th {\n",
       "        text-align: right;\n",
       "    }\n",
       "</style>\n",
       "<table border=\"1\" class=\"dataframe\">\n",
       "  <thead>\n",
       "    <tr style=\"text-align: right;\">\n",
       "      <th></th>\n",
       "      <th>Country Name</th>\n",
       "      <th>Indicator Name</th>\n",
       "      <th>1960</th>\n",
       "      <th>1961</th>\n",
       "      <th>1962</th>\n",
       "      <th>1963</th>\n",
       "      <th>1964</th>\n",
       "      <th>1965</th>\n",
       "      <th>1966</th>\n",
       "      <th>1967</th>\n",
       "      <th>...</th>\n",
       "      <th>2008</th>\n",
       "      <th>2009</th>\n",
       "      <th>2010</th>\n",
       "      <th>2011</th>\n",
       "      <th>2012</th>\n",
       "      <th>2013</th>\n",
       "      <th>2014</th>\n",
       "      <th>2015</th>\n",
       "      <th>2016</th>\n",
       "      <th>2017</th>\n",
       "    </tr>\n",
       "  </thead>\n",
       "  <tbody>\n",
       "    <tr>\n",
       "      <th>0</th>\n",
       "      <td>Arab World</td>\n",
       "      <td>2005 PPP conversion factor, GDP (LCU per inter...</td>\n",
       "      <td>NaN</td>\n",
       "      <td>NaN</td>\n",
       "      <td>NaN</td>\n",
       "      <td>NaN</td>\n",
       "      <td>NaN</td>\n",
       "      <td>NaN</td>\n",
       "      <td>NaN</td>\n",
       "      <td>NaN</td>\n",
       "      <td>...</td>\n",
       "      <td>NaN</td>\n",
       "      <td>NaN</td>\n",
       "      <td>NaN</td>\n",
       "      <td>NaN</td>\n",
       "      <td>NaN</td>\n",
       "      <td>NaN</td>\n",
       "      <td>NaN</td>\n",
       "      <td>NaN</td>\n",
       "      <td>NaN</td>\n",
       "      <td>NaN</td>\n",
       "    </tr>\n",
       "    <tr>\n",
       "      <th>1</th>\n",
       "      <td>Arab World</td>\n",
       "      <td>2005 PPP conversion factor, private consumptio...</td>\n",
       "      <td>NaN</td>\n",
       "      <td>NaN</td>\n",
       "      <td>NaN</td>\n",
       "      <td>NaN</td>\n",
       "      <td>NaN</td>\n",
       "      <td>NaN</td>\n",
       "      <td>NaN</td>\n",
       "      <td>NaN</td>\n",
       "      <td>...</td>\n",
       "      <td>NaN</td>\n",
       "      <td>NaN</td>\n",
       "      <td>NaN</td>\n",
       "      <td>NaN</td>\n",
       "      <td>NaN</td>\n",
       "      <td>NaN</td>\n",
       "      <td>NaN</td>\n",
       "      <td>NaN</td>\n",
       "      <td>NaN</td>\n",
       "      <td>NaN</td>\n",
       "    </tr>\n",
       "    <tr>\n",
       "      <th>2</th>\n",
       "      <td>Arab World</td>\n",
       "      <td>Access to clean fuels and technologies for coo...</td>\n",
       "      <td>NaN</td>\n",
       "      <td>NaN</td>\n",
       "      <td>NaN</td>\n",
       "      <td>NaN</td>\n",
       "      <td>NaN</td>\n",
       "      <td>NaN</td>\n",
       "      <td>NaN</td>\n",
       "      <td>NaN</td>\n",
       "      <td>...</td>\n",
       "      <td>81.243897</td>\n",
       "      <td>81.844982</td>\n",
       "      <td>82.407647</td>\n",
       "      <td>82.827636</td>\n",
       "      <td>83.169227</td>\n",
       "      <td>83.587141</td>\n",
       "      <td>83.954293</td>\n",
       "      <td>84.230630</td>\n",
       "      <td>84.570425</td>\n",
       "      <td>NaN</td>\n",
       "    </tr>\n",
       "    <tr>\n",
       "      <th>3</th>\n",
       "      <td>Arab World</td>\n",
       "      <td>Access to electricity (% of population)</td>\n",
       "      <td>NaN</td>\n",
       "      <td>NaN</td>\n",
       "      <td>NaN</td>\n",
       "      <td>NaN</td>\n",
       "      <td>NaN</td>\n",
       "      <td>NaN</td>\n",
       "      <td>NaN</td>\n",
       "      <td>NaN</td>\n",
       "      <td>...</td>\n",
       "      <td>85.432827</td>\n",
       "      <td>85.189815</td>\n",
       "      <td>86.136134</td>\n",
       "      <td>86.782683</td>\n",
       "      <td>87.288244</td>\n",
       "      <td>88.389705</td>\n",
       "      <td>88.076774</td>\n",
       "      <td>88.517967</td>\n",
       "      <td>88.768654</td>\n",
       "      <td>NaN</td>\n",
       "    </tr>\n",
       "    <tr>\n",
       "      <th>4</th>\n",
       "      <td>Arab World</td>\n",
       "      <td>Access to electricity, rural (% of rural popul...</td>\n",
       "      <td>NaN</td>\n",
       "      <td>NaN</td>\n",
       "      <td>NaN</td>\n",
       "      <td>NaN</td>\n",
       "      <td>NaN</td>\n",
       "      <td>NaN</td>\n",
       "      <td>NaN</td>\n",
       "      <td>NaN</td>\n",
       "      <td>...</td>\n",
       "      <td>73.402277</td>\n",
       "      <td>73.530494</td>\n",
       "      <td>74.543489</td>\n",
       "      <td>75.770972</td>\n",
       "      <td>76.772916</td>\n",
       "      <td>78.839139</td>\n",
       "      <td>77.487377</td>\n",
       "      <td>78.564439</td>\n",
       "      <td>78.958780</td>\n",
       "      <td>NaN</td>\n",
       "    </tr>\n",
       "  </tbody>\n",
       "</table>\n",
       "<p>5 rows × 60 columns</p>\n",
       "</div>"
      ],
      "text/plain": [
       "  Country Name                                     Indicator Name  1960  1961  \\\n",
       "0   Arab World  2005 PPP conversion factor, GDP (LCU per inter...   NaN   NaN   \n",
       "1   Arab World  2005 PPP conversion factor, private consumptio...   NaN   NaN   \n",
       "2   Arab World  Access to clean fuels and technologies for coo...   NaN   NaN   \n",
       "3   Arab World            Access to electricity (% of population)   NaN   NaN   \n",
       "4   Arab World  Access to electricity, rural (% of rural popul...   NaN   NaN   \n",
       "\n",
       "   1962  1963  1964  1965  1966  1967  ...        2008       2009       2010  \\\n",
       "0   NaN   NaN   NaN   NaN   NaN   NaN  ...         NaN        NaN        NaN   \n",
       "1   NaN   NaN   NaN   NaN   NaN   NaN  ...         NaN        NaN        NaN   \n",
       "2   NaN   NaN   NaN   NaN   NaN   NaN  ...   81.243897  81.844982  82.407647   \n",
       "3   NaN   NaN   NaN   NaN   NaN   NaN  ...   85.432827  85.189815  86.136134   \n",
       "4   NaN   NaN   NaN   NaN   NaN   NaN  ...   73.402277  73.530494  74.543489   \n",
       "\n",
       "        2011       2012       2013       2014       2015       2016  2017  \n",
       "0        NaN        NaN        NaN        NaN        NaN        NaN   NaN  \n",
       "1        NaN        NaN        NaN        NaN        NaN        NaN   NaN  \n",
       "2  82.827636  83.169227  83.587141  83.954293  84.230630  84.570425   NaN  \n",
       "3  86.782683  87.288244  88.389705  88.076774  88.517967  88.768654   NaN  \n",
       "4  75.770972  76.772916  78.839139  77.487377  78.564439  78.958780   NaN  \n",
       "\n",
       "[5 rows x 60 columns]"
      ]
     },
     "execution_count": 171,
     "metadata": {},
     "output_type": "execute_result"
    }
   ],
   "source": [
    "df.drop(['Country Code', 'Indicator Code', 'Unnamed: 62'], inplace=True, axis=1)\n",
    "df.head()"
   ]
  },
  {
   "cell_type": "code",
   "execution_count": 172,
   "metadata": {},
   "outputs": [],
   "source": [
    "from sklearn.preprocessing import LabelEncoder\n",
    "from sklearn.preprocessing import StandardScaler\n",
    "\n",
    "scaler = StandardScaler()\n",
    "encoder = LabelEncoder()"
   ]
  },
  {
   "cell_type": "markdown",
   "metadata": {},
   "source": [
    "countries_map, indicators_map будут хранить соответствие закодированным названиям стран и индикаторов соответственно"
   ]
  },
  {
   "cell_type": "code",
   "execution_count": 173,
   "metadata": {},
   "outputs": [
    {
     "data": {
      "text/plain": [
       "264"
      ]
     },
     "execution_count": 173,
     "metadata": {},
     "output_type": "execute_result"
    }
   ],
   "source": [
    "df['Country Name'] = encoder.fit_transform(df['Country Name'])\n",
    "countries_map = list(encoder.classes_)\n",
    "len(countries_map)"
   ]
  },
  {
   "cell_type": "code",
   "execution_count": 174,
   "metadata": {},
   "outputs": [
    {
     "data": {
      "text/plain": [
       "1600"
      ]
     },
     "execution_count": 174,
     "metadata": {},
     "output_type": "execute_result"
    }
   ],
   "source": [
    "df['Indicator Name'] = encoder.fit_transform(df['Indicator Name'])\n",
    "indicators_map = list(encoder.classes_)\n",
    "len(indicators_map)"
   ]
  },
  {
   "cell_type": "code",
   "execution_count": 175,
   "metadata": {},
   "outputs": [
    {
     "data": {
      "text/html": [
       "<div>\n",
       "<style scoped>\n",
       "    .dataframe tbody tr th:only-of-type {\n",
       "        vertical-align: middle;\n",
       "    }\n",
       "\n",
       "    .dataframe tbody tr th {\n",
       "        vertical-align: top;\n",
       "    }\n",
       "\n",
       "    .dataframe thead th {\n",
       "        text-align: right;\n",
       "    }\n",
       "</style>\n",
       "<table border=\"1\" class=\"dataframe\">\n",
       "  <thead>\n",
       "    <tr style=\"text-align: right;\">\n",
       "      <th></th>\n",
       "      <th>Country Name</th>\n",
       "      <th>Indicator Name</th>\n",
       "      <th>1960</th>\n",
       "      <th>1961</th>\n",
       "      <th>1962</th>\n",
       "      <th>1963</th>\n",
       "      <th>1964</th>\n",
       "      <th>1965</th>\n",
       "      <th>1966</th>\n",
       "      <th>1967</th>\n",
       "      <th>...</th>\n",
       "      <th>2008</th>\n",
       "      <th>2009</th>\n",
       "      <th>2010</th>\n",
       "      <th>2011</th>\n",
       "      <th>2012</th>\n",
       "      <th>2013</th>\n",
       "      <th>2014</th>\n",
       "      <th>2015</th>\n",
       "      <th>2016</th>\n",
       "      <th>2017</th>\n",
       "    </tr>\n",
       "  </thead>\n",
       "  <tbody>\n",
       "    <tr>\n",
       "      <th>0</th>\n",
       "      <td>7</td>\n",
       "      <td>0</td>\n",
       "      <td>NaN</td>\n",
       "      <td>NaN</td>\n",
       "      <td>NaN</td>\n",
       "      <td>NaN</td>\n",
       "      <td>NaN</td>\n",
       "      <td>NaN</td>\n",
       "      <td>NaN</td>\n",
       "      <td>NaN</td>\n",
       "      <td>...</td>\n",
       "      <td>NaN</td>\n",
       "      <td>NaN</td>\n",
       "      <td>NaN</td>\n",
       "      <td>NaN</td>\n",
       "      <td>NaN</td>\n",
       "      <td>NaN</td>\n",
       "      <td>NaN</td>\n",
       "      <td>NaN</td>\n",
       "      <td>NaN</td>\n",
       "      <td>NaN</td>\n",
       "    </tr>\n",
       "    <tr>\n",
       "      <th>1</th>\n",
       "      <td>7</td>\n",
       "      <td>1</td>\n",
       "      <td>NaN</td>\n",
       "      <td>NaN</td>\n",
       "      <td>NaN</td>\n",
       "      <td>NaN</td>\n",
       "      <td>NaN</td>\n",
       "      <td>NaN</td>\n",
       "      <td>NaN</td>\n",
       "      <td>NaN</td>\n",
       "      <td>...</td>\n",
       "      <td>NaN</td>\n",
       "      <td>NaN</td>\n",
       "      <td>NaN</td>\n",
       "      <td>NaN</td>\n",
       "      <td>NaN</td>\n",
       "      <td>NaN</td>\n",
       "      <td>NaN</td>\n",
       "      <td>NaN</td>\n",
       "      <td>NaN</td>\n",
       "      <td>NaN</td>\n",
       "    </tr>\n",
       "    <tr>\n",
       "      <th>2</th>\n",
       "      <td>7</td>\n",
       "      <td>3</td>\n",
       "      <td>NaN</td>\n",
       "      <td>NaN</td>\n",
       "      <td>NaN</td>\n",
       "      <td>NaN</td>\n",
       "      <td>NaN</td>\n",
       "      <td>NaN</td>\n",
       "      <td>NaN</td>\n",
       "      <td>NaN</td>\n",
       "      <td>...</td>\n",
       "      <td>81.243897</td>\n",
       "      <td>81.844982</td>\n",
       "      <td>82.407647</td>\n",
       "      <td>82.827636</td>\n",
       "      <td>83.169227</td>\n",
       "      <td>83.587141</td>\n",
       "      <td>83.954293</td>\n",
       "      <td>84.230630</td>\n",
       "      <td>84.570425</td>\n",
       "      <td>NaN</td>\n",
       "    </tr>\n",
       "    <tr>\n",
       "      <th>3</th>\n",
       "      <td>7</td>\n",
       "      <td>4</td>\n",
       "      <td>NaN</td>\n",
       "      <td>NaN</td>\n",
       "      <td>NaN</td>\n",
       "      <td>NaN</td>\n",
       "      <td>NaN</td>\n",
       "      <td>NaN</td>\n",
       "      <td>NaN</td>\n",
       "      <td>NaN</td>\n",
       "      <td>...</td>\n",
       "      <td>85.432827</td>\n",
       "      <td>85.189815</td>\n",
       "      <td>86.136134</td>\n",
       "      <td>86.782683</td>\n",
       "      <td>87.288244</td>\n",
       "      <td>88.389705</td>\n",
       "      <td>88.076774</td>\n",
       "      <td>88.517967</td>\n",
       "      <td>88.768654</td>\n",
       "      <td>NaN</td>\n",
       "    </tr>\n",
       "    <tr>\n",
       "      <th>4</th>\n",
       "      <td>7</td>\n",
       "      <td>5</td>\n",
       "      <td>NaN</td>\n",
       "      <td>NaN</td>\n",
       "      <td>NaN</td>\n",
       "      <td>NaN</td>\n",
       "      <td>NaN</td>\n",
       "      <td>NaN</td>\n",
       "      <td>NaN</td>\n",
       "      <td>NaN</td>\n",
       "      <td>...</td>\n",
       "      <td>73.402277</td>\n",
       "      <td>73.530494</td>\n",
       "      <td>74.543489</td>\n",
       "      <td>75.770972</td>\n",
       "      <td>76.772916</td>\n",
       "      <td>78.839139</td>\n",
       "      <td>77.487377</td>\n",
       "      <td>78.564439</td>\n",
       "      <td>78.958780</td>\n",
       "      <td>NaN</td>\n",
       "    </tr>\n",
       "  </tbody>\n",
       "</table>\n",
       "<p>5 rows × 60 columns</p>\n",
       "</div>"
      ],
      "text/plain": [
       "   Country Name  Indicator Name  1960  1961  1962  1963  1964  1965  1966  \\\n",
       "0             7               0   NaN   NaN   NaN   NaN   NaN   NaN   NaN   \n",
       "1             7               1   NaN   NaN   NaN   NaN   NaN   NaN   NaN   \n",
       "2             7               3   NaN   NaN   NaN   NaN   NaN   NaN   NaN   \n",
       "3             7               4   NaN   NaN   NaN   NaN   NaN   NaN   NaN   \n",
       "4             7               5   NaN   NaN   NaN   NaN   NaN   NaN   NaN   \n",
       "\n",
       "   1967  ...        2008       2009       2010       2011       2012  \\\n",
       "0   NaN  ...         NaN        NaN        NaN        NaN        NaN   \n",
       "1   NaN  ...         NaN        NaN        NaN        NaN        NaN   \n",
       "2   NaN  ...   81.243897  81.844982  82.407647  82.827636  83.169227   \n",
       "3   NaN  ...   85.432827  85.189815  86.136134  86.782683  87.288244   \n",
       "4   NaN  ...   73.402277  73.530494  74.543489  75.770972  76.772916   \n",
       "\n",
       "        2013       2014       2015       2016  2017  \n",
       "0        NaN        NaN        NaN        NaN   NaN  \n",
       "1        NaN        NaN        NaN        NaN   NaN  \n",
       "2  83.587141  83.954293  84.230630  84.570425   NaN  \n",
       "3  88.389705  88.076774  88.517967  88.768654   NaN  \n",
       "4  78.839139  77.487377  78.564439  78.958780   NaN  \n",
       "\n",
       "[5 rows x 60 columns]"
      ]
     },
     "execution_count": 175,
     "metadata": {},
     "output_type": "execute_result"
    }
   ],
   "source": [
    "df.head()"
   ]
  },
  {
   "cell_type": "code",
   "execution_count": 247,
   "metadata": {},
   "outputs": [],
   "source": [
    "df_tmp = df.copy()"
   ]
  },
  {
   "cell_type": "markdown",
   "metadata": {},
   "source": [
    "Для каждого года разобью страны по кластерам исходя из их индикаторов, рассмотрю максимальные по модулю средние значения индикаторов для кластеров (вероятно, они должны что-то сказать о природе разделения на кластеры)."
   ]
  },
  {
   "cell_type": "code",
   "execution_count": 308,
   "metadata": {},
   "outputs": [],
   "source": [
    "def clusterize_and_print_year_info(k=5, top_indicators_to_print=3, year = '1960'):\n",
    "    print(\"Chosen k:\", k)\n",
    "\n",
    "    year_df = pd.DataFrame()\n",
    "    year_df['country'] = df_tmp['Country Name']\n",
    "    year_df['indicator'] = df_tmp['Indicator Name']\n",
    "    year_df[year] = df_tmp[year]\n",
    "    year_df.fillna(0, inplace=True)\n",
    "\n",
    "    indicators_by_countries = np.ones((264, 1600))\n",
    "\n",
    "    for c_ind in range(264):\n",
    "        indicators_by_countries[c_ind] = year_df[year_df.country == c_ind][year]\n",
    "\n",
    "    indicators_by_countries = scaler.fit_transform(indicators_by_countries)\n",
    "    \n",
    "    clusters = Clustering(k=k).fit_predict(indicators_by_countries)\n",
    "\n",
    "    countries = {}\n",
    "    indicators = {}\n",
    "    # k clusters for countries and indicators\n",
    "    for i in range(k):\n",
    "        countries[i] = []\n",
    "        indicators[i] = []\n",
    "\n",
    "\n",
    "    for i, cl_num in enumerate(clusters):\n",
    "        countries[cl_num].append(countries_map[i])\n",
    "        indicators[cl_num].append(indicators_by_countries[i])\n",
    "\n",
    "    print(year)\n",
    "\n",
    "    for k_num in range(k):\n",
    "        print(\"*\"*100)\n",
    "        print('Cluster:', k_num)\n",
    "        print(len(countries[k_num]), countries[k_num])\n",
    "\n",
    "        ind_dict = {}\n",
    "        mean = np.mean(indicators[k_num], axis=0)\n",
    "\n",
    "        # reverse maping to indicators names\n",
    "        for ind, name in enumerate(indicators_map):\n",
    "            if mean[ind] == 0:\n",
    "                continue\n",
    "            ind_dict[name] = mean[ind]\n",
    "\n",
    "        # sort by abs mean value\n",
    "        sorted(ind_dict, key=lambda name: abs(ind_dict[name]), reverse=True)\n",
    "        print()\n",
    "        iterator = iter(ind_dict.items())\n",
    "        for i in range(top_indicators_to_print):\n",
    "            print(next(iterator))\n",
    "\n",
    "    print(\"=\"*100)"
   ]
  },
  {
   "cell_type": "markdown",
   "metadata": {},
   "source": [
    "Посмотрим, что можно понять при делении на 10 кластеров. Рассмотрю 3 года (1960, 1988, 2017) с +- равными промежутками между друг другом. 3 потому что рассмотрение большего количества лет становится не особо читабельным и долгим по вычислениям."
   ]
  },
  {
   "cell_type": "code",
   "execution_count": 311,
   "metadata": {},
   "outputs": [
    {
     "name": "stdout",
     "output_type": "stream",
     "text": [
      "Chosen k: 10\n",
      "1960\n",
      "****************************************************************************************************\n",
      "Cluster: 0\n",
      "1 ['Canada']\n",
      "\n",
      "('Adjusted savings: particulate emission damage (current US$)', -0.6161885119103697)\n",
      "('Adults (ages 15+) newly infected with HIV', -0.020289833822105485)\n",
      "('Age dependency ratio (% of working-age population)', 1.3358310233254116)\n",
      "('Age dependency ratio, old (% of working-age population)', -0.23423875537032718)\n",
      "('Agricultural raw materials imports (% of merchandise imports)', -0.4305528342213994)\n",
      "****************************************************************************************************\n",
      "Cluster: 1\n",
      "1 ['Indonesia']\n",
      "\n",
      "('Adjusted savings: particulate emission damage (current US$)', 0.8732307669192848)\n",
      "('Adults (ages 15+) newly infected with HIV', 0.20577878800552105)\n",
      "('Age dependency ratio (% of working-age population)', -0.2465816400724574)\n",
      "('Age dependency ratio, old (% of working-age population)', 0.25358706243085744)\n",
      "('Agricultural raw materials imports (% of merchandise imports)', -0.4305528342213994)\n",
      "****************************************************************************************************\n",
      "Cluster: 2\n",
      "1 ['Iran, Islamic Rep.']\n",
      "\n",
      "('Adjusted savings: particulate emission damage (current US$)', 0.9800345556681175)\n",
      "('Adults (ages 15+) newly infected with HIV', 0.6082576556222205)\n",
      "('Age dependency ratio (% of working-age population)', 0.03348922662425809)\n",
      "('Age dependency ratio, old (% of working-age population)', 0.6213552537604855)\n",
      "('Agricultural raw materials imports (% of merchandise imports)', 1.2377407031845016)\n",
      "****************************************************************************************************\n",
      "Cluster: 3\n",
      "1 ['Israel']\n",
      "\n",
      "('Adjusted savings: particulate emission damage (current US$)', -0.672844890175097)\n",
      "('Adults (ages 15+) newly infected with HIV', -0.05180916467605807)\n",
      "('Age dependency ratio (% of working-age population)', 0.12294469907242625)\n",
      "('Age dependency ratio, old (% of working-age population)', -0.07050361230839675)\n",
      "('Agricultural raw materials imports (% of merchandise imports)', -0.4305528342213994)\n",
      "****************************************************************************************************\n",
      "Cluster: 4\n",
      "1 ['Japan']\n",
      "\n",
      "('Adjusted savings: particulate emission damage (current US$)', -1.4802067204990415)\n",
      "('Adults (ages 15+) newly infected with HIV', -0.5627318388265532)\n",
      "('Age dependency ratio (% of working-age population)', 0.3208767178483758)\n",
      "('Age dependency ratio, old (% of working-age population)', -0.6268394543491571)\n",
      "('Agricultural raw materials imports (% of merchandise imports)', -0.4305528342213994)\n",
      "****************************************************************************************************\n",
      "Cluster: 5\n",
      "1 ['North America']\n",
      "\n",
      "('Adjusted savings: particulate emission damage (current US$)', -0.21632101432965023)\n",
      "('Adults (ages 15+) newly infected with HIV', -0.17287369902363336)\n",
      "('Age dependency ratio (% of working-age population)', 1.7732090262767535)\n",
      "('Age dependency ratio, old (% of working-age population)', -0.46191552018474163)\n",
      "('Agricultural raw materials imports (% of merchandise imports)', -0.4305528342213994)\n",
      "****************************************************************************************************\n",
      "Cluster: 6\n",
      "1 ['South Africa']\n",
      "\n",
      "('Adjusted savings: particulate emission damage (current US$)', -0.4778493144277262)\n",
      "('Adults (ages 15+) newly infected with HIV', 0.40421377364583744)\n",
      "('Age dependency ratio (% of working-age population)', -0.12098147221922104)\n",
      "('Age dependency ratio, old (% of working-age population)', 0.43692676478926534)\n",
      "('Agricultural raw materials imports (% of merchandise imports)', 0.25629557374383194)\n",
      "****************************************************************************************************\n",
      "Cluster: 7\n",
      "1 ['United States']\n",
      "\n",
      "('Adjusted savings: particulate emission damage (current US$)', -0.17493923914323217)\n",
      "('Adults (ages 15+) newly infected with HIV', -0.1879985713891451)\n",
      "('Age dependency ratio (% of working-age population)', 1.8154070611759658)\n",
      "('Age dependency ratio, old (% of working-age population)', -0.48388167303776086)\n",
      "('Agricultural raw materials imports (% of merchandise imports)', -0.4305528342213994)\n",
      "****************************************************************************************************\n",
      "Cluster: 8\n",
      "1 ['World']\n",
      "\n",
      "('Adjusted savings: particulate emission damage (current US$)', -0.1005604558394382)\n",
      "('Adults (ages 15+) newly infected with HIV', 0.0824495668330188)\n",
      "('Age dependency ratio (% of working-age population)', 0.2788060832290687)\n",
      "('Age dependency ratio, old (% of working-age population)', 0.009473844807625727)\n",
      "('Agricultural raw materials imports (% of merchandise imports)', -0.4305528342213994)\n",
      "****************************************************************************************************\n",
      "Cluster: 9\n",
      "255 ['Afghanistan', 'Albania', 'Algeria', 'American Samoa', 'Andorra', 'Angola', 'Antigua and Barbuda', 'Arab World', 'Argentina', 'Armenia', 'Aruba', 'Australia', 'Austria', 'Azerbaijan', 'Bahamas, The', 'Bahrain', 'Bangladesh', 'Barbados', 'Belarus', 'Belgium', 'Belize', 'Benin', 'Bermuda', 'Bhutan', 'Bolivia', 'Bosnia and Herzegovina', 'Botswana', 'Brazil', 'British Virgin Islands', 'Brunei Darussalam', 'Bulgaria', 'Burkina Faso', 'Burundi', 'Cabo Verde', 'Cambodia', 'Cameroon', 'Caribbean small states', 'Cayman Islands', 'Central African Republic', 'Central Europe and the Baltics', 'Chad', 'Channel Islands', 'Chile', 'China', 'Colombia', 'Comoros', 'Congo, Dem. Rep.', 'Congo, Rep.', 'Costa Rica', \"Cote d'Ivoire\", 'Croatia', 'Cuba', 'Curacao', 'Cyprus', 'Czech Republic', 'Denmark', 'Djibouti', 'Dominica', 'Dominican Republic', 'Early-demographic dividend', 'East Asia & Pacific', 'East Asia & Pacific (IDA & IBRD countries)', 'East Asia & Pacific (excluding high income)', 'Ecuador', 'Egypt, Arab Rep.', 'El Salvador', 'Equatorial Guinea', 'Eritrea', 'Estonia', 'Eswatini', 'Ethiopia', 'Euro area', 'Europe & Central Asia', 'Europe & Central Asia (IDA & IBRD countries)', 'Europe & Central Asia (excluding high income)', 'European Union', 'Faroe Islands', 'Fiji', 'Finland', 'Fragile and conflict affected situations', 'France', 'French Polynesia', 'Gabon', 'Gambia, The', 'Georgia', 'Germany', 'Ghana', 'Gibraltar', 'Greece', 'Greenland', 'Grenada', 'Guam', 'Guatemala', 'Guinea', 'Guinea-Bissau', 'Guyana', 'Haiti', 'Heavily indebted poor countries (HIPC)', 'High income', 'Honduras', 'Hong Kong SAR, China', 'Hungary', 'IBRD only', 'IDA & IBRD total', 'IDA blend', 'IDA only', 'IDA total', 'Iceland', 'India', 'Iraq', 'Ireland', 'Isle of Man', 'Italy', 'Jamaica', 'Jordan', 'Kazakhstan', 'Kenya', 'Kiribati', 'Korea, Dem. People’s Rep.', 'Korea, Rep.', 'Kosovo', 'Kuwait', 'Kyrgyz Republic', 'Lao PDR', 'Late-demographic dividend', 'Latin America & Caribbean', 'Latin America & Caribbean (excluding high income)', 'Latin America & the Caribbean (IDA & IBRD countries)', 'Latvia', 'Least developed countries: UN classification', 'Lebanon', 'Lesotho', 'Liberia', 'Libya', 'Liechtenstein', 'Lithuania', 'Low & middle income', 'Low income', 'Lower middle income', 'Luxembourg', 'Macao SAR, China', 'Macedonia, FYR', 'Madagascar', 'Malawi', 'Malaysia', 'Maldives', 'Mali', 'Malta', 'Marshall Islands', 'Mauritania', 'Mauritius', 'Mexico', 'Micronesia, Fed. Sts.', 'Middle East & North Africa', 'Middle East & North Africa (IDA & IBRD countries)', 'Middle East & North Africa (excluding high income)', 'Middle income', 'Moldova', 'Monaco', 'Mongolia', 'Montenegro', 'Morocco', 'Mozambique', 'Myanmar', 'Namibia', 'Nauru', 'Nepal', 'Netherlands', 'New Caledonia', 'New Zealand', 'Nicaragua', 'Niger', 'Nigeria', 'Northern Mariana Islands', 'Norway', 'Not classified', 'OECD members', 'Oman', 'Other small states', 'Pacific island small states', 'Pakistan', 'Palau', 'Panama', 'Papua New Guinea', 'Paraguay', 'Peru', 'Philippines', 'Poland', 'Portugal', 'Post-demographic dividend', 'Pre-demographic dividend', 'Puerto Rico', 'Qatar', 'Romania', 'Russian Federation', 'Rwanda', 'Samoa', 'San Marino', 'Sao Tome and Principe', 'Saudi Arabia', 'Senegal', 'Serbia', 'Seychelles', 'Sierra Leone', 'Singapore', 'Sint Maarten (Dutch part)', 'Slovak Republic', 'Slovenia', 'Small states', 'Solomon Islands', 'Somalia', 'South Asia', 'South Asia (IDA & IBRD)', 'South Sudan', 'Spain', 'Sri Lanka', 'St. Kitts and Nevis', 'St. Lucia', 'St. Martin (French part)', 'St. Vincent and the Grenadines', 'Sub-Saharan Africa', 'Sub-Saharan Africa (IDA & IBRD countries)', 'Sub-Saharan Africa (excluding high income)', 'Sudan', 'Suriname', 'Sweden', 'Switzerland', 'Syrian Arab Republic', 'Tajikistan', 'Tanzania', 'Thailand', 'Timor-Leste', 'Togo', 'Tonga', 'Trinidad and Tobago', 'Tunisia', 'Turkey', 'Turkmenistan', 'Turks and Caicos Islands', 'Tuvalu', 'Uganda', 'Ukraine', 'United Arab Emirates', 'United Kingdom', 'Upper middle income', 'Uruguay', 'Uzbekistan', 'Vanuatu', 'Venezuela, RB', 'Vietnam', 'Virgin Islands (U.S.)', 'West Bank and Gaza', 'Yemen, Rep.', 'Zambia', 'Zimbabwe']\n",
      "\n",
      "('Adjusted savings: particulate emission damage (current US$)', 0.007394685583282627)\n",
      "('Adults (ages 15+) newly infected with HIV', -0.001196065397527255)\n",
      "('Age dependency ratio (% of working-age population)', -0.020835296961807647)\n",
      "('Age dependency ratio, old (% of working-age population)', 0.0021805336841664784)\n",
      "('Agricultural raw materials imports (% of merchandise imports)', 0.005960131618123174)\n",
      "====================================================================================================\n",
      "Chosen k: 10\n"
     ]
    },
    {
     "name": "stdout",
     "output_type": "stream",
     "text": [
      "1988\n",
      "****************************************************************************************************\n",
      "Cluster: 0\n",
      "1 ['Indonesia']\n",
      "\n",
      "('Adequacy of unemployment benefits and ALMP (% of total welfare of beneficiary households)', 1.5846535405142217)\n",
      "('Adjusted net enrollment rate, primary (% of primary school age children)', -0.6934591870565536)\n",
      "('Adjusted net enrollment rate, primary, female (% of primary school age children)', -0.7176370900635053)\n",
      "('Adjusted net enrollment rate, primary, male (% of primary school age children)', -5.739741928659036)\n",
      "('Adjusted net national income (annual % growth)', -0.06952837636021313)\n",
      "****************************************************************************************************\n",
      "Cluster: 1\n",
      "1 ['Iran, Islamic Rep.']\n",
      "\n",
      "('Adequacy of unemployment benefits and ALMP (% of total welfare of beneficiary households)', 1.2890764346159342)\n",
      "('Adjusted net enrollment rate, primary (% of primary school age children)', 1.4392086566688433)\n",
      "('Adjusted net enrollment rate, primary, female (% of primary school age children)', 1.5533266348268078)\n",
      "('Adjusted net enrollment rate, primary, male (% of primary school age children)', -2.2688804569945793)\n",
      "('Adjusted net national income (annual % growth)', -0.19379003551486332)\n",
      "****************************************************************************************************\n",
      "Cluster: 2\n",
      "1 ['Japan']\n",
      "\n",
      "('Adequacy of unemployment benefits and ALMP (% of total welfare of beneficiary households)', 1.6355223517769124)\n",
      "('Adjusted net enrollment rate, primary (% of primary school age children)', -0.6934591870565536)\n",
      "('Adjusted net enrollment rate, primary, female (% of primary school age children)', -0.7176370900635053)\n",
      "('Adjusted net enrollment rate, primary, male (% of primary school age children)', 0.4669182026214217)\n",
      "('Adjusted net national income (annual % growth)', 0.9353946967849135)\n",
      "****************************************************************************************************\n",
      "Cluster: 3\n",
      "1 ['Korea, Rep.']\n",
      "\n",
      "('Adequacy of unemployment benefits and ALMP (% of total welfare of beneficiary households)', 1.6362535333058756)\n",
      "('Adjusted net enrollment rate, primary (% of primary school age children)', -0.6934591870565536)\n",
      "('Adjusted net enrollment rate, primary, female (% of primary school age children)', -0.7176370900635053)\n",
      "('Adjusted net enrollment rate, primary, male (% of primary school age children)', 0.9729330938159906)\n",
      "('Adjusted net national income (annual % growth)', -0.09477746209860634)\n",
      "****************************************************************************************************\n",
      "Cluster: 4\n",
      "1 ['Malaysia']\n",
      "\n",
      "('Adequacy of unemployment benefits and ALMP (% of total welfare of beneficiary households)', -0.8026748295472228)\n",
      "('Adjusted net enrollment rate, primary (% of primary school age children)', -0.6934591870565536)\n",
      "('Adjusted net enrollment rate, primary, female (% of primary school age children)', -0.7176370900635053)\n",
      "('Adjusted net enrollment rate, primary, male (% of primary school age children)', 1.2552171864912973)\n",
      "('Adjusted net national income (annual % growth)', -0.1798070737481204)\n",
      "****************************************************************************************************\n",
      "Cluster: 5\n",
      "1 ['Nicaragua']\n",
      "\n",
      "('Adequacy of unemployment benefits and ALMP (% of total welfare of beneficiary households)', 0.8277023801471007)\n",
      "('Adjusted net enrollment rate, primary (% of primary school age children)', 1.138962412847428)\n",
      "('Adjusted net enrollment rate, primary, female (% of primary school age children)', 0.8974804790912266)\n",
      "('Adjusted net enrollment rate, primary, male (% of primary school age children)', -0.17263685391499986)\n",
      "('Adjusted net national income (annual % growth)', -0.19379003551486332)\n",
      "****************************************************************************************************\n",
      "Cluster: 6\n",
      "1 ['United States']\n",
      "\n",
      "('Adequacy of unemployment benefits and ALMP (% of total welfare of beneficiary households)', -0.8026748295472228)\n",
      "('Adjusted net enrollment rate, primary (% of primary school age children)', -0.6934591870565536)\n",
      "('Adjusted net enrollment rate, primary, female (% of primary school age children)', -0.7176370900635053)\n",
      "('Adjusted net enrollment rate, primary, male (% of primary school age children)', 0.37042205177378434)\n",
      "('Adjusted net national income (annual % growth)', 2.0811499803541724)\n",
      "****************************************************************************************************\n",
      "Cluster: 7\n",
      "1 ['World']\n",
      "\n",
      "('Adequacy of unemployment benefits and ALMP (% of total welfare of beneficiary households)', 1.1958484610696622)\n",
      "('Adjusted net enrollment rate, primary (% of primary school age children)', 1.345872239960103)\n",
      "('Adjusted net enrollment rate, primary, female (% of primary school age children)', 1.4507131527455959)\n",
      "('Adjusted net enrollment rate, primary, male (% of primary school age children)', 0.11974531015248056)\n",
      "('Adjusted net national income (annual % growth)', 8.938740579083376)\n",
      "****************************************************************************************************\n",
      "Cluster: 8\n",
      "2 ['Low & middle income', 'Middle income']\n",
      "\n",
      "('Adequacy of unemployment benefits and ALMP (% of total welfare of beneficiary households)', 1.1867471604890314)\n",
      "('Adjusted net enrollment rate, primary (% of primary school age children)', 1.318351302177656)\n",
      "('Adjusted net enrollment rate, primary, female (% of primary school age children)', 1.4572647629833546)\n",
      "('Adjusted net enrollment rate, primary, male (% of primary school age children)', -0.17263685391499986)\n",
      "('Adjusted net national income (annual % growth)', -0.19379003551486332)\n",
      "****************************************************************************************************\n",
      "Cluster: 9\n",
      "254 ['Afghanistan', 'Albania', 'Algeria', 'American Samoa', 'Andorra', 'Angola', 'Antigua and Barbuda', 'Arab World', 'Argentina', 'Armenia', 'Aruba', 'Australia', 'Austria', 'Azerbaijan', 'Bahamas, The', 'Bahrain', 'Bangladesh', 'Barbados', 'Belarus', 'Belgium', 'Belize', 'Benin', 'Bermuda', 'Bhutan', 'Bolivia', 'Bosnia and Herzegovina', 'Botswana', 'Brazil', 'British Virgin Islands', 'Brunei Darussalam', 'Bulgaria', 'Burkina Faso', 'Burundi', 'Cabo Verde', 'Cambodia', 'Cameroon', 'Canada', 'Caribbean small states', 'Cayman Islands', 'Central African Republic', 'Central Europe and the Baltics', 'Chad', 'Channel Islands', 'Chile', 'China', 'Colombia', 'Comoros', 'Congo, Dem. Rep.', 'Congo, Rep.', 'Costa Rica', \"Cote d'Ivoire\", 'Croatia', 'Cuba', 'Curacao', 'Cyprus', 'Czech Republic', 'Denmark', 'Djibouti', 'Dominica', 'Dominican Republic', 'Early-demographic dividend', 'East Asia & Pacific', 'East Asia & Pacific (IDA & IBRD countries)', 'East Asia & Pacific (excluding high income)', 'Ecuador', 'Egypt, Arab Rep.', 'El Salvador', 'Equatorial Guinea', 'Eritrea', 'Estonia', 'Eswatini', 'Ethiopia', 'Euro area', 'Europe & Central Asia', 'Europe & Central Asia (IDA & IBRD countries)', 'Europe & Central Asia (excluding high income)', 'European Union', 'Faroe Islands', 'Fiji', 'Finland', 'Fragile and conflict affected situations', 'France', 'French Polynesia', 'Gabon', 'Gambia, The', 'Georgia', 'Germany', 'Ghana', 'Gibraltar', 'Greece', 'Greenland', 'Grenada', 'Guam', 'Guatemala', 'Guinea', 'Guinea-Bissau', 'Guyana', 'Haiti', 'Heavily indebted poor countries (HIPC)', 'High income', 'Honduras', 'Hong Kong SAR, China', 'Hungary', 'IBRD only', 'IDA & IBRD total', 'IDA blend', 'IDA only', 'IDA total', 'Iceland', 'India', 'Iraq', 'Ireland', 'Isle of Man', 'Israel', 'Italy', 'Jamaica', 'Jordan', 'Kazakhstan', 'Kenya', 'Kiribati', 'Korea, Dem. People’s Rep.', 'Kosovo', 'Kuwait', 'Kyrgyz Republic', 'Lao PDR', 'Late-demographic dividend', 'Latin America & Caribbean', 'Latin America & Caribbean (excluding high income)', 'Latin America & the Caribbean (IDA & IBRD countries)', 'Latvia', 'Least developed countries: UN classification', 'Lebanon', 'Lesotho', 'Liberia', 'Libya', 'Liechtenstein', 'Lithuania', 'Low income', 'Lower middle income', 'Luxembourg', 'Macao SAR, China', 'Macedonia, FYR', 'Madagascar', 'Malawi', 'Maldives', 'Mali', 'Malta', 'Marshall Islands', 'Mauritania', 'Mauritius', 'Mexico', 'Micronesia, Fed. Sts.', 'Middle East & North Africa', 'Middle East & North Africa (IDA & IBRD countries)', 'Middle East & North Africa (excluding high income)', 'Moldova', 'Monaco', 'Mongolia', 'Montenegro', 'Morocco', 'Mozambique', 'Myanmar', 'Namibia', 'Nauru', 'Nepal', 'Netherlands', 'New Caledonia', 'New Zealand', 'Niger', 'Nigeria', 'North America', 'Northern Mariana Islands', 'Norway', 'Not classified', 'OECD members', 'Oman', 'Other small states', 'Pacific island small states', 'Pakistan', 'Palau', 'Panama', 'Papua New Guinea', 'Paraguay', 'Peru', 'Philippines', 'Poland', 'Portugal', 'Post-demographic dividend', 'Pre-demographic dividend', 'Puerto Rico', 'Qatar', 'Romania', 'Russian Federation', 'Rwanda', 'Samoa', 'San Marino', 'Sao Tome and Principe', 'Saudi Arabia', 'Senegal', 'Serbia', 'Seychelles', 'Sierra Leone', 'Singapore', 'Sint Maarten (Dutch part)', 'Slovak Republic', 'Slovenia', 'Small states', 'Solomon Islands', 'Somalia', 'South Africa', 'South Asia', 'South Asia (IDA & IBRD)', 'South Sudan', 'Spain', 'Sri Lanka', 'St. Kitts and Nevis', 'St. Lucia', 'St. Martin (French part)', 'St. Vincent and the Grenadines', 'Sub-Saharan Africa', 'Sub-Saharan Africa (IDA & IBRD countries)', 'Sub-Saharan Africa (excluding high income)', 'Sudan', 'Suriname', 'Sweden', 'Switzerland', 'Syrian Arab Republic', 'Tajikistan', 'Tanzania', 'Thailand', 'Timor-Leste', 'Togo', 'Tonga', 'Trinidad and Tobago', 'Tunisia', 'Turkey', 'Turkmenistan', 'Turks and Caicos Islands', 'Tuvalu', 'Uganda', 'Ukraine', 'United Arab Emirates', 'United Kingdom', 'Upper middle income', 'Uruguay', 'Uzbekistan', 'Vanuatu', 'Venezuela, RB', 'Vietnam', 'Virgin Islands (U.S.)', 'West Bank and Gaza', 'Yemen, Rep.', 'Zambia', 'Zimbabwe']\n",
      "\n",
      "('Adequacy of unemployment benefits and ALMP (% of total welfare of beneficiary households)', -0.03518583213902894)\n",
      "('Adjusted net enrollment rate, primary (% of primary school age children)', -0.012178936923420916)\n",
      "('Adjusted net enrollment rate, primary, female (% of primary school age children)', -0.01270812733194014)\n",
      "('Adjusted net enrollment rate, primary, male (% of primary school age children)', 0.02102872875017182)\n",
      "('Adjusted net national income (annual % growth)', -0.04266146536203179)\n",
      "====================================================================================================\n",
      "Chosen k: 10\n"
     ]
    },
    {
     "name": "stdout",
     "output_type": "stream",
     "text": [
      "2017\n",
      "****************************************************************************************************\n",
      "Cluster: 0\n",
      "1 ['Indonesia']\n",
      "\n",
      "('Access to electricity, urban (% of urban population)', 0.28662148278493027)\n",
      "('Account ownership at a financial institution or with a mobile-money-service provider (% of population ages 15+)', 0.42349703402548927)\n",
      "('Account ownership at a financial institution or with a mobile-money-service provider, female (% of population ages 15+)', 0.14952360262892248)\n",
      "('Account ownership at a financial institution or with a mobile-money-service provider, male (% of population ages 15+)', 0.2488407190980114)\n",
      "('Account ownership at a financial institution or with a mobile-money-service provider, older adults (% of population ages 25+)', 0.08727922792911348)\n",
      "****************************************************************************************************\n",
      "Cluster: 1\n",
      "1 ['Iran, Islamic Rep.']\n",
      "\n",
      "('Access to electricity, urban (% of urban population)', 1.5374501787149146)\n",
      "('Account ownership at a financial institution or with a mobile-money-service provider (% of population ages 15+)', 1.5557571505207328)\n",
      "('Account ownership at a financial institution or with a mobile-money-service provider, female (% of population ages 15+)', 1.5114764109737475)\n",
      "('Account ownership at a financial institution or with a mobile-money-service provider, male (% of population ages 15+)', 1.465777077017448)\n",
      "('Account ownership at a financial institution or with a mobile-money-service provider, older adults (% of population ages 25+)', 1.7352553825068722)\n",
      "****************************************************************************************************\n",
      "Cluster: 2\n",
      "1 ['Myanmar']\n",
      "\n",
      "('Access to electricity, urban (% of urban population)', -0.34718969915225173)\n",
      "('Account ownership at a financial institution or with a mobile-money-service provider (% of population ages 15+)', -0.29024066475830845)\n",
      "('Account ownership at a financial institution or with a mobile-money-service provider, female (% of population ages 15+)', -0.3994780980846328)\n",
      "('Account ownership at a financial institution or with a mobile-money-service provider, male (% of population ages 15+)', -0.2546288236751313)\n",
      "('Account ownership at a financial institution or with a mobile-money-service provider, older adults (% of population ages 25+)', -0.32149317717109305)\n",
      "****************************************************************************************************\n",
      "Cluster: 3\n",
      "1 ['Nepal']\n",
      "\n",
      "('Access to electricity, urban (% of urban population)', 0.19038267740043727)\n",
      "('Account ownership at a financial institution or with a mobile-money-service provider (% of population ages 15+)', 0.14912827573229281)\n",
      "('Account ownership at a financial institution or with a mobile-money-service provider, female (% of population ages 15+)', 0.25086081872794214)\n",
      "('Account ownership at a financial institution or with a mobile-money-service provider, male (% of population ages 15+)', 0.2010023705624713)\n",
      "('Account ownership at a financial institution or with a mobile-money-service provider, older adults (% of population ages 25+)', 0.1258465023958742)\n",
      "****************************************************************************************************\n",
      "Cluster: 4\n",
      "1 ['Paraguay']\n",
      "\n",
      "('Access to electricity, urban (% of urban population)', 0.280784018272914)\n",
      "('Account ownership at a financial institution or with a mobile-money-service provider (% of population ages 15+)', 0.27427404145399864)\n",
      "('Account ownership at a financial institution or with a mobile-money-service provider, female (% of population ages 15+)', 0.28458197516665035)\n",
      "('Account ownership at a financial institution or with a mobile-money-service provider, male (% of population ages 15+)', 0.38764849352822617)\n",
      "('Account ownership at a financial institution or with a mobile-money-service provider, older adults (% of population ages 25+)', 0.1367385506415914)\n",
      "****************************************************************************************************\n",
      "Cluster: 5\n",
      "1 ['Upper middle income']\n",
      "\n",
      "('Access to electricity, urban (% of urban population)', 0.9582330628072737)\n",
      "('Account ownership at a financial institution or with a mobile-money-service provider (% of population ages 15+)', 0.9277703375488)\n",
      "('Account ownership at a financial institution or with a mobile-money-service provider, female (% of population ages 15+)', 0.9830440423958594)\n",
      "('Account ownership at a financial institution or with a mobile-money-service provider, male (% of population ages 15+)', 0.9271573219918419)\n",
      "('Account ownership at a financial institution or with a mobile-money-service provider, older adults (% of population ages 25+)', 0.8387975984280955)\n",
      "****************************************************************************************************\n",
      "Cluster: 6\n",
      "1 ['Vietnam']\n",
      "\n",
      "('Access to electricity, urban (% of urban population)', -0.21403914801044774)\n",
      "('Account ownership at a financial institution or with a mobile-money-service provider (% of population ages 15+)', -0.16533228513325376)\n",
      "('Account ownership at a financial institution or with a mobile-money-service provider, female (% of population ages 15+)', -0.25848718872947635)\n",
      "('Account ownership at a financial institution or with a mobile-money-service provider, male (% of population ages 15+)', -0.2794774276555389)\n",
      "('Account ownership at a financial institution or with a mobile-money-service provider, older adults (% of population ages 25+)', -0.38742551326880503)\n",
      "****************************************************************************************************\n",
      "Cluster: 7\n",
      "1 ['World']\n",
      "\n",
      "('Access to electricity, urban (% of urban population)', 0.8315501960577816)\n",
      "('Account ownership at a financial institution or with a mobile-money-service provider (% of population ages 15+)', 0.8029718797569734)\n",
      "('Account ownership at a financial institution or with a mobile-money-service provider, female (% of population ages 15+)', 0.855406075195176)\n",
      "('Account ownership at a financial institution or with a mobile-money-service provider, male (% of population ages 15+)', 0.8555852630373696)\n",
      "('Account ownership at a financial institution or with a mobile-money-service provider, older adults (% of population ages 25+)', 0.7837679638142606)\n",
      "****************************************************************************************************\n",
      "Cluster: 8\n",
      "2 ['Low & middle income', 'Middle income']\n",
      "\n",
      "('Access to electricity, urban (% of urban population)', 0.7108568502276661)\n",
      "('Account ownership at a financial institution or with a mobile-money-service provider (% of population ages 15+)', 0.6616333243888401)\n",
      "('Account ownership at a financial institution or with a mobile-money-service provider, female (% of population ages 15+)', 0.7551777754305685)\n",
      "('Account ownership at a financial institution or with a mobile-money-service provider, male (% of population ages 15+)', 0.7257507886307284)\n",
      "('Account ownership at a financial institution or with a mobile-money-service provider, older adults (% of population ages 25+)', 0.6320282332108961)\n",
      "****************************************************************************************************\n",
      "Cluster: 9\n",
      "254 ['Afghanistan', 'Albania', 'Algeria', 'American Samoa', 'Andorra', 'Angola', 'Antigua and Barbuda', 'Arab World', 'Argentina', 'Armenia', 'Aruba', 'Australia', 'Austria', 'Azerbaijan', 'Bahamas, The', 'Bahrain', 'Bangladesh', 'Barbados', 'Belarus', 'Belgium', 'Belize', 'Benin', 'Bermuda', 'Bhutan', 'Bolivia', 'Bosnia and Herzegovina', 'Botswana', 'Brazil', 'British Virgin Islands', 'Brunei Darussalam', 'Bulgaria', 'Burkina Faso', 'Burundi', 'Cabo Verde', 'Cambodia', 'Cameroon', 'Canada', 'Caribbean small states', 'Cayman Islands', 'Central African Republic', 'Central Europe and the Baltics', 'Chad', 'Channel Islands', 'Chile', 'China', 'Colombia', 'Comoros', 'Congo, Dem. Rep.', 'Congo, Rep.', 'Costa Rica', \"Cote d'Ivoire\", 'Croatia', 'Cuba', 'Curacao', 'Cyprus', 'Czech Republic', 'Denmark', 'Djibouti', 'Dominica', 'Dominican Republic', 'Early-demographic dividend', 'East Asia & Pacific', 'East Asia & Pacific (IDA & IBRD countries)', 'East Asia & Pacific (excluding high income)', 'Ecuador', 'Egypt, Arab Rep.', 'El Salvador', 'Equatorial Guinea', 'Eritrea', 'Estonia', 'Eswatini', 'Ethiopia', 'Euro area', 'Europe & Central Asia', 'Europe & Central Asia (IDA & IBRD countries)', 'Europe & Central Asia (excluding high income)', 'European Union', 'Faroe Islands', 'Fiji', 'Finland', 'Fragile and conflict affected situations', 'France', 'French Polynesia', 'Gabon', 'Gambia, The', 'Georgia', 'Germany', 'Ghana', 'Gibraltar', 'Greece', 'Greenland', 'Grenada', 'Guam', 'Guatemala', 'Guinea', 'Guinea-Bissau', 'Guyana', 'Haiti', 'Heavily indebted poor countries (HIPC)', 'High income', 'Honduras', 'Hong Kong SAR, China', 'Hungary', 'IBRD only', 'IDA & IBRD total', 'IDA blend', 'IDA only', 'IDA total', 'Iceland', 'India', 'Iraq', 'Ireland', 'Isle of Man', 'Israel', 'Italy', 'Jamaica', 'Japan', 'Jordan', 'Kazakhstan', 'Kenya', 'Kiribati', 'Korea, Dem. People’s Rep.', 'Korea, Rep.', 'Kosovo', 'Kuwait', 'Kyrgyz Republic', 'Lao PDR', 'Late-demographic dividend', 'Latin America & Caribbean', 'Latin America & Caribbean (excluding high income)', 'Latin America & the Caribbean (IDA & IBRD countries)', 'Latvia', 'Least developed countries: UN classification', 'Lebanon', 'Lesotho', 'Liberia', 'Libya', 'Liechtenstein', 'Lithuania', 'Low income', 'Lower middle income', 'Luxembourg', 'Macao SAR, China', 'Macedonia, FYR', 'Madagascar', 'Malawi', 'Malaysia', 'Maldives', 'Mali', 'Malta', 'Marshall Islands', 'Mauritania', 'Mauritius', 'Mexico', 'Micronesia, Fed. Sts.', 'Middle East & North Africa', 'Middle East & North Africa (IDA & IBRD countries)', 'Middle East & North Africa (excluding high income)', 'Moldova', 'Monaco', 'Mongolia', 'Montenegro', 'Morocco', 'Mozambique', 'Namibia', 'Nauru', 'Netherlands', 'New Caledonia', 'New Zealand', 'Nicaragua', 'Niger', 'Nigeria', 'North America', 'Northern Mariana Islands', 'Norway', 'Not classified', 'OECD members', 'Oman', 'Other small states', 'Pacific island small states', 'Pakistan', 'Palau', 'Panama', 'Papua New Guinea', 'Peru', 'Philippines', 'Poland', 'Portugal', 'Post-demographic dividend', 'Pre-demographic dividend', 'Puerto Rico', 'Qatar', 'Romania', 'Russian Federation', 'Rwanda', 'Samoa', 'San Marino', 'Sao Tome and Principe', 'Saudi Arabia', 'Senegal', 'Serbia', 'Seychelles', 'Sierra Leone', 'Singapore', 'Sint Maarten (Dutch part)', 'Slovak Republic', 'Slovenia', 'Small states', 'Solomon Islands', 'Somalia', 'South Africa', 'South Asia', 'South Asia (IDA & IBRD)', 'South Sudan', 'Spain', 'Sri Lanka', 'St. Kitts and Nevis', 'St. Lucia', 'St. Martin (French part)', 'St. Vincent and the Grenadines', 'Sub-Saharan Africa', 'Sub-Saharan Africa (IDA & IBRD countries)', 'Sub-Saharan Africa (excluding high income)', 'Sudan', 'Suriname', 'Sweden', 'Switzerland', 'Syrian Arab Republic', 'Tajikistan', 'Tanzania', 'Thailand', 'Timor-Leste', 'Togo', 'Tonga', 'Trinidad and Tobago', 'Tunisia', 'Turkey', 'Turkmenistan', 'Turks and Caicos Islands', 'Tuvalu', 'Uganda', 'Ukraine', 'United Arab Emirates', 'United Kingdom', 'United States', 'Uruguay', 'Uzbekistan', 'Vanuatu', 'Venezuela, RB', 'Virgin Islands (U.S.)', 'West Bank and Gaza', 'Yemen, Rep.', 'Zambia', 'Zimbabwe']\n",
      "\n",
      "('Access to electricity, urban (% of urban population)', -0.019470497910751464)\n",
      "('Account ownership at a financial institution or with a mobile-money-service provider (% of population ages 15+)', -0.019689340228048788)\n",
      "('Account ownership at a financial institution or with a mobile-money-service provider, female (% of population ages 15+)', -0.019241272398170393)\n",
      "('Account ownership at a financial institution or with a mobile-money-service provider, male (% of population ages 15+)', -0.019698451067583292)\n",
      "('Account ownership at a financial institution or with a mobile-money-service provider, older adults (% of population ages 25+)', -0.016782767723219363)\n",
      "====================================================================================================\n"
     ]
    }
   ],
   "source": [
    "clusterize_and_print_year_info(k=10, top_indicators_to_print=5, year = '1960')\n",
    "clusterize_and_print_year_info(k=10, top_indicators_to_print=5, year = '1988')\n",
    "clusterize_and_print_year_info(k=10, top_indicators_to_print=5, year = '2017')"
   ]
  },
  {
   "cell_type": "markdown",
   "metadata": {},
   "source": [
    "Определенно можно видеть, что country_name содержал в себе не только названия стран но и некоторые общие категории типа World, Upper Income, которые имеют тенденцию отделяться в отдельные кластеры"
   ]
  },
  {
   "cell_type": "markdown",
   "metadata": {},
   "source": [
    "А вообще деление на кластеры происходит исходя из некоторой оценки жизни в той или иной стране, включая, как факторы болезней (в 1960 году часто встречается показатель Adults (ages 15+) newly infected with HIV, как для благополучных стран вроде Канады, или не очень благополучных вроде стран Африки), ВВП (актуально для 1988 года), процента детей и женщин, получающих образование, а для 2017 года процент женщин, мужчин и взрослых людей, которые владеют аккаунтами в финансовых учереждениях и наличие доступа к электричеству.\n",
    "\n",
    "Так же стоит сказать, что в моей реализации для 10 кластеров, для этих 3 лет, имеют тенденцию отделяться единичные объекты, и всегда существует один кластер, включающий в себя оставшиеся >250 объектов."
   ]
  },
  {
   "cell_type": "markdown",
   "metadata": {},
   "source": [
    "\n",
    "\n",
    "# Контрольные вопросы\n",
    "Постарайтесь максимально развернуто и честно ответить на вопросы. Они охватывают тему алгоритмов кластеризации и скорее нужны преподавателям, чтобы понимать, что именно Вы усвоили плохо. Надеюсь, они подскажут, что именно в теме Вы не понимаете или наоборот порадают, что Вы все знаете ^_^"
   ]
  },
  {
   "cell_type": "markdown",
   "metadata": {},
   "source": [
    "* Опишите, пожалуйста, для каких прикладных задач Вы бы стали использовать методы кластеризации?"
   ]
  },
  {
   "cell_type": "markdown",
   "metadata": {},
   "source": [
    "***Ваше ответ здесь***"
   ]
  },
  {
   "cell_type": "markdown",
   "metadata": {},
   "source": [
    "Я бы стала использовать их для задач без учителя, в которых мне не известна природа данных и/или необходимо определить некоторые признаки схожести или различия между объектами"
   ]
  },
  {
   "cell_type": "markdown",
   "metadata": {},
   "source": [
    "* Какие преимущества и недостатки Вы видите у следуюших алгоритмов кластеризации: kmeans, dbscan, агломеративная кластеризация?"
   ]
  },
  {
   "cell_type": "markdown",
   "metadata": {},
   "source": [
    "***Ваше ответ здесь***"
   ]
  },
  {
   "cell_type": "markdown",
   "metadata": {},
   "source": [
    "kmeans:\n",
    "   * Прост в реализации\n",
    "   * Позволяет интерпретировать кластеры через центроиды\n",
    "   * Имеет много модификаций\n",
    "   * Нужно задавать заранее количество кластеров\n",
    "   * Кластеры имеют сферическую форму\n",
    "   \n",
    "dbscan:\n",
    "   * Сам определяет количество кластеров\n",
    "   * Кластеры могут иметь любую форму\n",
    "   * Требует постоянную плотность в данных\n",
    "   \n",
    "агломеративная кластеризация:\n",
    "   * Может разбивать на произвольное число кластеров после построения\n",
    "   * Наглядность в виде дендрограммы\n",
    "   * Имеет тенденцию к выделению очень мелких кластеров\n"
   ]
  },
  {
   "cell_type": "markdown",
   "metadata": {},
   "source": [
    "* На лекции было показано, что EM алгоритм находит оценку максимального правдоподобия в задаче со сккрытыми переменными. Из курса мат. статистики Вы можете знать, оценка максимального правдоподобия \"оптимальная\" во многих смыслах. В каких же случаях тогда не следует применять метод максимального правдоподобия?"
   ]
  },
  {
   "cell_type": "markdown",
   "metadata": {},
   "source": [
    "***Ваше ответ здесь***"
   ]
  },
  {
   "cell_type": "markdown",
   "metadata": {},
   "source": [
    "Очевидным было бы сказать, что когда правдободобие не ограничено. В EM алгоритме мы предполагаем, что наше распределение является смесью нормальных и содержит некоторые скрытые переменные. Думаю, ограничения на применимость алгоритма лежат в выполенении этих предположений."
   ]
  },
  {
   "cell_type": "markdown",
   "metadata": {},
   "source": [
    "* Многие алгоритмы анализа данных страдают \"проклятием\" размерности. Страдают ли этим проклятием алгоритмы кластеризации? Если да, то как бы Вы с этим боролись?"
   ]
  },
  {
   "cell_type": "markdown",
   "metadata": {},
   "source": [
    "Страдают. Боролась бы, например, удалением фичей, PCA."
   ]
  },
  {
   "cell_type": "markdown",
   "metadata": {},
   "source": [
    "***Ваше ответ здесь***"
   ]
  },
  {
   "cell_type": "markdown",
   "metadata": {},
   "source": [
    "* Представьте, что у Вас есть набор текстовых документов, и Вы хотите разбить эти документы на тематики - новости, спорт, кулинария, кино и так далее. Размеченной выборки у Вас нет, только сами тексты документов. Какие алгоритмы и какие признаки Вы бы использовали для решения данной задачи?"
   ]
  },
  {
   "cell_type": "markdown",
   "metadata": {},
   "source": [
    "***Ваше ответ здесь***"
   ]
  },
  {
   "cell_type": "markdown",
   "metadata": {},
   "source": [
    "Попытаться кластеризовать документы, если получится выделить кластеры, и их сможно будет проинтерпретировать, то можно неплохо урезать количество фичей, которые влияют на отнесение документа к той или иной тематике.\n",
    "\n",
    "Если кластеризовать не получилось, то использовать стандартные подходы типа мешка слов + tf-idf на монограммах и биграммах. Размерность будет большая, с чем можно бороться ограничением на количество рассматриваемых токенов или \"на глаз\", если это возможно. Ну или не сильно бороться, а научиться работать с sparse данными."
   ]
  },
  {
   "cell_type": "markdown",
   "metadata": {},
   "source": [
    "* Теперь представьте, что небольшая часть Ваших текстов была размечена людьми, но большая часть так и осталась без таргета. Смогли ли бы Вы использовать эти данные для улучения качества кластеризации? (эта задача называется semi-supervised learning)"
   ]
  },
  {
   "cell_type": "markdown",
   "metadata": {},
   "source": [
    "***Ваше ответ здесь***"
   ]
  },
  {
   "cell_type": "markdown",
   "metadata": {},
   "source": [
    "Думаю, это бы помогло решить проблему просмотра \"на глаз\" и выделения адекватных токенов/биграмм для отдельных тематик. Эти данные можно было бы использовать в виде дополнительных фич к кластеризации."
   ]
  },
  {
   "cell_type": "markdown",
   "metadata": {},
   "source": [
    "Здесь Вы можете оставить отзыв о этой домашней работе или о всем курсе.   "
   ]
  },
  {
   "cell_type": "markdown",
   "metadata": {},
   "source": [
    "*** ВАШ ОТЗЫВ ЗДЕСЬ***"
   ]
  },
  {
   "cell_type": "code",
   "execution_count": null,
   "metadata": {
    "collapsed": true
   },
   "outputs": [],
   "source": []
  },
  {
   "cell_type": "code",
   "execution_count": null,
   "metadata": {
    "collapsed": true
   },
   "outputs": [],
   "source": []
  }
 ],
 "metadata": {
  "anaconda-cloud": {},
  "kernelspec": {
   "display_name": "Python 3",
   "language": "python",
   "name": "python3"
  },
  "language_info": {
   "codemirror_mode": {
    "name": "ipython",
    "version": 3
   },
   "file_extension": ".py",
   "mimetype": "text/x-python",
   "name": "python",
   "nbconvert_exporter": "python",
   "pygments_lexer": "ipython3",
   "version": "3.7.0"
  }
 },
 "nbformat": 4,
 "nbformat_minor": 1
}
