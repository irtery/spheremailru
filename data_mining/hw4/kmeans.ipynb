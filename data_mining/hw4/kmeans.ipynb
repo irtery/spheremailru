{
 "cells": [
  {
   "cell_type": "markdown",
   "metadata": {},
   "source": [
    "# Алгоритмы интеллектуальной обработки больших объемов данных\n",
    "## Домашнее задание №4 - Метод k-средних, предобработка признаков\n"
   ]
  },
  {
   "cell_type": "markdown",
   "metadata": {},
   "source": [
    "###### <hr\\>\n",
    "**Общая информация**\n",
    "\n",
    "**Срок сдачи:** 28 ноября 2018, 06:00 <br\\>\n",
    "**Штраф за опоздание:** -2 балла после 06:00 28 ноября, -4 балла после 06:00 5 декабря, -6 баллов после 06:00 12 декабря, -8 баллов после 19 декабря\n",
    "\n",
    "При отправлении ДЗ указывайте фамилию в названии файла\n",
    "Присылать ДЗ необходимо в виде ссылки на свой github репозиторий в slack @alkhamush\n",
    "\n",
    "Необходимо в slack создать таск в приватный чат:\n",
    "/todo Фамилия Имя ссылка на гитхаб @alkhamush\n",
    "Пример:\n",
    "/todo Ксения Стройкова https://github.com/stroykova/spheremailru/stroykova_hw1.ipynb @alkhamush\n",
    "Дополнительно нужно просто скинуть ссылку в slack в личный чат\n",
    "\n",
    "Используйте данный Ipython Notebook при оформлении домашнего задания."
   ]
  },
  {
   "cell_type": "markdown",
   "metadata": {},
   "source": [
    "# Имплементация K-means\n",
    "\n",
    "Пользуясь наработками выше, имплементируйте метод k-means.  \n",
    "При инициализации необходимо задавать количество кластеров, функцию расстояния между кластерами (для оригинального k-means - евклидово расстояние) и начальное состояние генератора случайных чисел.\n",
    "\n",
    "После обучения, среди атрибутов класса `Kmeans` должны появится\n",
    "* Метки кластеров для объектов\n",
    "* Координаты центройдов кластеров\n",
    "\n",
    "k-means - это алгоритм **кластеризации**, а не классификации, а посему метод `.predict()` в нем фактически не нужен, но он может возвращать метки ближайшего кластера для объектов."
   ]
  },
  {
   "cell_type": "markdown",
   "metadata": {},
   "source": [
    "###### Задание 1 (2 баллов)\n",
    "Имплементируйте метод k-means. Задание считается выполненным, если Ваша реализация работает быстрее реализации из sklearn.\n",
    "\n",
    "Теория для выполнения задания 2 и 3 остаётся на самостоятельное изучение. Теории немного и она совсем простая.\n",
    "\n",
    "###### Задание 2 (2 балла)\n",
    "Имплементируйте класс MiniBatchKMeans, который является классом наследником Kmeans.\n",
    "\n",
    "###### Задание 3 (2 балла)\n",
    "Превратите k-means в k-means++. Для этого нужно реализовать метод в классе Kmeans, который будет инициализировать более \"хорошие\" значения центроидов. Чтобы использовался метод k-means++, в параметр init необходимо передать строковое значение 'k-means' (по умолчанию 'random').\n",
    "\n",
    "###### Задание 4 (2 балла)\n",
    "В пункте \"Проверка корректности метода\" нужно нарисовать графики, которые показывают зависимость времени выполнения алгоритма от количества сэмплов. Графики должны быть  нарисованы для различных комбинаций реализаций алгоритма (k-means, k-means++, k-means с MiniBatchKMeans, k-means++ с MiniBatchKMeans). График достаточно построить на 5-10 точках.\n",
    "\n",
    "###### Задание 5 (2 балла)\n",
    "В пункте \"Применение K-means на реальных данных\" нужно сравнить различные реализации k-means (k-means, k-means++, k-means с MiniBatchKMeans, k-means++ с MiniBatchKMeans). После чего написать вывод, в котором должно быть объяснение того, почему один алгоритм оказался лучше остальных или почему не было выявлено лучшего алгоритма.\n",
    "\n",
    "**Штрафные баллы:**\n",
    "\n",
    "1. Невыполнение PEP8 -1 балл\n",
    "2. Отсутствие фамилии в имени скрипта (скрипт должен называться по аналогии со stroykova_hw4.ipynb) -1 балл\n",
    "3. Все строчки должны быть выполнены. Нужно, чтобы output команды можно было увидеть уже в git'е. В противном случае -1 балл\n",
    "4. При оформлении ДЗ нужно пользоваться данным файлом в качестве шаблона. Не нужно удалять и видоизменять написанный код и текст. В противном случае -1 балл\n",
    "<hr\\>"
   ]
  },
  {
   "cell_type": "code",
   "execution_count": 1,
   "metadata": {},
   "outputs": [],
   "source": [
    "import pandas as pd\n",
    "import numpy as np\n",
    "import matplotlib.pyplot as plt\n",
    "\n",
    "%matplotlib inline\n",
    "\n",
    "plt.style.use('ggplot')\n",
    "plt.rcParams['figure.figsize'] = (12,5)\n",
    "\n",
    "%load_ext pycodestyle_magic"
   ]
  },
  {
   "cell_type": "code",
   "execution_count": 25,
   "metadata": {},
   "outputs": [],
   "source": [
    "#%%pycodestyle\n",
    "from sklearn.metrics.pairwise import euclidean_distances as ED\n",
    "\n",
    "\n",
    "class MyKmeans:\n",
    "\n",
    "    def __init__(self, k=2, metric='euclidean', max_iter=1000,\n",
    "                 random_state=None, init='random'):\n",
    "        \"\"\"\n",
    "        Инициализация метода\n",
    "        :k - количество кластеров\n",
    "        :metric - функция расстояния между объектами\n",
    "        :max_iter - максиальное количество итераций\n",
    "        :random_state - seed для инициализации генератора случайных чисел\n",
    "        \"\"\"\n",
    "\n",
    "        self.k = k\n",
    "        self.random_state = random_state\n",
    "        self.metric = metric\n",
    "        self.max_iter = max_iter\n",
    "        self.init = init\n",
    "        self.distance = ED\n",
    "        if self.init == 'random':\n",
    "            self.init_centroids = self.random_init\n",
    "        elif self.init == 'k-means':\n",
    "            self.init_centroids = self.kmeans_init\n",
    "\n",
    "    def random_init(self, X):\n",
    "        return X[np.random.choice(X.shape[0],\n",
    "                                  size=self.k, replace=False)]\n",
    "\n",
    "    def kmeans_init(self, X):\n",
    "        centroids = np.empty((self.k, X.shape[1]))\n",
    "        # первый центроид выбирается произвольно\n",
    "        random_num = np.random.randint(0, X.shape[0])\n",
    "        centroids[0, :] = X[random_num, :]\n",
    "\n",
    "        for cur_num in range(1, self.k):\n",
    "            centroids = np.nan_to_num(centroids)\n",
    "            distances = self.distance(X, centroids).min(axis=0)\n",
    "            probs = distances / np.sum(distances)\n",
    "            cumprobs = np.cumsum(probs)\n",
    "\n",
    "            num = np.random.sample()\n",
    "            ind = np.where(cumprobs >= num)[0][0]\n",
    "            centroids[cur_num, :] = X[ind, :]\n",
    "        return centroids\n",
    "\n",
    "    def find_labels(self, X):\n",
    "        self.centroids = np.nan_to_num(self.centroids)\n",
    "        distances = self.distance(X, self.centroids)\n",
    "        return np.argmin(distances, axis=1)\n",
    "\n",
    "    def fit(self, X, y=None):\n",
    "        \"\"\"\n",
    "        Процедура обучения k-means\n",
    "        \"\"\"\n",
    "\n",
    "        # Инициализация генератора случайных чисел\n",
    "        np.random.seed(self.random_state)\n",
    "\n",
    "        # Массив с метками кластеров для каждого объекта из X\n",
    "        self.labels = np.empty(X.shape[0])\n",
    "\n",
    "        # Массив с центройдами кластеров\n",
    "        self.centroids = self.init_centroids(X)\n",
    "\n",
    "        for _ in range(self.max_iter):\n",
    "            self.labels = self.find_labels(X)\n",
    "            new_centroids = np.empty((self.k, X.shape[1]))\n",
    "            for cl_num in range(self.k):\n",
    "                if np.any(self.labels == cl_num, axis=0):\n",
    "                    new_centroids[cl_num] = X[self.labels == cl_num, :].\\\n",
    "                        mean(axis=0)\n",
    "                else:\n",
    "                    new_centroids[cl_num] = X[np.random.choice(X.shape[0])]\n",
    "\n",
    "            if np.all(new_centroids == self.centroids):\n",
    "                break\n",
    "            self.centroids = new_centroids\n",
    "        return self\n",
    "\n",
    "    def predict(self, X, y=None):\n",
    "        \"\"\"\n",
    "        Процедура предсказания кластера\n",
    "        Возвращает метку ближайшего кластера для каждого объекта\n",
    "        \"\"\"\n",
    "\n",
    "        return self.find_labels(X)\n",
    "\n",
    "\n",
    "class MiniBatchKMeans(MyKmeans):\n",
    "\n",
    "    def __init__(self, k=2, metric='euclidean', max_iter=1000,\n",
    "                 random_state=None, init='random', batch_size=100):\n",
    "\n",
    "        self.batch_size = batch_size\n",
    "        super().__init__(k, metric, max_iter, random_state, init)\n",
    "\n",
    "    def get_batch(self, X):\n",
    "        if self.batch_size > X.shape[0]:\n",
    "            return X\n",
    "        idx = np.random.choice(X.shape[0], size=self.batch_size)\n",
    "        return X[idx]\n",
    "\n",
    "    def fit(self, X, y=None):\n",
    "        np.random.seed(self.random_state)\n",
    "        self.labels = np.empty(X.shape[0])\n",
    "        self.centroids = self.init_centroids(X)\n",
    "        per_centr_counts = np.zeros(self.k)\n",
    "\n",
    "        for _ in range(self.max_iter):\n",
    "            X_batch = self.get_batch(X)\n",
    "            self.labels = self.find_labels(X_batch)\n",
    "            new_centroids = np.empty((self.k, X.shape[1]))\n",
    "            for i in range(X_batch.shape[0]):\n",
    "                cl_num = self.labels[i]\n",
    "                per_centr_counts[cl_num] += 1\n",
    "                w = 1 / per_centr_counts[cl_num]\n",
    "                new_centroids[cl_num] = (1 - w) * new_centroids[cl_num] +\\\n",
    "                    w * X_batch[i]\n",
    "            if np.all(new_centroids == self.centroids):\n",
    "                break\n",
    "            self.centroids = np.copy(new_centroids)\n",
    "\n",
    "        self.labels = self.find_labels(X)\n",
    "        return self"
   ]
  },
  {
   "cell_type": "markdown",
   "metadata": {},
   "source": [
    "### Проверка корректности метода\n",
    "\n",
    "Перед тем как применять алгоритм на реальных данных, нужно испытать его на простых \"игрушечных\" данных.\n",
    "\n",
    "Если алгоритм реализован правильно, то метод должен идеально разбивать на 3 кластера данные ниже. Проверьте это.\n",
    "\n",
    "ВНИМАНИЕ! Проверка должна быть осуществлена на всех реализациях, иначе реализация не будет зачтена!"
   ]
  },
  {
   "cell_type": "code",
   "execution_count": 38,
   "metadata": {},
   "outputs": [],
   "source": [
    "from sklearn.datasets import make_blobs"
   ]
  },
  {
   "cell_type": "code",
   "execution_count": 39,
   "metadata": {},
   "outputs": [],
   "source": [
    "X, y = make_blobs(n_samples=100, n_features=2, centers=3, cluster_std=1, \n",
    "           center_box=(-10.0, 10.0), shuffle=False, random_state=1234)"
   ]
  },
  {
   "cell_type": "code",
   "execution_count": 40,
   "metadata": {},
   "outputs": [
    {
     "data": {
      "text/plain": [
       "<matplotlib.collections.PathCollection at 0x11edd46a0>"
      ]
     },
     "execution_count": 40,
     "metadata": {},
     "output_type": "execute_result"
    },
    {
     "data": {
      "image/png": "[encoded data removed]",
      "text/plain": [
       "<Figure size 432x288 with 1 Axes>"
      ]
     },
     "metadata": {
      "needs_background": "light"
     },
     "output_type": "display_data"
    }
   ],
   "source": [
    "plt.scatter(X[:,0], X[:, 1], c=y)"
   ]
  },
  {
   "cell_type": "markdown",
   "metadata": {},
   "source": [
    "Проверьте Вашу имплементацию на простых данных (без этого пункта ДЗ не считается выполненным).   \n",
    "КОММЕНТАРИИ НЕ СТИРАТЬ!"
   ]
  },
  {
   "cell_type": "code",
   "execution_count": 41,
   "metadata": {},
   "outputs": [
    {
     "data": {
      "text/plain": [
       "<matplotlib.collections.PathCollection at 0x10d424860>"
      ]
     },
     "execution_count": 41,
     "metadata": {},
     "output_type": "execute_result"
    },
    {
     "data": {
      "image/png": "[encoded data removed]",
      "text/plain": [
       "<Figure size 432x288 with 1 Axes>"
      ]
     },
     "metadata": {
      "needs_background": "light"
     },
     "output_type": "display_data"
    }
   ],
   "source": [
    "## Работоспособность MyKmeans\n",
    "clst = MyKmeans(k=3)\n",
    "clst.fit(X)\n",
    "y_pred = clst.predict(X)\n",
    "plt.scatter(X[:, 0], X[:, 1], c=y_pred)\n",
    "plt.scatter(clst.centroids[:, 0], clst.centroids[:, 1])"
   ]
  },
  {
   "cell_type": "code",
   "execution_count": 42,
   "metadata": {},
   "outputs": [
    {
     "data": {
      "text/plain": [
       "<matplotlib.collections.PathCollection at 0x10c721ac8>"
      ]
     },
     "execution_count": 42,
     "metadata": {},
     "output_type": "execute_result"
    },
    {
     "data": {
      "image/png": "[encoded data removed]",
      "text/plain": [
       "<Figure size 432x288 with 1 Axes>"
      ]
     },
     "metadata": {
      "needs_background": "light"
     },
     "output_type": "display_data"
    }
   ],
   "source": [
    "## Работоспособность MyKmeans++\n",
    "clst = MyKmeans(k=3, init='k-means')\n",
    "clst.fit(X)\n",
    "y_pred = clst.predict(X)\n",
    "plt.scatter(X[:, 0], X[:, 1], c=y_pred)\n",
    "plt.scatter(clst.centroids[:, 0], clst.centroids[:, 1])"
   ]
  },
  {
   "cell_type": "code",
   "execution_count": 43,
   "metadata": {},
   "outputs": [
    {
     "data": {
      "text/plain": [
       "<matplotlib.collections.PathCollection at 0x11f28cdd8>"
      ]
     },
     "execution_count": 43,
     "metadata": {},
     "output_type": "execute_result"
    },
    {
     "data": {
      "image/png": "[encoded data removed]",
      "text/plain": [
       "<Figure size 432x288 with 1 Axes>"
      ]
     },
     "metadata": {
      "needs_background": "light"
     },
     "output_type": "display_data"
    }
   ],
   "source": [
    "## Работоспособность MyKmeans с MiniBatchMyKmeans\n",
    "clst = MiniBatchKMeans(k=3)\n",
    "clst.fit(X)\n",
    "y_pred = clst.predict(X)\n",
    "plt.scatter(X[:, 0], X[:, 1], c=y_pred)\n",
    "plt.scatter(clst.centroids[:, 0], clst.centroids[:, 1])"
   ]
  },
  {
   "cell_type": "code",
   "execution_count": 44,
   "metadata": {},
   "outputs": [
    {
     "data": {
      "text/plain": [
       "<matplotlib.collections.PathCollection at 0x11f358390>"
      ]
     },
     "execution_count": 44,
     "metadata": {},
     "output_type": "execute_result"
    },
    {
     "data": {
      "image/png": "[encoded data removed]",
      "text/plain": [
       "<Figure size 432x288 with 1 Axes>"
      ]
     },
     "metadata": {
      "needs_background": "light"
     },
     "output_type": "display_data"
    }
   ],
   "source": [
    "## Работоспособность MyKmeans++ с MiniBatchMyKmeans\n",
    "clst = MiniBatchKMeans(k=3, init='k-means')\n",
    "clst.fit(X)\n",
    "y_pred = clst.predict(X)\n",
    "plt.scatter(X[:, 0], X[:, 1], c=y_pred)\n",
    "plt.scatter(clst.centroids[:, 0], clst.centroids[:, 1])"
   ]
  },
  {
   "cell_type": "code",
   "execution_count": 45,
   "metadata": {},
   "outputs": [
    {
     "name": "stdout",
     "output_type": "stream",
     "text": [
      "CPU times: user 5 µs, sys: 1 µs, total: 6 µs\n",
      "Wall time: 13.1 µs\n"
     ]
    }
   ],
   "source": [
    "## Время выполнения алгоритма Kmeans из sklearn\n",
    "from sklearn.cluster import KMeans\n",
    "\n",
    "sk_kmeans = KMeans(n_clusters=3, init='random', max_iter=1000,\n",
    "                   precompute_distances=False, n_init=1, tol=0)\n",
    "\n",
    "%time\n",
    "sk_kmeans.fit(X)\n",
    "pred = sk_kmeans.predict(X)"
   ]
  },
  {
   "cell_type": "code",
   "execution_count": 46,
   "metadata": {},
   "outputs": [
    {
     "name": "stdout",
     "output_type": "stream",
     "text": [
      "CPU times: user 6 µs, sys: 1 µs, total: 7 µs\n",
      "Wall time: 11.9 µs\n"
     ]
    }
   ],
   "source": [
    "## Время выполнения алгоритма MyKmeans\n",
    "kmeans = MyKmeans(k=3)\n",
    "\n",
    "%time\n",
    "kmeans.fit(X)\n",
    "pred = kmeans.predict(X)"
   ]
  },
  {
   "cell_type": "code",
   "execution_count": 47,
   "metadata": {},
   "outputs": [
    {
     "name": "stdout",
     "output_type": "stream",
     "text": [
      "CPU times: user 6 µs, sys: 1e+03 ns, total: 7 µs\n",
      "Wall time: 12.9 µs\n"
     ]
    }
   ],
   "source": [
    "## Время выполнения алгоритма MyKmeans++\n",
    "kmeans = MyKmeans(k=3, init='k-means')\n",
    "\n",
    "%time\n",
    "kmeans.fit(X)\n",
    "pred = kmeans.predict(X)"
   ]
  },
  {
   "cell_type": "code",
   "execution_count": 48,
   "metadata": {},
   "outputs": [
    {
     "name": "stdout",
     "output_type": "stream",
     "text": [
      "CPU times: user 5 µs, sys: 1e+03 ns, total: 6 µs\n",
      "Wall time: 11.9 µs\n"
     ]
    }
   ],
   "source": [
    "## Время выполнения алгоритма MyKmeans с MiniBatchMyKmeans\n",
    "kmeans = MiniBatchKMeans(k=3)\n",
    "\n",
    "%time\n",
    "kmeans.fit(X)\n",
    "pred = kmeans.predict(X)"
   ]
  },
  {
   "cell_type": "code",
   "execution_count": 49,
   "metadata": {},
   "outputs": [
    {
     "name": "stdout",
     "output_type": "stream",
     "text": [
      "CPU times: user 3 µs, sys: 1e+03 ns, total: 4 µs\n",
      "Wall time: 8.82 µs\n"
     ]
    }
   ],
   "source": [
    "## Время выполнения алгоритма  MyKmeans++ с MiniBatchMyKmeans\n",
    "kmeans = MiniBatchKMeans(k=3, init='k-means')\n",
    "\n",
    "%time\n",
    "kmeans.fit(X)\n",
    "pred = kmeans.predict(X)"
   ]
  },
  {
   "cell_type": "code",
   "execution_count": 15,
   "metadata": {},
   "outputs": [
    {
     "data": {
      "image/png": "[encoded data removed]",
      "text/plain": [
       "<Figure size 432x288 with 1 Axes>"
      ]
     },
     "metadata": {
      "needs_background": "light"
     },
     "output_type": "display_data"
    }
   ],
   "source": [
    "import time\n",
    "from sklearn.cluster import KMeans\n",
    "\n",
    "sizes = list(range(1000, 100001, 5000))\n",
    "clsts = [\n",
    "    [\n",
    "        KMeans(n_clusters=3, init='random', max_iter=1000,\n",
    "               precompute_distances=False, n_init=1, tol=0),\n",
    "        'Sklearn KMeans'\n",
    "    ],\n",
    "    [\n",
    "        MyKmeans(k=3),\n",
    "        'MyKMeans'\n",
    "    ],\n",
    "    [\n",
    "        MyKmeans(k=3, init='k-means'),\n",
    "        'MyKMeans++'\n",
    "    ],\n",
    "    [\n",
    "        MiniBatchKMeans(k=3, batch_size=10),\n",
    "        'MiniBatchKMeans'\n",
    "    ],\n",
    "    [\n",
    "         MiniBatchKMeans(k=3, init='k-means', batch_size=10),\n",
    "        'MiniBatchKMeans++'\n",
    "    ]  \n",
    "]\n",
    "\n",
    "results = np.empty((5, len(sizes)))\n",
    "\n",
    "for i, size in enumerate(sizes):\n",
    "    X, y = make_blobs(n_samples=size, n_features=2, centers=3, cluster_std=1, \n",
    "           center_box=(-10.0, 10.0), shuffle=False, random_state=1234)\n",
    "    for j, clst in enumerate(clsts):\n",
    "        tau = time.time()\n",
    "        clst[0].fit(X)\n",
    "        results[j][i] = time.time() - tau\n",
    "\n",
    "for i, clst in enumerate(clsts):\n",
    "    plt.plot(sizes, results[i], label=clst[1])\n",
    "\n",
    "plt.xlabel('Size of samples')\n",
    "plt.ylabel('Time')\n",
    "plt.legend()\n",
    "plt.show()"
   ]
  },
  {
   "cell_type": "markdown",
   "metadata": {},
   "source": [
    "# Применение K-means на реальных данных"
   ]
  },
  {
   "cell_type": "markdown",
   "metadata": {},
   "source": [
    "Загрузите [данные](https://github.com/brenden17/sklearnlab/blob/master/facebook/snsdata.csv) в которых содержится описание интересов профилей учеников старшей школы США.  (без этого пункта задание не считается выполненным).   \n",
    "ВНИМАНИЕ! Проверка должна быть осуществлена на всех реализациях, иначе реализация не будет зачтена!"
   ]
  },
  {
   "cell_type": "code",
   "execution_count": 16,
   "metadata": {},
   "outputs": [
    {
     "data": {
      "text/html": [
       "<div>\n",
       "<style scoped>\n",
       "    .dataframe tbody tr th:only-of-type {\n",
       "        vertical-align: middle;\n",
       "    }\n",
       "\n",
       "    .dataframe tbody tr th {\n",
       "        vertical-align: top;\n",
       "    }\n",
       "\n",
       "    .dataframe thead th {\n",
       "        text-align: right;\n",
       "    }\n",
       "</style>\n",
       "<table border=\"1\" class=\"dataframe\">\n",
       "  <thead>\n",
       "    <tr style=\"text-align: right;\">\n",
       "      <th></th>\n",
       "      <th>gradyear</th>\n",
       "      <th>gender</th>\n",
       "      <th>age</th>\n",
       "      <th>friends</th>\n",
       "      <th>basketball</th>\n",
       "      <th>football</th>\n",
       "      <th>soccer</th>\n",
       "      <th>softball</th>\n",
       "      <th>volleyball</th>\n",
       "      <th>swimming</th>\n",
       "      <th>...</th>\n",
       "      <th>blonde</th>\n",
       "      <th>mall</th>\n",
       "      <th>shopping</th>\n",
       "      <th>clothes</th>\n",
       "      <th>hollister</th>\n",
       "      <th>abercrombie</th>\n",
       "      <th>die</th>\n",
       "      <th>death</th>\n",
       "      <th>drunk</th>\n",
       "      <th>drugs</th>\n",
       "    </tr>\n",
       "  </thead>\n",
       "  <tbody>\n",
       "    <tr>\n",
       "      <th>0</th>\n",
       "      <td>2006</td>\n",
       "      <td>M</td>\n",
       "      <td>18.982</td>\n",
       "      <td>7</td>\n",
       "      <td>0</td>\n",
       "      <td>0</td>\n",
       "      <td>0</td>\n",
       "      <td>0</td>\n",
       "      <td>0</td>\n",
       "      <td>0</td>\n",
       "      <td>...</td>\n",
       "      <td>0</td>\n",
       "      <td>0</td>\n",
       "      <td>0</td>\n",
       "      <td>0</td>\n",
       "      <td>0</td>\n",
       "      <td>0</td>\n",
       "      <td>0</td>\n",
       "      <td>0</td>\n",
       "      <td>0</td>\n",
       "      <td>0</td>\n",
       "    </tr>\n",
       "    <tr>\n",
       "      <th>1</th>\n",
       "      <td>2006</td>\n",
       "      <td>F</td>\n",
       "      <td>18.801</td>\n",
       "      <td>0</td>\n",
       "      <td>0</td>\n",
       "      <td>1</td>\n",
       "      <td>0</td>\n",
       "      <td>0</td>\n",
       "      <td>0</td>\n",
       "      <td>0</td>\n",
       "      <td>...</td>\n",
       "      <td>0</td>\n",
       "      <td>1</td>\n",
       "      <td>0</td>\n",
       "      <td>0</td>\n",
       "      <td>0</td>\n",
       "      <td>0</td>\n",
       "      <td>0</td>\n",
       "      <td>0</td>\n",
       "      <td>0</td>\n",
       "      <td>0</td>\n",
       "    </tr>\n",
       "    <tr>\n",
       "      <th>2</th>\n",
       "      <td>2006</td>\n",
       "      <td>M</td>\n",
       "      <td>18.335</td>\n",
       "      <td>69</td>\n",
       "      <td>0</td>\n",
       "      <td>1</td>\n",
       "      <td>0</td>\n",
       "      <td>0</td>\n",
       "      <td>0</td>\n",
       "      <td>0</td>\n",
       "      <td>...</td>\n",
       "      <td>0</td>\n",
       "      <td>0</td>\n",
       "      <td>0</td>\n",
       "      <td>0</td>\n",
       "      <td>0</td>\n",
       "      <td>0</td>\n",
       "      <td>0</td>\n",
       "      <td>1</td>\n",
       "      <td>0</td>\n",
       "      <td>0</td>\n",
       "    </tr>\n",
       "    <tr>\n",
       "      <th>3</th>\n",
       "      <td>2006</td>\n",
       "      <td>F</td>\n",
       "      <td>18.875</td>\n",
       "      <td>0</td>\n",
       "      <td>0</td>\n",
       "      <td>0</td>\n",
       "      <td>0</td>\n",
       "      <td>0</td>\n",
       "      <td>0</td>\n",
       "      <td>0</td>\n",
       "      <td>...</td>\n",
       "      <td>0</td>\n",
       "      <td>0</td>\n",
       "      <td>0</td>\n",
       "      <td>0</td>\n",
       "      <td>0</td>\n",
       "      <td>0</td>\n",
       "      <td>0</td>\n",
       "      <td>0</td>\n",
       "      <td>0</td>\n",
       "      <td>0</td>\n",
       "    </tr>\n",
       "    <tr>\n",
       "      <th>4</th>\n",
       "      <td>2006</td>\n",
       "      <td>NaN</td>\n",
       "      <td>18.995</td>\n",
       "      <td>10</td>\n",
       "      <td>0</td>\n",
       "      <td>0</td>\n",
       "      <td>0</td>\n",
       "      <td>0</td>\n",
       "      <td>0</td>\n",
       "      <td>0</td>\n",
       "      <td>...</td>\n",
       "      <td>0</td>\n",
       "      <td>0</td>\n",
       "      <td>2</td>\n",
       "      <td>0</td>\n",
       "      <td>0</td>\n",
       "      <td>0</td>\n",
       "      <td>0</td>\n",
       "      <td>0</td>\n",
       "      <td>1</td>\n",
       "      <td>1</td>\n",
       "    </tr>\n",
       "  </tbody>\n",
       "</table>\n",
       "<p>5 rows × 40 columns</p>\n",
       "</div>"
      ],
      "text/plain": [
       "   gradyear gender     age  friends  basketball  football  soccer  softball  \\\n",
       "0      2006      M  18.982        7           0         0       0         0   \n",
       "1      2006      F  18.801        0           0         1       0         0   \n",
       "2      2006      M  18.335       69           0         1       0         0   \n",
       "3      2006      F  18.875        0           0         0       0         0   \n",
       "4      2006    NaN  18.995       10           0         0       0         0   \n",
       "\n",
       "   volleyball  swimming  ...    blonde  mall  shopping  clothes  hollister  \\\n",
       "0           0         0  ...         0     0         0        0          0   \n",
       "1           0         0  ...         0     1         0        0          0   \n",
       "2           0         0  ...         0     0         0        0          0   \n",
       "3           0         0  ...         0     0         0        0          0   \n",
       "4           0         0  ...         0     0         2        0          0   \n",
       "\n",
       "   abercrombie  die  death  drunk  drugs  \n",
       "0            0    0      0      0      0  \n",
       "1            0    0      0      0      0  \n",
       "2            0    0      1      0      0  \n",
       "3            0    0      0      0      0  \n",
       "4            0    0      0      1      1  \n",
       "\n",
       "[5 rows x 40 columns]"
      ]
     },
     "execution_count": 16,
     "metadata": {},
     "output_type": "execute_result"
    }
   ],
   "source": [
    "df_sns = pd.read_csv('snsdata.csv', sep=',')\n",
    "df_sns.head()"
   ]
  },
  {
   "cell_type": "markdown",
   "metadata": {},
   "source": [
    "Данные устроены так: \n",
    "* Год выпуска\n",
    "* Пол\n",
    "* Возраст\n",
    "* Количество друзей\n",
    "* 36 ключевых слов, которые встречаются в профилe facebook (интересы, сообщества, встречи)"
   ]
  },
  {
   "cell_type": "markdown",
   "metadata": {},
   "source": [
    "* Удалите все признаки кроме 36 ключевых слов.\n",
    "* Нормализуйте данные - из каждого столбца вычтите его среднее значение и поделите на стандартное отклонение.\n",
    "* Используйте метод k-means чтобы выделить 9 кластеров\n",
    "* Попробуйте проинтерпретировать каждый кластер проанализировав полученные центройды (Некоторые кластеры могут быть очень большие и очень маленькие - плохо интерпретируются)   \n",
    "КОММЕНТАРИИ НЕ СТИРАТЬ!"
   ]
  },
  {
   "cell_type": "code",
   "execution_count": 17,
   "metadata": {},
   "outputs": [
    {
     "data": {
      "text/html": [
       "<div>\n",
       "<style scoped>\n",
       "    .dataframe tbody tr th:only-of-type {\n",
       "        vertical-align: middle;\n",
       "    }\n",
       "\n",
       "    .dataframe tbody tr th {\n",
       "        vertical-align: top;\n",
       "    }\n",
       "\n",
       "    .dataframe thead th {\n",
       "        text-align: right;\n",
       "    }\n",
       "</style>\n",
       "<table border=\"1\" class=\"dataframe\">\n",
       "  <thead>\n",
       "    <tr style=\"text-align: right;\">\n",
       "      <th></th>\n",
       "      <th>basketball</th>\n",
       "      <th>football</th>\n",
       "      <th>soccer</th>\n",
       "      <th>softball</th>\n",
       "      <th>volleyball</th>\n",
       "      <th>swimming</th>\n",
       "      <th>cheerleading</th>\n",
       "      <th>baseball</th>\n",
       "      <th>tennis</th>\n",
       "      <th>sports</th>\n",
       "      <th>...</th>\n",
       "      <th>blonde</th>\n",
       "      <th>mall</th>\n",
       "      <th>shopping</th>\n",
       "      <th>clothes</th>\n",
       "      <th>hollister</th>\n",
       "      <th>abercrombie</th>\n",
       "      <th>die</th>\n",
       "      <th>death</th>\n",
       "      <th>drunk</th>\n",
       "      <th>drugs</th>\n",
       "    </tr>\n",
       "  </thead>\n",
       "  <tbody>\n",
       "    <tr>\n",
       "      <th>0</th>\n",
       "      <td>0</td>\n",
       "      <td>0</td>\n",
       "      <td>0</td>\n",
       "      <td>0</td>\n",
       "      <td>0</td>\n",
       "      <td>0</td>\n",
       "      <td>0</td>\n",
       "      <td>0</td>\n",
       "      <td>0</td>\n",
       "      <td>0</td>\n",
       "      <td>...</td>\n",
       "      <td>0</td>\n",
       "      <td>0</td>\n",
       "      <td>0</td>\n",
       "      <td>0</td>\n",
       "      <td>0</td>\n",
       "      <td>0</td>\n",
       "      <td>0</td>\n",
       "      <td>0</td>\n",
       "      <td>0</td>\n",
       "      <td>0</td>\n",
       "    </tr>\n",
       "    <tr>\n",
       "      <th>1</th>\n",
       "      <td>0</td>\n",
       "      <td>1</td>\n",
       "      <td>0</td>\n",
       "      <td>0</td>\n",
       "      <td>0</td>\n",
       "      <td>0</td>\n",
       "      <td>0</td>\n",
       "      <td>0</td>\n",
       "      <td>0</td>\n",
       "      <td>0</td>\n",
       "      <td>...</td>\n",
       "      <td>0</td>\n",
       "      <td>1</td>\n",
       "      <td>0</td>\n",
       "      <td>0</td>\n",
       "      <td>0</td>\n",
       "      <td>0</td>\n",
       "      <td>0</td>\n",
       "      <td>0</td>\n",
       "      <td>0</td>\n",
       "      <td>0</td>\n",
       "    </tr>\n",
       "    <tr>\n",
       "      <th>2</th>\n",
       "      <td>0</td>\n",
       "      <td>1</td>\n",
       "      <td>0</td>\n",
       "      <td>0</td>\n",
       "      <td>0</td>\n",
       "      <td>0</td>\n",
       "      <td>0</td>\n",
       "      <td>0</td>\n",
       "      <td>0</td>\n",
       "      <td>0</td>\n",
       "      <td>...</td>\n",
       "      <td>0</td>\n",
       "      <td>0</td>\n",
       "      <td>0</td>\n",
       "      <td>0</td>\n",
       "      <td>0</td>\n",
       "      <td>0</td>\n",
       "      <td>0</td>\n",
       "      <td>1</td>\n",
       "      <td>0</td>\n",
       "      <td>0</td>\n",
       "    </tr>\n",
       "    <tr>\n",
       "      <th>3</th>\n",
       "      <td>0</td>\n",
       "      <td>0</td>\n",
       "      <td>0</td>\n",
       "      <td>0</td>\n",
       "      <td>0</td>\n",
       "      <td>0</td>\n",
       "      <td>0</td>\n",
       "      <td>0</td>\n",
       "      <td>0</td>\n",
       "      <td>0</td>\n",
       "      <td>...</td>\n",
       "      <td>0</td>\n",
       "      <td>0</td>\n",
       "      <td>0</td>\n",
       "      <td>0</td>\n",
       "      <td>0</td>\n",
       "      <td>0</td>\n",
       "      <td>0</td>\n",
       "      <td>0</td>\n",
       "      <td>0</td>\n",
       "      <td>0</td>\n",
       "    </tr>\n",
       "    <tr>\n",
       "      <th>4</th>\n",
       "      <td>0</td>\n",
       "      <td>0</td>\n",
       "      <td>0</td>\n",
       "      <td>0</td>\n",
       "      <td>0</td>\n",
       "      <td>0</td>\n",
       "      <td>0</td>\n",
       "      <td>0</td>\n",
       "      <td>0</td>\n",
       "      <td>0</td>\n",
       "      <td>...</td>\n",
       "      <td>0</td>\n",
       "      <td>0</td>\n",
       "      <td>2</td>\n",
       "      <td>0</td>\n",
       "      <td>0</td>\n",
       "      <td>0</td>\n",
       "      <td>0</td>\n",
       "      <td>0</td>\n",
       "      <td>1</td>\n",
       "      <td>1</td>\n",
       "    </tr>\n",
       "  </tbody>\n",
       "</table>\n",
       "<p>5 rows × 36 columns</p>\n",
       "</div>"
      ],
      "text/plain": [
       "   basketball  football  soccer  softball  volleyball  swimming  cheerleading  \\\n",
       "0           0         0       0         0           0         0             0   \n",
       "1           0         1       0         0           0         0             0   \n",
       "2           0         1       0         0           0         0             0   \n",
       "3           0         0       0         0           0         0             0   \n",
       "4           0         0       0         0           0         0             0   \n",
       "\n",
       "   baseball  tennis  sports  ...    blonde  mall  shopping  clothes  \\\n",
       "0         0       0       0  ...         0     0         0        0   \n",
       "1         0       0       0  ...         0     1         0        0   \n",
       "2         0       0       0  ...         0     0         0        0   \n",
       "3         0       0       0  ...         0     0         0        0   \n",
       "4         0       0       0  ...         0     0         2        0   \n",
       "\n",
       "   hollister  abercrombie  die  death  drunk  drugs  \n",
       "0          0            0    0      0      0      0  \n",
       "1          0            0    0      0      0      0  \n",
       "2          0            0    0      1      0      0  \n",
       "3          0            0    0      0      0      0  \n",
       "4          0            0    0      0      1      1  \n",
       "\n",
       "[5 rows x 36 columns]"
      ]
     },
     "execution_count": 17,
     "metadata": {},
     "output_type": "execute_result"
    }
   ],
   "source": [
    "df_sns = df_sns[df_sns.columns[4:]]\n",
    "df_sns.head()"
   ]
  },
  {
   "cell_type": "code",
   "execution_count": 18,
   "metadata": {},
   "outputs": [
    {
     "name": "stdout",
     "output_type": "stream",
     "text": [
      "(30000, 36)\n"
     ]
    },
    {
     "data": {
      "text/html": [
       "<div>\n",
       "<style scoped>\n",
       "    .dataframe tbody tr th:only-of-type {\n",
       "        vertical-align: middle;\n",
       "    }\n",
       "\n",
       "    .dataframe tbody tr th {\n",
       "        vertical-align: top;\n",
       "    }\n",
       "\n",
       "    .dataframe thead th {\n",
       "        text-align: right;\n",
       "    }\n",
       "</style>\n",
       "<table border=\"1\" class=\"dataframe\">\n",
       "  <thead>\n",
       "    <tr style=\"text-align: right;\">\n",
       "      <th></th>\n",
       "      <th>basketball</th>\n",
       "      <th>football</th>\n",
       "      <th>soccer</th>\n",
       "      <th>softball</th>\n",
       "      <th>volleyball</th>\n",
       "      <th>swimming</th>\n",
       "      <th>cheerleading</th>\n",
       "      <th>baseball</th>\n",
       "      <th>tennis</th>\n",
       "      <th>sports</th>\n",
       "      <th>...</th>\n",
       "      <th>blonde</th>\n",
       "      <th>mall</th>\n",
       "      <th>shopping</th>\n",
       "      <th>clothes</th>\n",
       "      <th>hollister</th>\n",
       "      <th>abercrombie</th>\n",
       "      <th>die</th>\n",
       "      <th>death</th>\n",
       "      <th>drunk</th>\n",
       "      <th>drugs</th>\n",
       "    </tr>\n",
       "  </thead>\n",
       "  <tbody>\n",
       "    <tr>\n",
       "      <th>0</th>\n",
       "      <td>-0.332212</td>\n",
       "      <td>-0.357691</td>\n",
       "      <td>-0.24287</td>\n",
       "      <td>-0.217924</td>\n",
       "      <td>-0.223666</td>\n",
       "      <td>-0.259966</td>\n",
       "      <td>-0.207324</td>\n",
       "      <td>-0.201127</td>\n",
       "      <td>-0.168936</td>\n",
       "      <td>-0.297118</td>\n",
       "      <td>...</td>\n",
       "      <td>-0.050936</td>\n",
       "      <td>-0.369909</td>\n",
       "      <td>-0.487306</td>\n",
       "      <td>-0.314193</td>\n",
       "      <td>-0.201473</td>\n",
       "      <td>-0.183029</td>\n",
       "      <td>-0.294788</td>\n",
       "      <td>-0.261526</td>\n",
       "      <td>-0.220399</td>\n",
       "      <td>-0.174905</td>\n",
       "    </tr>\n",
       "    <tr>\n",
       "      <th>1</th>\n",
       "      <td>-0.332212</td>\n",
       "      <td>1.060031</td>\n",
       "      <td>-0.24287</td>\n",
       "      <td>-0.217924</td>\n",
       "      <td>-0.223666</td>\n",
       "      <td>-0.259966</td>\n",
       "      <td>-0.207324</td>\n",
       "      <td>-0.201127</td>\n",
       "      <td>-0.168936</td>\n",
       "      <td>-0.297118</td>\n",
       "      <td>...</td>\n",
       "      <td>-0.050936</td>\n",
       "      <td>1.067374</td>\n",
       "      <td>-0.487306</td>\n",
       "      <td>-0.314193</td>\n",
       "      <td>-0.201473</td>\n",
       "      <td>-0.183029</td>\n",
       "      <td>-0.294788</td>\n",
       "      <td>-0.261526</td>\n",
       "      <td>-0.220399</td>\n",
       "      <td>-0.174905</td>\n",
       "    </tr>\n",
       "    <tr>\n",
       "      <th>2</th>\n",
       "      <td>-0.332212</td>\n",
       "      <td>1.060031</td>\n",
       "      <td>-0.24287</td>\n",
       "      <td>-0.217924</td>\n",
       "      <td>-0.223666</td>\n",
       "      <td>-0.259966</td>\n",
       "      <td>-0.207324</td>\n",
       "      <td>-0.201127</td>\n",
       "      <td>-0.168936</td>\n",
       "      <td>-0.297118</td>\n",
       "      <td>...</td>\n",
       "      <td>-0.050936</td>\n",
       "      <td>-0.369909</td>\n",
       "      <td>-0.487306</td>\n",
       "      <td>-0.314193</td>\n",
       "      <td>-0.201473</td>\n",
       "      <td>-0.183029</td>\n",
       "      <td>-0.294788</td>\n",
       "      <td>2.027874</td>\n",
       "      <td>-0.220399</td>\n",
       "      <td>-0.174905</td>\n",
       "    </tr>\n",
       "    <tr>\n",
       "      <th>3</th>\n",
       "      <td>-0.332212</td>\n",
       "      <td>-0.357691</td>\n",
       "      <td>-0.24287</td>\n",
       "      <td>-0.217924</td>\n",
       "      <td>-0.223666</td>\n",
       "      <td>-0.259966</td>\n",
       "      <td>-0.207324</td>\n",
       "      <td>-0.201127</td>\n",
       "      <td>-0.168936</td>\n",
       "      <td>-0.297118</td>\n",
       "      <td>...</td>\n",
       "      <td>-0.050936</td>\n",
       "      <td>-0.369909</td>\n",
       "      <td>-0.487306</td>\n",
       "      <td>-0.314193</td>\n",
       "      <td>-0.201473</td>\n",
       "      <td>-0.183029</td>\n",
       "      <td>-0.294788</td>\n",
       "      <td>-0.261526</td>\n",
       "      <td>-0.220399</td>\n",
       "      <td>-0.174905</td>\n",
       "    </tr>\n",
       "    <tr>\n",
       "      <th>4</th>\n",
       "      <td>-0.332212</td>\n",
       "      <td>-0.357691</td>\n",
       "      <td>-0.24287</td>\n",
       "      <td>-0.217924</td>\n",
       "      <td>-0.223666</td>\n",
       "      <td>-0.259966</td>\n",
       "      <td>-0.207324</td>\n",
       "      <td>-0.201127</td>\n",
       "      <td>-0.168936</td>\n",
       "      <td>-0.297118</td>\n",
       "      <td>...</td>\n",
       "      <td>-0.050936</td>\n",
       "      <td>-0.369909</td>\n",
       "      <td>2.273635</td>\n",
       "      <td>-0.314193</td>\n",
       "      <td>-0.201473</td>\n",
       "      <td>-0.183029</td>\n",
       "      <td>-0.294788</td>\n",
       "      <td>-0.261526</td>\n",
       "      <td>2.285084</td>\n",
       "      <td>2.719271</td>\n",
       "    </tr>\n",
       "  </tbody>\n",
       "</table>\n",
       "<p>5 rows × 36 columns</p>\n",
       "</div>"
      ],
      "text/plain": [
       "   basketball  football   soccer  softball  volleyball  swimming  \\\n",
       "0   -0.332212 -0.357691 -0.24287 -0.217924   -0.223666 -0.259966   \n",
       "1   -0.332212  1.060031 -0.24287 -0.217924   -0.223666 -0.259966   \n",
       "2   -0.332212  1.060031 -0.24287 -0.217924   -0.223666 -0.259966   \n",
       "3   -0.332212 -0.357691 -0.24287 -0.217924   -0.223666 -0.259966   \n",
       "4   -0.332212 -0.357691 -0.24287 -0.217924   -0.223666 -0.259966   \n",
       "\n",
       "   cheerleading  baseball    tennis    sports    ...       blonde      mall  \\\n",
       "0     -0.207324 -0.201127 -0.168936 -0.297118    ...    -0.050936 -0.369909   \n",
       "1     -0.207324 -0.201127 -0.168936 -0.297118    ...    -0.050936  1.067374   \n",
       "2     -0.207324 -0.201127 -0.168936 -0.297118    ...    -0.050936 -0.369909   \n",
       "3     -0.207324 -0.201127 -0.168936 -0.297118    ...    -0.050936 -0.369909   \n",
       "4     -0.207324 -0.201127 -0.168936 -0.297118    ...    -0.050936 -0.369909   \n",
       "\n",
       "   shopping   clothes  hollister  abercrombie       die     death     drunk  \\\n",
       "0 -0.487306 -0.314193  -0.201473    -0.183029 -0.294788 -0.261526 -0.220399   \n",
       "1 -0.487306 -0.314193  -0.201473    -0.183029 -0.294788 -0.261526 -0.220399   \n",
       "2 -0.487306 -0.314193  -0.201473    -0.183029 -0.294788  2.027874 -0.220399   \n",
       "3 -0.487306 -0.314193  -0.201473    -0.183029 -0.294788 -0.261526 -0.220399   \n",
       "4  2.273635 -0.314193  -0.201473    -0.183029 -0.294788 -0.261526  2.285084   \n",
       "\n",
       "      drugs  \n",
       "0 -0.174905  \n",
       "1 -0.174905  \n",
       "2 -0.174905  \n",
       "3 -0.174905  \n",
       "4  2.719271  \n",
       "\n",
       "[5 rows x 36 columns]"
      ]
     },
     "execution_count": 18,
     "metadata": {},
     "output_type": "execute_result"
    }
   ],
   "source": [
    "X = (df_sns - df_sns.mean()) / df_sns.std()\n",
    "print(X.shape)\n",
    "X.head()"
   ]
  },
  {
   "cell_type": "code",
   "execution_count": 19,
   "metadata": {},
   "outputs": [
    {
     "data": {
      "text/plain": [
       "Index(['basketball', 'football', 'soccer', 'softball', 'volleyball',\n",
       "       'swimming', 'cheerleading', 'baseball', 'tennis', 'sports', 'cute',\n",
       "       'sex', 'sexy', 'hot', 'kissed', 'dance', 'band', 'marching', 'music',\n",
       "       'rock', 'god', 'church', 'jesus', 'bible', 'hair', 'dress', 'blonde',\n",
       "       'mall', 'shopping', 'clothes', 'hollister', 'abercrombie', 'die',\n",
       "       'death', 'drunk', 'drugs'],\n",
       "      dtype='object')"
      ]
     },
     "execution_count": 19,
     "metadata": {},
     "output_type": "execute_result"
    }
   ],
   "source": [
    "tags = X.columns\n",
    "tags"
   ]
  },
  {
   "cell_type": "code",
   "execution_count": 20,
   "metadata": {},
   "outputs": [
    {
     "name": "stdout",
     "output_type": "stream",
     "text": [
      "CPU times: user 3 µs, sys: 1 µs, total: 4 µs\n",
      "Wall time: 8.11 µs\n",
      "clst: 0  count: 856 tags: ['clothes' 'mall' 'shopping' 'abercrombie' 'hollister']\n",
      "clst: 1  count: 760 tags: ['god' 'rock' 'music' 'band' 'marching']\n",
      "clst: 2  count: 200 tags: ['music' 'rock' 'hair' 'sex' 'kissed']\n",
      "clst: 3  count: 18573 tags: ['bible' 'jesus' 'soccer' 'tennis' 'blonde']\n",
      "clst: 4  count: 2340 tags: ['church' 'jesus' 'god' 'bible' 'death']\n",
      "clst: 5  count: 2146 tags: ['sports' 'football' 'baseball' 'softball' 'basketball']\n",
      "clst: 6  count: 1060 tags: ['die' 'hair' 'kissed' 'drunk' 'drugs']\n",
      "clst: 7  count: 492 tags: ['soccer' 'clothes' 'music' 'shopping' 'swimming']\n",
      "clst: 8  count: 3573 tags: ['dance' 'dress' 'mall' 'cute' 'shopping']\n"
     ]
    }
   ],
   "source": [
    "## MyKMeans\n",
    "clst = MyKmeans(k=9)\n",
    "\n",
    "%time\n",
    "clst.fit(X.values)\n",
    "for i, centroid in enumerate(clst.centroids):\n",
    "    print('clst:', i, ' count:', clst.labels[clst.labels == i].size, end=' ')\n",
    "    print('tags:', tags[np.argsort(centroid)[-5:]].values)"
   ]
  },
  {
   "cell_type": "markdown",
   "metadata": {},
   "source": [
    "* 0 -- девушки\n",
    "* 1 -- увлекающиеся рок-музыкой\n",
    "* 2 -- скорее, девушки, увлекающиеся рок-музыкой\n",
    "* 3 -- плохо интерпретируется, слишком обширен\n",
    "* 4 -- религиозные люди\n",
    "* 5 -- увлекающиеся спортом\n",
    "* 6 -- впадающие в крайности\n",
    "* 7 -- девушки, увлекающиеся спортом\n",
    "* 8 -- девушки"
   ]
  },
  {
   "cell_type": "code",
   "execution_count": 21,
   "metadata": {},
   "outputs": [
    {
     "name": "stdout",
     "output_type": "stream",
     "text": [
      "CPU times: user 10 µs, sys: 2 µs, total: 12 µs\n",
      "Wall time: 11 µs\n",
      "clst: 0  count: 3974 tags: ['dance' 'hot' 'mall' 'cute' 'shopping']\n",
      "clst: 1  count: 891 tags: ['drunk' 'sex' 'hair' 'drugs' 'kissed']\n",
      "clst: 2  count: 569 tags: ['football' 'rock' 'music' 'band' 'marching']\n",
      "clst: 3  count: 681 tags: ['basketball' 'football' 'shopping' 'sports' 'soccer']\n",
      "clst: 4  count: 18914 tags: ['bible' 'death' 'jesus' 'tennis' 'blonde']\n",
      "clst: 5  count: 2012 tags: ['football' 'volleyball' 'baseball' 'softball' 'basketball']\n",
      "clst: 6  count: 840 tags: ['clothes' 'mall' 'shopping' 'abercrombie' 'hollister']\n",
      "clst: 7  count: 1656 tags: ['hair' 'cute' 'shopping' 'dance' 'dress']\n",
      "clst: 8  count: 463 tags: ['death' 'church' 'god' 'jesus' 'bible']\n"
     ]
    }
   ],
   "source": [
    "## MyKMeans++\n",
    "clst = MyKmeans(k=9, init='k-means')\n",
    "\n",
    "%time\n",
    "clst.fit(X.values)\n",
    "for i, centroid in enumerate(clst.centroids):\n",
    "    print('clst:', i, ' count:', clst.labels[clst.labels == i].size, end=' ')\n",
    "    print('tags:', tags[np.argsort(centroid)[-5:]].values)"
   ]
  },
  {
   "cell_type": "markdown",
   "metadata": {},
   "source": [
    "* 0 -- девушки\n",
    "* 1 -- вероятно, завсегдатаи баров\n",
    "* 2 -- увлекающиеся рок музыкой и спортом\n",
    "* 3 -- увлекающиеся спортом\n",
    "* 4 -- плохо интерпретируется, слишком обширен\n",
    "* 5 -- увлекающиеся спортом\n",
    "* 6 -- девушки\n",
    "* 7 -- девушки\n",
    "* 8 -- религиозные люди"
   ]
  },
  {
   "cell_type": "code",
   "execution_count": 35,
   "metadata": {},
   "outputs": [
    {
     "name": "stdout",
     "output_type": "stream",
     "text": [
      "CPU times: user 3 µs, sys: 1e+03 ns, total: 4 µs\n",
      "Wall time: 7.87 µs\n",
      "clst: 0  count: 251 tags: ['sexy' 'swimming' 'abercrombie' 'baseball' 'death']\n",
      "clst: 1  count: 377 tags: ['cute' 'shopping' 'dance' 'sexy' 'drugs']\n",
      "clst: 2  count: 969 tags: ['music' 'clothes' 'death' 'shopping' 'abercrombie']\n",
      "clst: 3  count: 513 tags: ['music' 'basketball' 'volleyball' 'tennis' 'sports']\n",
      "clst: 4  count: 73 tags: ['music' 'hair' 'drugs' 'sex' 'sports']\n",
      "clst: 5  count: 32 tags: ['abercrombie' 'softball' 'football' 'clothes' 'cheerleading']\n",
      "clst: 6  count: 2172 tags: ['marching' 'bible' 'blonde' 'hair' 'rock']\n",
      "clst: 7  count: 23725 tags: ['cheerleading' 'drunk' 'dress' 'marching' 'softball']\n",
      "clst: 8  count: 1888 tags: ['marching' 'bible' 'blonde' 'rock' 'music']\n"
     ]
    }
   ],
   "source": [
    "## MyKMeans с MiniBatchMyKMeans\n",
    "clst = MiniBatchKMeans(k=9, batch_size=10)\n",
    "\n",
    "%time\n",
    "clst.fit(X.values)\n",
    "for i, centroid in enumerate(clst.centroids):\n",
    "    print('clst:', i, ' count:', clst.labels[clst.labels == i].size, end=' ')\n",
    "    print('tags:', tags[np.argsort(centroid)[-5:]].values)"
   ]
  },
  {
   "cell_type": "markdown",
   "metadata": {},
   "source": [
    "* 0 -- девушки\n",
    "* 1 -- девушки\n",
    "* 2 -- тоже девушки\n",
    "* 3 -- увлекающиеся спортом\n",
    "* 4 -- ничего примечательного, если drugs понимать, как лекарства\n",
    "* 5 -- снова девушки\n",
    "* 6 -- плохо интерпретируется\n",
    "* 7 -- увлекающиеся спортом\n",
    "* 8 -- религиозные люди"
   ]
  },
  {
   "cell_type": "code",
   "execution_count": 36,
   "metadata": {},
   "outputs": [
    {
     "name": "stdout",
     "output_type": "stream",
     "text": [
      "CPU times: user 4 µs, sys: 0 ns, total: 4 µs\n",
      "Wall time: 9.06 µs\n",
      "clst: 0  count: 484 tags: ['god' 'cute' 'dress' 'hot' 'drunk']\n",
      "clst: 1  count: 357 tags: ['blonde' 'football' 'sexy' 'shopping' 'dance']\n",
      "clst: 2  count: 18177 tags: ['tennis' 'marching' 'bible' 'blonde' 'god']\n",
      "clst: 3  count: 332 tags: ['god' 'cute' 'basketball' 'sexy' 'band']\n",
      "clst: 4  count: 1608 tags: ['shopping' 'rock' 'dance' 'swimming' 'hot']\n",
      "clst: 5  count: 2071 tags: ['music' 'shopping' 'softball' 'die' 'dance']\n",
      "clst: 6  count: 1180 tags: ['shopping' 'music' 'jesus' 'clothes' 'basketball']\n",
      "clst: 7  count: 2917 tags: ['bible' 'blonde' 'music' 'shopping' 'clothes']\n",
      "clst: 8  count: 2874 tags: ['drugs' 'marching' 'bible' 'blonde' 'dance']\n"
     ]
    }
   ],
   "source": [
    "## MyKMeans++ с MiniBatchMyKMeans\n",
    "clst = MiniBatchKMeans(k=9, init='k-means', batch_size=10)\n",
    "\n",
    "%time\n",
    "clst.fit(X.values)\n",
    "for i, centroid in enumerate(clst.centroids):\n",
    "    print('clst:', i, ' count:', clst.labels[clst.labels == i].size, end=' ')\n",
    "    print('tags:', tags[np.argsort(centroid)[-5:]].values)"
   ]
  },
  {
   "cell_type": "markdown",
   "metadata": {},
   "source": [
    "* 0 -- девушки\n",
    "* 1 -- девушки\n",
    "* 2 -- плохо интерпретируется, слишком обширен\n",
    "* 3 -- увлекающиеся спортом\n",
    "* 4 -- плохо интерпретируется\n",
    "* 5 -- увлекающиеся спортом\n",
    "* 6 -- плохо интерпретируется\n",
    "* 7 -- плохо интерпретируется\n",
    "* 8 -- религиозные люди"
   ]
  },
  {
   "cell_type": "markdown",
   "metadata": {},
   "source": [
    "## Вывод\n",
    "КMeans и MiniBatch с KMeans работают быстрее всего.\n",
    "\n",
    "По интерпретируемости лучше всего выходило с KMeans и KMeans++.\n",
    "\n",
    "MiniBatch при больших batch-size склонен работать быстрее, но, вне зависимости от batch-size, почему-то чаще\n",
    "склонен запихивать все в один кластер.\n",
    "\n",
    "Хуже всего по интерпретируемсти работает MiniBatch с KMeans++."
   ]
  }
 ],
 "metadata": {
  "anaconda-cloud": {},
  "kernelspec": {
   "display_name": "Python 3",
   "language": "python",
   "name": "python3"
  },
  "language_info": {
   "codemirror_mode": {
    "name": "ipython",
    "version": 3
   },
   "file_extension": ".py",
   "mimetype": "text/x-python",
   "name": "python",
   "nbconvert_exporter": "python",
   "pygments_lexer": "ipython3",
   "version": "3.7.0"
  },
  "nav_menu": {},
  "toc": {
   "navigate_menu": true,
   "number_sections": false,
   "sideBar": true,
   "threshold": 6,
   "toc_cell": false,
   "toc_section_display": "block",
   "toc_window_display": true
  }
 },
 "nbformat": 4,
 "nbformat_minor": 2
}
