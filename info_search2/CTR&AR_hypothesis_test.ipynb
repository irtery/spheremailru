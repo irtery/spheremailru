{
 "cells": [
  {
   "cell_type": "markdown",
   "metadata": {},
   "source": [
    "Терёхина Ирина Юрьевна"
   ]
  },
  {
   "cell_type": "markdown",
   "metadata": {},
   "source": [
    "Задача: \n",
    "\n",
    "Методом бутстрепинга проверить гипотезу H0 о том, что CTR  на двух сплитах можнообъяснить шумами. Выполнить данный подсчет для любой другой кликовой метрики, например: количество отказов (доля сессий без кликов), доля кликов в первый результат, позиция последнего клика, среднее количество кликов на сессию и т.д."
   ]
  },
  {
   "cell_type": "code",
   "execution_count": 29,
   "metadata": {},
   "outputs": [],
   "source": [
    "import pandas as pd\n",
    "import numpy as np\n",
    "import random\n",
    "from scipy import stats\n",
    "\n",
    "import matplotlib.pyplot as plt\n",
    "%matplotlib inline"
   ]
  },
  {
   "cell_type": "code",
   "execution_count": 30,
   "metadata": {},
   "outputs": [],
   "source": [
    "split1 = pd.read_csv('home_work_data/c1.txt', header=None)\n",
    "split2 = pd.read_csv('home_work_data/c2.txt', header=None)"
   ]
  },
  {
   "cell_type": "code",
   "execution_count": 31,
   "metadata": {},
   "outputs": [
    {
     "data": {
      "text/html": [
       "<div>\n",
       "<style scoped>\n",
       "    .dataframe tbody tr th:only-of-type {\n",
       "        vertical-align: middle;\n",
       "    }\n",
       "\n",
       "    .dataframe tbody tr th {\n",
       "        vertical-align: top;\n",
       "    }\n",
       "\n",
       "    .dataframe thead th {\n",
       "        text-align: right;\n",
       "    }\n",
       "</style>\n",
       "<table border=\"1\" class=\"dataframe\">\n",
       "  <thead>\n",
       "    <tr style=\"text-align: right;\">\n",
       "      <th></th>\n",
       "      <th>0</th>\n",
       "    </tr>\n",
       "  </thead>\n",
       "  <tbody>\n",
       "    <tr>\n",
       "      <th>0</th>\n",
       "      <td>1 1 1 0 0 0 0 0 0 0</td>\n",
       "    </tr>\n",
       "    <tr>\n",
       "      <th>1</th>\n",
       "      <td>0 0 0 0 0 0 0 0 0 0</td>\n",
       "    </tr>\n",
       "    <tr>\n",
       "      <th>2</th>\n",
       "      <td>1 0 0 0 0 0 0 0 0 0</td>\n",
       "    </tr>\n",
       "    <tr>\n",
       "      <th>3</th>\n",
       "      <td>1 1 1 0 0 0 0 0 0 0</td>\n",
       "    </tr>\n",
       "    <tr>\n",
       "      <th>4</th>\n",
       "      <td>1 0 0 0 0 0 0 0 0 0</td>\n",
       "    </tr>\n",
       "  </tbody>\n",
       "</table>\n",
       "</div>"
      ],
      "text/plain": [
       "                     0\n",
       "0  1 1 1 0 0 0 0 0 0 0\n",
       "1  0 0 0 0 0 0 0 0 0 0\n",
       "2  1 0 0 0 0 0 0 0 0 0\n",
       "3  1 1 1 0 0 0 0 0 0 0\n",
       "4  1 0 0 0 0 0 0 0 0 0"
      ]
     },
     "execution_count": 31,
     "metadata": {},
     "output_type": "execute_result"
    }
   ],
   "source": [
    "N = len(split1)\n",
    "split1.head()"
   ]
  },
  {
   "cell_type": "code",
   "execution_count": 32,
   "metadata": {},
   "outputs": [],
   "source": [
    "def check_any_click(session):\n",
    "    values = [int(i) for i in list(session)[0].split()]\n",
    "    if np.sum(values) == 0:\n",
    "        return 0\n",
    "    else:\n",
    "        return 1\n",
    "    \n",
    "def check_first_click(session):\n",
    "    return int(list(session)[0].split()[0])"
   ]
  },
  {
   "cell_type": "code",
   "execution_count": 33,
   "metadata": {},
   "outputs": [
    {
     "data": {
      "text/html": [
       "<div>\n",
       "<style scoped>\n",
       "    .dataframe tbody tr th:only-of-type {\n",
       "        vertical-align: middle;\n",
       "    }\n",
       "\n",
       "    .dataframe tbody tr th {\n",
       "        vertical-align: top;\n",
       "    }\n",
       "\n",
       "    .dataframe thead th {\n",
       "        text-align: right;\n",
       "    }\n",
       "</style>\n",
       "<table border=\"1\" class=\"dataframe\">\n",
       "  <thead>\n",
       "    <tr style=\"text-align: right;\">\n",
       "      <th></th>\n",
       "      <th>0</th>\n",
       "      <th>was_clicks</th>\n",
       "      <th>was_clicks@1</th>\n",
       "    </tr>\n",
       "  </thead>\n",
       "  <tbody>\n",
       "    <tr>\n",
       "      <th>0</th>\n",
       "      <td>1 1 1 0 0 0 0 0 0 0</td>\n",
       "      <td>1</td>\n",
       "      <td>1</td>\n",
       "    </tr>\n",
       "    <tr>\n",
       "      <th>1</th>\n",
       "      <td>0 0 0 0 0 0 0 0 0 0</td>\n",
       "      <td>0</td>\n",
       "      <td>0</td>\n",
       "    </tr>\n",
       "    <tr>\n",
       "      <th>2</th>\n",
       "      <td>1 0 0 0 0 0 0 0 0 0</td>\n",
       "      <td>1</td>\n",
       "      <td>1</td>\n",
       "    </tr>\n",
       "    <tr>\n",
       "      <th>3</th>\n",
       "      <td>1 1 1 0 0 0 0 0 0 0</td>\n",
       "      <td>1</td>\n",
       "      <td>1</td>\n",
       "    </tr>\n",
       "    <tr>\n",
       "      <th>4</th>\n",
       "      <td>1 0 0 0 0 0 0 0 0 0</td>\n",
       "      <td>1</td>\n",
       "      <td>1</td>\n",
       "    </tr>\n",
       "  </tbody>\n",
       "</table>\n",
       "</div>"
      ],
      "text/plain": [
       "                     0  was_clicks  was_clicks@1\n",
       "0  1 1 1 0 0 0 0 0 0 0           1             1\n",
       "1  0 0 0 0 0 0 0 0 0 0           0             0\n",
       "2  1 0 0 0 0 0 0 0 0 0           1             1\n",
       "3  1 1 1 0 0 0 0 0 0 0           1             1\n",
       "4  1 0 0 0 0 0 0 0 0 0           1             1"
      ]
     },
     "execution_count": 33,
     "metadata": {},
     "output_type": "execute_result"
    }
   ],
   "source": [
    "split1['was_clicks'] = split1.apply(check_any_click, axis=1)\n",
    "split1['was_clicks@1'] = split1.apply(check_first_click, axis=1)\n",
    "split1.head()"
   ]
  },
  {
   "cell_type": "code",
   "execution_count": 34,
   "metadata": {},
   "outputs": [
    {
     "data": {
      "text/html": [
       "<div>\n",
       "<style scoped>\n",
       "    .dataframe tbody tr th:only-of-type {\n",
       "        vertical-align: middle;\n",
       "    }\n",
       "\n",
       "    .dataframe tbody tr th {\n",
       "        vertical-align: top;\n",
       "    }\n",
       "\n",
       "    .dataframe thead th {\n",
       "        text-align: right;\n",
       "    }\n",
       "</style>\n",
       "<table border=\"1\" class=\"dataframe\">\n",
       "  <thead>\n",
       "    <tr style=\"text-align: right;\">\n",
       "      <th></th>\n",
       "      <th>0</th>\n",
       "      <th>was_clicks</th>\n",
       "      <th>was_clicks@1</th>\n",
       "    </tr>\n",
       "  </thead>\n",
       "  <tbody>\n",
       "    <tr>\n",
       "      <th>0</th>\n",
       "      <td>0 0 0 0 0 0 0 0 0 0</td>\n",
       "      <td>0</td>\n",
       "      <td>0</td>\n",
       "    </tr>\n",
       "    <tr>\n",
       "      <th>1</th>\n",
       "      <td>1 0 0 0 0 0 0 0 0 0</td>\n",
       "      <td>1</td>\n",
       "      <td>1</td>\n",
       "    </tr>\n",
       "    <tr>\n",
       "      <th>2</th>\n",
       "      <td>0 0 0 0 0 0 0 0 0 0</td>\n",
       "      <td>0</td>\n",
       "      <td>0</td>\n",
       "    </tr>\n",
       "    <tr>\n",
       "      <th>3</th>\n",
       "      <td>1 0 0 1 0 0 0 0 0 0</td>\n",
       "      <td>1</td>\n",
       "      <td>1</td>\n",
       "    </tr>\n",
       "    <tr>\n",
       "      <th>4</th>\n",
       "      <td>0 0 0 0 0 0 0 0 0 0</td>\n",
       "      <td>0</td>\n",
       "      <td>0</td>\n",
       "    </tr>\n",
       "  </tbody>\n",
       "</table>\n",
       "</div>"
      ],
      "text/plain": [
       "                     0  was_clicks  was_clicks@1\n",
       "0  0 0 0 0 0 0 0 0 0 0           0             0\n",
       "1  1 0 0 0 0 0 0 0 0 0           1             1\n",
       "2  0 0 0 0 0 0 0 0 0 0           0             0\n",
       "3  1 0 0 1 0 0 0 0 0 0           1             1\n",
       "4  0 0 0 0 0 0 0 0 0 0           0             0"
      ]
     },
     "execution_count": 34,
     "metadata": {},
     "output_type": "execute_result"
    }
   ],
   "source": [
    "split2['was_clicks'] = split2.apply(check_any_click, axis=1)\n",
    "split2['was_clicks@1'] = split2.apply(check_first_click, axis=1)\n",
    "split2.head()"
   ]
  },
  {
   "cell_type": "markdown",
   "metadata": {},
   "source": [
    "Значения для метрик CTR, Abandonment Rate, Click@1. Количество сессий в одной группе -- 100."
   ]
  },
  {
   "cell_type": "code",
   "execution_count": 35,
   "metadata": {},
   "outputs": [],
   "source": [
    "batch_size = 100\n",
    "\n",
    "ctr_split1 = []\n",
    "ctr_split2 = []\n",
    "ar_split1 = [] # abandonment rate\n",
    "ar_split2 = []\n",
    "cf_split1 = [] # click at first doc\n",
    "cf_split2 = []\n",
    "\n",
    "for batch_num in range(int(N / batch_size)):\n",
    "    ctr1 = sum(split1.loc[batch_num:batch_num+batch_size-1, 'was_clicks']) / batch_size\n",
    "    ctr2 = sum(split2.loc[batch_num:batch_num+batch_size-1, 'was_clicks']) / batch_size\n",
    "\n",
    "    ctr_split1.append(ctr1)\n",
    "    ctr_split2.append(ctr2)\n",
    "    \n",
    "    ar_split1.append(1 - ctr1)\n",
    "    ar_split2.append(1 - ctr2)\n",
    "    \n",
    "    cf1 = sum(split1.loc[batch_num:batch_num+batch_size-1, 'was_clicks@1']) / batch_size\n",
    "    cf2 = sum(split2.loc[batch_num:batch_num+batch_size-1, 'was_clicks@1']) / batch_size\n",
    "    cf_split1.append(cf1)\n",
    "    cf_split2.append(cf2)"
   ]
  },
  {
   "cell_type": "code",
   "execution_count": 36,
   "metadata": {},
   "outputs": [
    {
     "data": {
      "text/plain": [
       "(10000, 1000000)"
      ]
     },
     "execution_count": 36,
     "metadata": {},
     "output_type": "execute_result"
    }
   ],
   "source": [
    "len(ctr_split1), N"
   ]
  },
  {
   "cell_type": "code",
   "execution_count": 37,
   "metadata": {},
   "outputs": [
    {
     "data": {
      "text/plain": [
       "([0.75, 0.75, 0.76, 0.76, 0.76],\n",
       " [0.25, 0.25, 0.24, 0.24, 0.24],\n",
       " [0.5, 0.49, 0.5, 0.5, 0.5])"
      ]
     },
     "execution_count": 37,
     "metadata": {},
     "output_type": "execute_result"
    }
   ],
   "source": [
    "ctr_split1[:5], ar_split1[:5], cf_split1[:5]"
   ]
  },
  {
   "cell_type": "code",
   "execution_count": 38,
   "metadata": {},
   "outputs": [
    {
     "data": {
      "text/plain": [
       "([0.72, 0.73, 0.73, 0.74, 0.74],\n",
       " [0.28, 0.27, 0.27, 0.26, 0.26],\n",
       " [0.31, 0.32, 0.31, 0.31, 0.3])"
      ]
     },
     "execution_count": 38,
     "metadata": {},
     "output_type": "execute_result"
    }
   ],
   "source": [
    "ctr_split2[:5], ar_split2[:5], cf_split2[:5]"
   ]
  },
  {
   "cell_type": "markdown",
   "metadata": {},
   "source": [
    "Bootstraping"
   ]
  },
  {
   "cell_type": "markdown",
   "metadata": {},
   "source": [
    "H_0 -- выборки взяты из одного распределения, отклонения вызваны случайными флуктуациями"
   ]
  },
  {
   "cell_type": "code",
   "execution_count": 40,
   "metadata": {},
   "outputs": [],
   "source": [
    "batch_size = 1000\n",
    "num_of_experiments = 100\n",
    "sample_size = len(ctr_split1)"
   ]
  },
  {
   "cell_type": "code",
   "execution_count": 41,
   "metadata": {},
   "outputs": [],
   "source": [
    "def check_ttest(test_data1, test_data2, t_star=1.96, alpha=0.05):\n",
    "    stat, pvalue = stats.ttest_ind(test_data1, test_data2)\n",
    "    print(\"stat, pvalue for batch:\", stat, pvalue)\n",
    "    if pvalue < alpha: # possible to reject H0\n",
    "        if stat > t_star:\n",
    "            return 1\n",
    "    return 0"
   ]
  },
  {
   "cell_type": "markdown",
   "metadata": {},
   "source": [
    "CTR:"
   ]
  },
  {
   "cell_type": "markdown",
   "metadata": {},
   "source": [
    "Как выглядит распределение для сплитов:"
   ]
  },
  {
   "cell_type": "code",
   "execution_count": 20,
   "metadata": {},
   "outputs": [
    {
     "data": {
      "image/png": "[encoded data removed]",
      "text/plain": [
       "<Figure size 1728x432 with 2 Axes>"
      ]
     },
     "metadata": {
      "needs_background": "light"
     },
     "output_type": "display_data"
    }
   ],
   "source": [
    "fig = plt.figure(figsize=(24, 6))\n",
    "\n",
    "ax1 = plt.subplot(121)\n",
    "plt.hist(ctr_split1, 15)\n",
    "\n",
    "ax2 = plt.subplot(122)\n",
    "plt.hist(ctr_split2, 15)\n",
    "\n",
    "plt.show()"
   ]
  },
  {
   "cell_type": "code",
   "execution_count": 21,
   "metadata": {},
   "outputs": [
    {
     "name": "stdout",
     "output_type": "stream",
     "text": [
      "stat, pvalue for batch: 15.87890283028367 1.454828809822094e-53\n",
      "stat, pvalue for batch: 16.12528149773871 4.3573292790828194e-55\n",
      "stat, pvalue for batch: 16.089814580034673 7.23852680796795e-55\n",
      "stat, pvalue for batch: 13.795261437925337 2.0228565781506046e-41\n",
      "stat, pvalue for batch: 13.962953124049356 2.3951606700873287e-42\n",
      "stat, pvalue for batch: 17.32133530828962 9.841330600507897e-63\n",
      "stat, pvalue for batch: 15.210552274626735 1.6009084862390686e-49\n",
      "stat, pvalue for batch: 14.911507396361735 9.302979399072894e-48\n",
      "stat, pvalue for batch: 16.111419226772288 5.313976034052589e-55\n",
      "stat, pvalue for batch: 16.97636774988202 1.7383898990520464e-60\n",
      "stat, pvalue for batch: 14.712662336823826 1.337792357282122e-46\n",
      "stat, pvalue for batch: 15.420399412088713 8.911704132821625e-51\n",
      "stat, pvalue for batch: 14.554724836249365 1.0893207648992932e-45\n",
      "stat, pvalue for batch: 15.89143591857167 1.2182657547122826e-53\n",
      "stat, pvalue for batch: 14.533415050428557 1.44357895332653e-45\n",
      "stat, pvalue for batch: 15.175211020227417 2.595983947907142e-49\n",
      "stat, pvalue for batch: 15.468018782023435 4.6072329433498513e-51\n",
      "stat, pvalue for batch: 16.803974343612065 2.2415814958020115e-59\n",
      "stat, pvalue for batch: 15.366861620968198 1.8675387608393752e-50\n",
      "stat, pvalue for batch: 15.42203114659504 8.712728340508108e-51\n",
      "stat, pvalue for batch: 13.999403171516047 1.502156548552313e-42\n",
      "stat, pvalue for batch: 15.624469113045507 5.21515134446335e-52\n",
      "stat, pvalue for batch: 15.76017281605207 7.773178284061916e-53\n",
      "stat, pvalue for batch: 14.804510598062608 3.91866830249346e-47\n",
      "stat, pvalue for batch: 16.387422804616083 9.9669662786061e-57\n",
      "stat, pvalue for batch: 13.467233266635912 1.2361975884115479e-39\n",
      "stat, pvalue for batch: 14.977064351844717 3.839048916321273e-48\n",
      "stat, pvalue for batch: 15.188171799839091 2.1744847116973408e-49\n",
      "stat, pvalue for batch: 15.866479403656543 1.7344480876899693e-53\n",
      "stat, pvalue for batch: 15.667077820795937 2.8727767605687855e-52\n",
      "stat, pvalue for batch: 15.09976776249863 7.263895368447161e-49\n",
      "stat, pvalue for batch: 14.804783350566879 3.9043706651735464e-47\n",
      "stat, pvalue for batch: 15.923075883604412 7.77983570778603e-54\n",
      "stat, pvalue for batch: 15.43975347224927 6.816986600641407e-51\n",
      "stat, pvalue for batch: 15.784491812475975 5.519140674863585e-53\n",
      "stat, pvalue for batch: 15.500842561303832 2.921076771135179e-51\n",
      "stat, pvalue for batch: 18.229368956640712 8.353154402133375e-69\n",
      "stat, pvalue for batch: 14.993321117506257 3.0810218597452484e-48\n",
      "stat, pvalue for batch: 16.071030612496678 9.467691117355194e-55\n",
      "stat, pvalue for batch: 15.299078822288305 4.751368943575388e-50\n",
      "stat, pvalue for batch: 17.44081641147089 1.6107781759044291e-63\n",
      "stat, pvalue for batch: 15.197477439985905 1.914603238647119e-49\n",
      "stat, pvalue for batch: 14.009599037236798 1.318139676316232e-42\n",
      "stat, pvalue for batch: 14.564098255569327 9.623248790114272e-46\n",
      "stat, pvalue for batch: 17.50412139099083 6.151495799063248e-64\n",
      "stat, pvalue for batch: 15.018733154191173 2.1837526768771604e-48\n",
      "stat, pvalue for batch: 16.901005838469473 5.328423596852482e-60\n",
      "stat, pvalue for batch: 14.839901592237549 2.4376063536302954e-47\n",
      "stat, pvalue for batch: 15.136029130719642 4.432039819470443e-49\n",
      "stat, pvalue for batch: 15.006924380390187 2.56268797631256e-48\n",
      "stat, pvalue for batch: 14.668729801706087 2.401694504251077e-46\n",
      "stat, pvalue for batch: 17.174475020743817 8.990007802775208e-62\n",
      "stat, pvalue for batch: 13.588908116130959 2.7144133738788444e-40\n",
      "stat, pvalue for batch: 14.782923397648887 5.232458845940798e-47\n",
      "stat, pvalue for batch: 15.258993321353405 8.241255227757682e-50\n",
      "stat, pvalue for batch: 12.718618203718414 1.0835698353169937e-35\n",
      "stat, pvalue for batch: 16.1628514314389 2.5428269585605603e-55\n",
      "stat, pvalue for batch: 15.42569926747722 8.281445073680089e-51\n",
      "stat, pvalue for batch: 14.689779894834706 1.8147982849241914e-46\n",
      "stat, pvalue for batch: 14.80253088898437 4.024019064008024e-47\n",
      "stat, pvalue for batch: 15.635781540828185 4.452111471373836e-52\n",
      "stat, pvalue for batch: 15.20053072623618 1.8362668956614773e-49\n",
      "stat, pvalue for batch: 16.056072238953693 1.1722433184934522e-54\n",
      "stat, pvalue for batch: 14.961690284500069 4.7259625708510525e-48\n",
      "stat, pvalue for batch: 14.982063527869206 3.588028899240423e-48\n",
      "stat, pvalue for batch: 14.636856237666246 3.668701771815008e-46\n",
      "stat, pvalue for batch: 15.656900155864838 3.3129033596231166e-52\n",
      "stat, pvalue for batch: 13.826823073630777 1.3559965162460075e-41\n",
      "stat, pvalue for batch: 15.937376691402292 6.350953808870324e-54\n",
      "stat, pvalue for batch: 14.498708539365419 2.2818902193703363e-45\n",
      "stat, pvalue for batch: 15.767680206743108 6.99366297168066e-53\n",
      "stat, pvalue for batch: 16.308981507373005 3.1017378955831785e-56\n",
      "stat, pvalue for batch: 14.430150835648787 5.623200180162447e-45\n",
      "stat, pvalue for batch: 14.943219983811066 6.065116750536326e-48\n",
      "stat, pvalue for batch: 16.107611727746953 5.611587218713714e-55\n",
      "stat, pvalue for batch: 16.221763208951952 1.0907092952683598e-55\n",
      "stat, pvalue for batch: 15.997103883617562 2.717086620822447e-54\n",
      "stat, pvalue for batch: 15.54812293222332 1.5132582837859224e-51\n",
      "stat, pvalue for batch: 16.639687439305273 2.5169592396599664e-58\n",
      "stat, pvalue for batch: 15.543444664768762 1.6151225834630303e-51\n",
      "stat, pvalue for batch: 16.84135726195646 1.2896811169704805e-59\n",
      "stat, pvalue for batch: 16.395853101523475 8.819987660830391e-57\n",
      "stat, pvalue for batch: 16.83678495169858 1.3799613794511148e-59\n",
      "stat, pvalue for batch: 16.307523857473722 3.1677448220326227e-56\n",
      "stat, pvalue for batch: 16.881986480712005 7.065001438474872e-60\n",
      "stat, pvalue for batch: 14.092088373017054 4.566312513589848e-43\n",
      "stat, pvalue for batch: 13.976398408229574 2.016715247812975e-42\n",
      "stat, pvalue for batch: 15.750009572180195 8.968119383489814e-53\n",
      "stat, pvalue for batch: 15.477327332600987 4.04903294544691e-51\n",
      "stat, pvalue for batch: 14.752548962287994 7.854885850624622e-47\n",
      "stat, pvalue for batch: 14.702498234694529 1.5319233608325787e-46\n",
      "stat, pvalue for batch: 15.460705020798958 5.099069974706375e-51\n",
      "stat, pvalue for batch: 15.857517530135885 1.9688330296773164e-53\n",
      "stat, pvalue for batch: 16.288547743500498 4.166267702900728e-56\n",
      "stat, pvalue for batch: 13.31333182383731 8.277469417086997e-39\n",
      "stat, pvalue for batch: 13.923054199013665 3.986886033022532e-42\n",
      "stat, pvalue for batch: 15.434696241576471 7.311568303179062e-51\n",
      "stat, pvalue for batch: 14.033133827513264 9.746094024452491e-43\n",
      "stat, pvalue for batch: 15.986714706980976 3.15005854761666e-54\n",
      "stat, pvalue for batch: 14.244885037137523 6.324043557977843e-44\n",
      "\n",
      "Размер выборки: 10000\n",
      "Количество экспериментов: 100\n",
      "Размер выборки в эксперименте: 1000\n",
      "Доля случаев, когда H0 была отвергнута: 1.0\n"
     ]
    }
   ],
   "source": [
    "ctr_count = 0\n",
    "\n",
    "ctr_split1 = np.array(ctr_split1)\n",
    "ctr_split2 = np.array(ctr_split2)\n",
    "\n",
    "for _ in range(num_of_experiments):\n",
    "    idx = random.sample(list(range(sample_size)), batch_size)\n",
    "\n",
    "    test_data1 = ctr_split1[idx]\n",
    "    test_data2 = ctr_split2[idx]\n",
    "    ctr_count += check_ttest(test_data1, test_data2)\n",
    "        \n",
    "ctr_acl = ctr_count / num_of_experiments\n",
    "print()\n",
    "\n",
    "print(\"Размер выборки:\", sample_size)\n",
    "print(\"Количество экспериментов:\", num_of_experiments)\n",
    "print(\"Размер выборки в эксперименте:\", batch_size)\n",
    "print(\"Доля случаев, когда H0 была отвергнута:\", ctr_acl)"
   ]
  },
  {
   "cell_type": "markdown",
   "metadata": {},
   "source": [
    "AR"
   ]
  },
  {
   "cell_type": "code",
   "execution_count": 22,
   "metadata": {},
   "outputs": [
    {
     "data": {
      "image/png": "[encoded data removed]",
      "text/plain": [
       "<Figure size 1728x432 with 2 Axes>"
      ]
     },
     "metadata": {
      "needs_background": "light"
     },
     "output_type": "display_data"
    }
   ],
   "source": [
    "fig = plt.figure(figsize=(24, 6))\n",
    "\n",
    "ax1 = plt.subplot(121)\n",
    "plt.hist(ar_split1, 15)\n",
    "\n",
    "ax2 = plt.subplot(122)\n",
    "plt.hist(ar_split2, 15)\n",
    "\n",
    "plt.show()"
   ]
  },
  {
   "cell_type": "code",
   "execution_count": 23,
   "metadata": {},
   "outputs": [
    {
     "name": "stdout",
     "output_type": "stream",
     "text": [
      "stat, pvalue for batch: -16.377773878943465 1.1463249366321468e-56\n",
      "stat, pvalue for batch: -14.834992564537757 2.6036648453295235e-47\n",
      "stat, pvalue for batch: -14.867887971730253 1.6735896694440226e-47\n",
      "stat, pvalue for batch: -14.999941457345955 2.81688136778464e-48\n",
      "stat, pvalue for batch: -16.165268822180494 2.456135824201062e-55\n",
      "stat, pvalue for batch: -15.223792831484168 1.3354137400215438e-49\n",
      "stat, pvalue for batch: -16.77476411717823 3.450365490447292e-59\n",
      "stat, pvalue for batch: -14.805417838589781 3.8713116132161927e-47\n",
      "stat, pvalue for batch: -16.236672277350284 8.800669047522706e-56\n",
      "stat, pvalue for batch: -14.363384705821376 1.348978843787977e-44\n",
      "stat, pvalue for batch: -15.12103430911424 5.437260445900058e-49\n",
      "stat, pvalue for batch: -15.813499460336692 3.66639314211492e-53\n",
      "stat, pvalue for batch: -14.78797946657643 4.890001376578571e-47\n",
      "stat, pvalue for batch: -16.357833697950188 1.5302250401395862e-56\n",
      "stat, pvalue for batch: -15.680206161082676 2.3900182319848763e-52\n",
      "stat, pvalue for batch: -14.338355876770606 1.8711138520393677e-44\n",
      "stat, pvalue for batch: -16.384456326580327 1.0404981481356284e-56\n",
      "stat, pvalue for batch: -15.077325836549173 9.857351362094429e-49\n",
      "stat, pvalue for batch: -14.083568025461044 5.095906213278899e-43\n",
      "stat, pvalue for batch: -15.41266562280486 9.918115986676262e-51\n",
      "stat, pvalue for batch: -15.447677663727406 6.108219219843361e-51\n",
      "stat, pvalue for batch: -17.667633533914753 5.0592525585207696e-65\n",
      "stat, pvalue for batch: -14.56447986225876 9.574794404680674e-46\n",
      "stat, pvalue for batch: -14.503724249366433 2.1358968770628424e-45\n",
      "stat, pvalue for batch: -15.594681457312008 7.906503910021797e-52\n",
      "stat, pvalue for batch: -15.315088356355556 3.812053326699989e-50\n",
      "stat, pvalue for batch: -14.758651965264985 7.23957200283579e-47\n",
      "stat, pvalue for batch: -15.209049345313588 1.6341881719486381e-49\n",
      "stat, pvalue for batch: -14.381635728398171 1.0623408886094797e-44\n",
      "stat, pvalue for batch: -15.025739525297052 1.9858753343339953e-48\n",
      "stat, pvalue for batch: -16.74463616144554 5.380291687715054e-59\n",
      "stat, pvalue for batch: -14.953078691244876 5.309089180772892e-48\n",
      "stat, pvalue for batch: -15.195704702546607 1.9616037858598827e-49\n",
      "stat, pvalue for batch: -14.205353171138372 1.05643506111256e-43\n",
      "stat, pvalue for batch: -15.695234111583298 1.9358682886674414e-52\n",
      "stat, pvalue for batch: -16.35779168085076 1.5311562804466216e-56\n",
      "stat, pvalue for batch: -14.95841187160132 4.9400294552091773e-48\n",
      "stat, pvalue for batch: -14.37707793459496 1.127667113906641e-44\n",
      "stat, pvalue for batch: -17.006988325111685 1.1016330836690546e-60\n",
      "stat, pvalue for batch: -14.887679197913753 1.2823605714206024e-47\n",
      "stat, pvalue for batch: -15.822500738613737 3.228995156237459e-53\n",
      "stat, pvalue for batch: -15.60635467754338 6.717327352224234e-52\n",
      "stat, pvalue for batch: -15.200117673642279 1.846674613246573e-49\n",
      "stat, pvalue for batch: -14.454848106720922 4.0649267434711077e-45\n",
      "stat, pvalue for batch: -16.50594123159055 1.7792183055390918e-57\n",
      "stat, pvalue for batch: -17.151732135823167 1.264729905790208e-61\n",
      "stat, pvalue for batch: -14.478520220912657 2.9770803765289193e-45\n",
      "stat, pvalue for batch: -14.71894433407771 1.2302713116994874e-46\n",
      "stat, pvalue for batch: -15.557857011673732 1.3213679746599274e-51\n",
      "stat, pvalue for batch: -15.066588751912278 1.1406222393594514e-48\n",
      "stat, pvalue for batch: -14.701768582113463 1.5468932759467483e-46\n",
      "stat, pvalue for batch: -15.727614815753098 1.228672161399633e-52\n",
      "stat, pvalue for batch: -15.034399493023203 1.7658087403327705e-48\n",
      "stat, pvalue for batch: -14.949617684959112 5.563159233687136e-48\n",
      "stat, pvalue for batch: -15.705213595166201 1.6829060910172225e-52\n",
      "stat, pvalue for batch: -13.938853789271905 3.2588399106815084e-42\n",
      "stat, pvalue for batch: -15.662542925232158 3.0611864123715432e-52\n",
      "stat, pvalue for batch: -15.02762451975204 1.935758144557188e-48\n",
      "stat, pvalue for batch: -15.510090788394223 2.568773380597649e-51\n",
      "stat, pvalue for batch: -16.294607786284175 3.817304188922077e-56\n",
      "stat, pvalue for batch: -13.723427013613705 5.013183973329478e-41\n",
      "stat, pvalue for batch: -14.889206202588273 1.2562697683723105e-47\n",
      "stat, pvalue for batch: -12.978357057921247 4.8766577205842595e-37\n",
      "stat, pvalue for batch: -14.71353608848037 1.322294936832832e-46\n",
      "stat, pvalue for batch: -15.33248157390291 3.0001489546963863e-50\n",
      "stat, pvalue for batch: -15.236146346159295 1.1274378292931984e-49\n",
      "stat, pvalue for batch: -15.905075040679044 1.0041943872701972e-53\n",
      "stat, pvalue for batch: -16.406743883860923 7.530884690655633e-57\n",
      "stat, pvalue for batch: -15.765708879373395 7.190471730692547e-53\n",
      "stat, pvalue for batch: -13.188183791570378 3.8338701588788317e-38\n",
      "stat, pvalue for batch: -14.901473674366128 1.0649713863213701e-47\n",
      "stat, pvalue for batch: -14.87554367744667 1.5098425010637694e-47\n",
      "stat, pvalue for batch: -14.883664200982924 1.3535657763787063e-47\n",
      "stat, pvalue for batch: -14.81176193742354 3.5557127351712796e-47\n",
      "stat, pvalue for batch: -16.015908600360525 2.078696131300076e-54\n",
      "stat, pvalue for batch: -15.26674711670578 7.409139706176806e-50\n",
      "stat, pvalue for batch: -15.194916270754593 1.9828750677855878e-49\n",
      "stat, pvalue for batch: -14.898265392425838 1.1120024415014124e-47\n",
      "stat, pvalue for batch: -15.07700415776582 9.9005572865922e-49\n",
      "stat, pvalue for batch: -14.465865485617535 3.5165890131767716e-45\n",
      "stat, pvalue for batch: -15.210942967101667 1.5923684343757068e-49\n",
      "stat, pvalue for batch: -15.881780052151907 1.3967641857958893e-53\n",
      "stat, pvalue for batch: -15.236326251334612 1.1246607352123213e-49\n",
      "stat, pvalue for batch: -15.534795205121638 1.8217837119599803e-51\n",
      "stat, pvalue for batch: -15.486839136140667 3.54822080796564e-51\n",
      "stat, pvalue for batch: -15.10131615137028 7.112392540399825e-49\n",
      "stat, pvalue for batch: -15.95130112476026 5.2115712788053704e-54\n",
      "stat, pvalue for batch: -15.01105609689117 2.423183513128241e-48\n",
      "stat, pvalue for batch: -16.48618851871681 2.3726383863651223e-57\n",
      "stat, pvalue for batch: -15.015548896879592 2.2800607291691716e-48\n",
      "stat, pvalue for batch: -16.401361380579893 8.142636318533205e-57\n",
      "stat, pvalue for batch: -14.723736976135703 1.154068826476256e-46\n",
      "stat, pvalue for batch: -17.163034887519483 1.067443097011115e-61\n",
      "stat, pvalue for batch: -15.824196407052355 3.152618423965168e-53\n",
      "stat, pvalue for batch: -15.1123616584425 6.1192019327618e-49\n",
      "stat, pvalue for batch: -15.55655687468797 1.3455226311006868e-51\n",
      "stat, pvalue for batch: -16.075720518160463 8.854073496699003e-55\n",
      "stat, pvalue for batch: -16.275911802626876 4.999509630450322e-56\n",
      "stat, pvalue for batch: -13.867199558329329 8.120185534830324e-42\n",
      "stat, pvalue for batch: -17.804661971743364 6.155936459898032e-66\n",
      "\n",
      "Размер выборки: 10000\n",
      "Количество экспериментов: 100\n",
      "Размер выборки в эксперименте: 1000\n",
      "Доля случаев, когда H0 была отвергнута: 0.0\n"
     ]
    }
   ],
   "source": [
    "count = 0\n",
    "\n",
    "ar_split1 = np.array(ar_split1)\n",
    "ar_split2 = np.array(ar_split2)\n",
    "\n",
    "for _ in range(num_of_experiments):\n",
    "    idx = random.sample(list(range(sample_size)), batch_size)\n",
    "\n",
    "    test_data1 = ar_split1[idx]\n",
    "    test_data2 = ar_split2[idx]\n",
    "    count += check_ttest(test_data1, test_data2)\n",
    "        \n",
    "acl = count / num_of_experiments\n",
    "print()\n",
    "\n",
    "print(\"Размер выборки:\", sample_size)\n",
    "print(\"Количество экспериментов:\", num_of_experiments)\n",
    "print(\"Размер выборки в эксперименте:\", batch_size)\n",
    "print(\"Доля случаев, когда H0 была отвергнута:\", acl)"
   ]
  },
  {
   "cell_type": "markdown",
   "metadata": {},
   "source": [
    "Доля кликов на первый документ (click@1)"
   ]
  },
  {
   "cell_type": "code",
   "execution_count": 42,
   "metadata": {},
   "outputs": [
    {
     "data": {
      "image/png": "[encoded data removed]",
      "text/plain": [
       "<Figure size 1728x432 with 2 Axes>"
      ]
     },
     "metadata": {
      "needs_background": "light"
     },
     "output_type": "display_data"
    }
   ],
   "source": [
    "fig = plt.figure(figsize=(24, 6))\n",
    "\n",
    "ax1 = plt.subplot(121)\n",
    "plt.hist(cf_split1, 15)\n",
    "\n",
    "ax2 = plt.subplot(122)\n",
    "plt.hist(cf_split2, 15)\n",
    "\n",
    "plt.show()"
   ]
  },
  {
   "cell_type": "code",
   "execution_count": 43,
   "metadata": {},
   "outputs": [
    {
     "name": "stdout",
     "output_type": "stream",
     "text": [
      "stat, pvalue for batch: 73.16640296143132 0.0\n",
      "stat, pvalue for batch: 73.23271696866088 0.0\n",
      "stat, pvalue for batch: 76.78037981672041 0.0\n",
      "stat, pvalue for batch: 71.8925959292488 0.0\n",
      "stat, pvalue for batch: 72.53185654075553 0.0\n",
      "stat, pvalue for batch: 71.68673790133681 0.0\n",
      "stat, pvalue for batch: 73.17851719884166 0.0\n",
      "stat, pvalue for batch: 74.64244870182887 0.0\n",
      "stat, pvalue for batch: 74.99429466798756 0.0\n",
      "stat, pvalue for batch: 73.24795057207766 0.0\n",
      "stat, pvalue for batch: 74.25310910398262 0.0\n",
      "stat, pvalue for batch: 73.97223657777099 0.0\n",
      "stat, pvalue for batch: 73.46505178553593 0.0\n",
      "stat, pvalue for batch: 72.30662997245047 0.0\n",
      "stat, pvalue for batch: 72.87923651734468 0.0\n",
      "stat, pvalue for batch: 74.4862142768792 0.0\n",
      "stat, pvalue for batch: 76.54747593314006 0.0\n",
      "stat, pvalue for batch: 72.59069886525423 0.0\n",
      "stat, pvalue for batch: 75.32845131583782 0.0\n",
      "stat, pvalue for batch: 73.83936635864211 0.0\n",
      "stat, pvalue for batch: 70.76622683684047 0.0\n",
      "stat, pvalue for batch: 72.85132020153951 0.0\n",
      "stat, pvalue for batch: 75.80239727766073 0.0\n",
      "stat, pvalue for batch: 72.56764291111064 0.0\n",
      "stat, pvalue for batch: 73.10570302874454 0.0\n",
      "stat, pvalue for batch: 71.66201502478962 0.0\n",
      "stat, pvalue for batch: 74.60082342283079 0.0\n",
      "stat, pvalue for batch: 75.7325326918674 0.0\n",
      "stat, pvalue for batch: 75.06909772219423 0.0\n",
      "stat, pvalue for batch: 77.76573132606963 0.0\n",
      "stat, pvalue for batch: 74.60282310535821 0.0\n",
      "stat, pvalue for batch: 75.99455333905685 0.0\n",
      "stat, pvalue for batch: 72.34803389603647 0.0\n",
      "stat, pvalue for batch: 75.47290644690986 0.0\n",
      "stat, pvalue for batch: 74.51093869289359 0.0\n",
      "stat, pvalue for batch: 75.32353290742176 0.0\n",
      "stat, pvalue for batch: 76.00148022249704 0.0\n",
      "stat, pvalue for batch: 73.6507937883897 0.0\n",
      "stat, pvalue for batch: 74.86163178668103 0.0\n",
      "stat, pvalue for batch: 71.78310011372385 0.0\n",
      "stat, pvalue for batch: 75.65872326107836 0.0\n",
      "stat, pvalue for batch: 70.82775933238294 0.0\n",
      "stat, pvalue for batch: 73.30923203488116 0.0\n",
      "stat, pvalue for batch: 72.75656759593241 0.0\n",
      "stat, pvalue for batch: 72.69291862505521 0.0\n",
      "stat, pvalue for batch: 71.31065987102346 0.0\n",
      "stat, pvalue for batch: 74.42252939195254 0.0\n",
      "stat, pvalue for batch: 73.26757364557294 0.0\n",
      "stat, pvalue for batch: 71.75327299012513 0.0\n",
      "stat, pvalue for batch: 74.29051323978483 0.0\n",
      "stat, pvalue for batch: 72.65065182867338 0.0\n",
      "stat, pvalue for batch: 71.13308429375017 0.0\n",
      "stat, pvalue for batch: 74.32072893655041 0.0\n",
      "stat, pvalue for batch: 67.96058261977974 0.0\n",
      "stat, pvalue for batch: 73.4945588542987 0.0\n",
      "stat, pvalue for batch: 70.04013517685014 0.0\n",
      "stat, pvalue for batch: 72.81068654800178 0.0\n",
      "stat, pvalue for batch: 73.8173902615274 0.0\n",
      "stat, pvalue for batch: 75.28158379602608 0.0\n",
      "stat, pvalue for batch: 74.93516035956611 0.0\n",
      "stat, pvalue for batch: 74.1277563617971 0.0\n",
      "stat, pvalue for batch: 71.03659332169146 0.0\n",
      "stat, pvalue for batch: 71.7934764427059 0.0\n",
      "stat, pvalue for batch: 72.86363077350842 0.0\n",
      "stat, pvalue for batch: 73.49364708669903 0.0\n",
      "stat, pvalue for batch: 74.17741272305742 0.0\n",
      "stat, pvalue for batch: 75.54255737166596 0.0\n",
      "stat, pvalue for batch: 75.00924765675308 0.0\n",
      "stat, pvalue for batch: 73.87705801674157 0.0\n",
      "stat, pvalue for batch: 75.06772916785843 0.0\n",
      "stat, pvalue for batch: 72.45266871751117 0.0\n",
      "stat, pvalue for batch: 73.38080158886649 0.0\n",
      "stat, pvalue for batch: 75.32750458335032 0.0\n",
      "stat, pvalue for batch: 73.06203242857924 0.0\n",
      "stat, pvalue for batch: 72.16500881674934 0.0\n",
      "stat, pvalue for batch: 74.57606976889151 0.0\n",
      "stat, pvalue for batch: 73.1523562056678 0.0\n",
      "stat, pvalue for batch: 72.93713681521055 0.0\n",
      "stat, pvalue for batch: 73.89610311608838 0.0\n",
      "stat, pvalue for batch: 73.50075336727282 0.0\n",
      "stat, pvalue for batch: 73.3818835194896 0.0\n",
      "stat, pvalue for batch: 72.68269745946468 0.0\n",
      "stat, pvalue for batch: 74.01827679763889 0.0\n",
      "stat, pvalue for batch: 71.66207285181238 0.0\n",
      "stat, pvalue for batch: 77.2586438322336 0.0\n",
      "stat, pvalue for batch: 74.67056912392425 0.0\n",
      "stat, pvalue for batch: 75.49766727366357 0.0\n",
      "stat, pvalue for batch: 75.6830985911045 0.0\n",
      "stat, pvalue for batch: 74.97034276680928 0.0\n",
      "stat, pvalue for batch: 73.49643355193169 0.0\n",
      "stat, pvalue for batch: 74.55005278882886 0.0\n",
      "stat, pvalue for batch: 75.27224502979084 0.0\n",
      "stat, pvalue for batch: 72.00785618258381 0.0\n",
      "stat, pvalue for batch: 73.25096235590694 0.0\n",
      "stat, pvalue for batch: 75.25048915260831 0.0\n",
      "stat, pvalue for batch: 75.86982094941858 0.0\n",
      "stat, pvalue for batch: 74.95309060205146 0.0\n",
      "stat, pvalue for batch: 72.31201738380942 0.0\n",
      "stat, pvalue for batch: 75.89236244485993 0.0\n",
      "stat, pvalue for batch: 72.86791863301518 0.0\n",
      "\n",
      "Размер выборки: 10000\n",
      "Количество экспериментов: 100\n",
      "Размер выборки в эксперименте: 1000\n",
      "Доля случаев, когда H0 была отвергнута: 1.0\n"
     ]
    }
   ],
   "source": [
    "count = 0\n",
    "\n",
    "cf_split1 = np.array(cf_split1)\n",
    "cf_split2 = np.array(cf_split2)\n",
    "\n",
    "for _ in range(num_of_experiments):\n",
    "    idx = random.sample(list(range(sample_size)), batch_size)\n",
    "\n",
    "    test_data1 = cf_split1[idx]\n",
    "    test_data2 = cf_split2[idx]\n",
    "    count += check_ttest(test_data1, test_data2)\n",
    "        \n",
    "acl = count / num_of_experiments\n",
    "print()\n",
    "\n",
    "print(\"Размер выборки:\", sample_size)\n",
    "print(\"Количество экспериментов:\", num_of_experiments)\n",
    "print(\"Размер выборки в эксперименте:\", batch_size)\n",
    "print(\"Доля случаев, когда H0 была отвергнута:\", acl)"
   ]
  },
  {
   "cell_type": "markdown",
   "metadata": {},
   "source": [
    "Во втором сплите увеличилось среднее по метрике AR, уменьшилось по метрике Click@1, CTR. Все это свидетельствует об ухудшении выдачи, то есть сплит 2 хуже, чем сплит 1."
   ]
  }
 ],
 "metadata": {
  "kernelspec": {
   "display_name": "Python 3",
   "language": "python",
   "name": "python3"
  },
  "language_info": {
   "codemirror_mode": {
    "name": "ipython",
    "version": 3
   },
   "file_extension": ".py",
   "mimetype": "text/x-python",
   "name": "python",
   "nbconvert_exporter": "python",
   "pygments_lexer": "ipython3",
   "version": "3.7.0"
  }
 },
 "nbformat": 4,
 "nbformat_minor": 2
}
